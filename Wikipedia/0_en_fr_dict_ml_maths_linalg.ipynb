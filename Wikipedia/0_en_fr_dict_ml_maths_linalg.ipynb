{
 "cells": [
  {
   "cell_type": "markdown",
   "metadata": {},
   "source": [
    "# **Maths for Machine learning : linear algebra**"
   ]
  },
  {
   "cell_type": "markdown",
   "metadata": {},
   "source": [
    "# ⚓ [**Numerical linear algebra**](https://en.wikipedia.org/wiki/Numerical_linear_algebra)<br/>([*Analyse numérique matricielle*](https://fr.wikipedia.org/wiki/Théorie_des_probabilités))\n",
    "\n",
    "**Category**: [**Numerical linear algebra**](https://en.wikipedia.org/wiki/Category:Numerical_linear_algebra) ([*Analyse numérique matricielle*](https://fr.wikipedia.org/wiki/Catégorie:Analyse_numérique_matricielle))\n",
    "\n",
    "**Categories**: Numerical linear algebra · Computational fields of study"
   ]
  },
  {
   "cell_type": "markdown",
   "metadata": {},
   "source": [
    "#### ⦿ [**Sparse matrix**](https://en.wikipedia.org/wiki/Sparse_matrix) ([*Matrice creuse*](https://fr.wikipedia.org/wiki/Matrice_creuse))\n",
    "\n",
    "En analyse numérique et en calcul scientifique, une **matrice creuse** ou *tableau creux* est une matrice dans laquelle la plupart des éléments sont nuls.\n",
    "\n",
    "**Wrong translations**: *matrice clairsemée*, *matrice parcimonieuse*\n",
    "\n",
    "**Categories**: Sparse matrices · Arrays"
   ]
  }
 ],
 "metadata": {
  "kernelspec": {
   "display_name": "Python 3.9.12 ('base')",
   "language": "python",
   "name": "python3"
  },
  "language_info": {
   "name": "python",
   "version": "3.9.12 (main, Apr  4 2022, 05:22:27) [MSC v.1916 64 bit (AMD64)]"
  },
  "orig_nbformat": 4,
  "vscode": {
   "interpreter": {
    "hash": "e03b612d84ba21ce95ed447e81b3062e1eb99b56c6d885cdab4aaa12f1b8e240"
   }
  }
 },
 "nbformat": 4,
 "nbformat_minor": 2
}

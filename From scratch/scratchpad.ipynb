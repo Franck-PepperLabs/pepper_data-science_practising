{
 "cells": [
  {
   "cell_type": "markdown",
   "metadata": {},
   "source": [
    "# Main\n",
    "\n",
    "<mark>TODO</mark> récupérer le modèle de génération aléatoire de la doc Seaborn et en faire une petite fonction réutilisable - ajouter la possibilité d'un modèle mais avec du bruitage"
   ]
  },
  {
   "cell_type": "markdown",
   "metadata": {},
   "source": [
    "# Reproduction de la validation croisée de `sklearn.GridSearchCV`\n",
    "\n",
    "        clf = model_selection.GridSearchCV(\n",
    "            neighbors.KNeighborsClassifier(),  # un classifieur kNN\n",
    "            param_grid,                        # hyperparamètres à tester\n",
    "            cv=5,                              # nombre de folds de validation croisée\n",
    "            scoring=score                      # score à optimiser\n",
    "        )\n",
    "\n",
    "\n",
    "Etapes :\n",
    "1. ne pas me laisser déconcentrer par l'extérieur\n",
    "2. s'aligner sur la signature de la fonction, bien étudier les paramètres dans la doc d'API\n",
    "    - C'est là : [sklearn.model_selection.GridSearchCV](https://scikit-learn.org/stable/modules/generated/sklearn.model_selection.GridSearchCV.html)\n",
    "3. reprendre la description pas à pas donnée dans le cours\n",
    "    - C'est là : [Sélectionnez le nombre de voisins dans un kNN](https://openclassrooms.com/fr/courses/4297211-evaluez-les-performances-dun-modele-de-machine-learning/4308246-tp-selectionnez-le-nombre-de-voisins-dans-un-knn)\n",
    "\n",
    "\n",
    "4. Le User Guide / Grid Search me laisse entendre qu'après avoir joué le jeu du cours, je dois me rabattre sur la répétition complète des très bons tutos de ScikitLearn : [GridSearch](https://scikit-learn.org/stable/modules/grid_search.html#grid-search).\n",
    "    - [Code source ici](https://github.com/scikit-learn/scikit-learn/blob/36958fb24/sklearn/model_selection/_search.py#L1021)\n"
   ]
  },
  {
   "cell_type": "markdown",
   "metadata": {},
   "source": [
    "## Comprendre les paramètres de la fonction\n",
    "\n",
    "Tarduction doc :\n",
    "\n",
    "Recherche exhaustive sur un ensemble spécifié de valeurs de paramètres pour un estimateur.\n",
    "\n",
    "Les membres important sont `fit` et `predict`.\n",
    "\n",
    "`GridSearchCV` définit des méthodes `fit` et `score`. Il définit également `score_samples`, `predict`, `predict_proba`, `decision_function`, `transform` et `inverse_tranform` si elles sont définies dans l'estimateur utilisé.\n",
    "\n",
    "Les paramètres de l'estimateur utilisés pour appliquer ces méthodes sont optimisés par une grille de recherche à validation croisée sur une grille de paramètres.\n",
    "\n",
    "Pour en savoir plus : [Guide utilisateur](https://scikit-learn.org/stable/modules/grid_search.html#grid-search).\n",
    "\n",
    "\n",
    "Arguments :\n",
    "* > `estimator` : un objet qui implémente l'interface `Estimator` de `scikit-learn`.\n",
    "* > `param_grid` : dictionnaire, ou liste de dictionnaires, avec pour clés les noms des paramètres, et pour valeur, la liste des valeurs à tester pour le paramètre.\n",
    "* > `scoring` : stratégie d'évaluation de la performance de la validation croisée sur l'ensemble de test.\n",
    "    - peut être un score simple, des scores multiples, soit une référence à des scores types, soit personnalisé\n",
    "    - voir approfondissement scoring ci-dessous\n",
    "* `n_jobs` : pour paralléliser : ce n'est pas ce qui nous préoccupe dans l'exercice de reproduction\n",
    "* `refit` : vrai par défaut, personalisable. Recalibre l'estimateur sur le meilleur choix de valeur d'hyperparamètre, et définit la stratégie de sélection.\n",
    "* > `cv` : définit la stratégie de validation croisée. Par défaut, division en 5 plis. Le guide utilisateur préciser les multiples variations possibles de cette stratégie.\n",
    "* `verbose` : no comment, sinon que les seuils de verbosité son > 1, > 2, > 3\n",
    "* `pre_dispatch` : vient avec `n_jobs` : par défaut, c'est 2 x `n_jobs` : ... pas la problématique du moment, mais pourra le devenir dans le cadre de P4.\n",
    "* `err_score` : par défaut, pas de raise. Permet d'être alerté. Dans tous les cas, raise au moment du `refit`.\n",
    "* `return_train_score` : par défaut à False car coûteux et non indispensable pour sélectionner les paramètres qui permettent la meilleure performance de généralisation.. mais très intéressant dans mon cadre d'apprentissage.\n",
    "\n",
    "Attributs de l'objet pour récupérer les résultats : ... sur une prochaine passe... je dois passer au concret du code...\n",
    "\n",
    "\n",
    "\n",
    "\n",
    "\n",
    "\n",
    "\n",
    "Aprofondissement scoring :\n",
    "* Il n'y a pas que l'accurracy du cours : il faudra tous les essayer : [3.3.1. The scoring parameter: defining model evaluation rules](https://scikit-learn.org/stable/modules/model_evaluation.html#the-scoring-parameter-defining-model-evaluation-rules)\n"
   ]
  },
  {
   "cell_type": "code",
   "execution_count": null,
   "metadata": {},
   "outputs": [],
   "source": [
    "\"\"\"\n",
    "Signature de la fonction sklearn.model_selection.GridSearchCV¶\n",
    " class sklearn.model_selection.GridSearchCV(\n",
    "    estimator,\n",
    "    param_grid,\n",
    "    *,\n",
    "    scoring=None,\n",
    "    n_jobs=None,\n",
    "    refit=True,\n",
    "    cv=None,\n",
    "    verbose=0,\n",
    "    pre_dispatch='2*n_jobs',\n",
    "    error_score=nan,\n",
    "    return_train_score=False)[source]¶\n",
    "\"\"\""
   ]
  },
  {
   "cell_type": "markdown",
   "metadata": {},
   "source": [
    "## Les briques"
   ]
  },
  {
   "cell_type": "code",
   "execution_count": 1,
   "metadata": {},
   "outputs": [],
   "source": [
    "from scratchpad import *\n",
    "import pandas as pd\n",
    "data = pd.read_csv('winequality-white.csv', sep=';')\n",
    "X = data[data.columns[:-1]].values       # points\n",
    "y = data.quality.values                  # étiquettes\n",
    "import numpy as np\n",
    "y_class = np.where(y < 6, 0, 1)\n",
    "from sklearn import model_selection\n",
    "X_train, X_test, y_train, y_test = model_selection.train_test_split(X, y_class, test_size=.3) # 30 % pour test\n",
    "from sklearn import preprocessing\n",
    "std_scale = preprocessing.StandardScaler().fit(X_train)\n",
    "X_train_std = std_scale.transform(X_train)\n",
    "X_test_std = std_scale.transform(X_test)"
   ]
  },
  {
   "cell_type": "code",
   "execution_count": 2,
   "metadata": {},
   "outputs": [
    {
     "ename": "ValueError",
     "evalue": "all the input arrays must have same number of dimensions, but the array at index 0 has 2 dimension(s) and the array at index 1 has 1 dimension(s)",
     "output_type": "error",
     "traceback": [
      "\u001b[1;31m---------------------------------------------------------------------------\u001b[0m",
      "\u001b[1;31mValueError\u001b[0m                                Traceback (most recent call last)",
      "\u001b[1;32mc:\\Users\\franc\\Projects\\pepper_data-science_practising\\From scratch\\scratchpad.ipynb Cellule 7\u001b[0m in \u001b[0;36m<cell line: 1>\u001b[1;34m()\u001b[0m\n\u001b[1;32m----> <a href='vscode-notebook-cell:/c%3A/Users/franc/Projects/pepper_data-science_practising/From%20scratch/scratchpad.ipynb#W5sZmlsZQ%3D%3D?line=0'>1</a>\u001b[0m demo_parts_shapes(X_train_std, y_train)\n",
      "File \u001b[1;32mc:\\Users\\franc\\Projects\\pepper_data-science_practising\\From scratch\\scratchpad.py:113\u001b[0m, in \u001b[0;36mdemo_parts_shapes\u001b[1;34m(X, y)\u001b[0m\n\u001b[0;32m    112\u001b[0m \u001b[39mdef\u001b[39;00m \u001b[39mdemo_parts_shapes\u001b[39m(X, y):\n\u001b[1;32m--> 113\u001b[0m     X_parts, y_parts \u001b[39m=\u001b[39m pepper_dataset_split(X, y, \u001b[39m5\u001b[39;49m)\n\u001b[0;32m    114\u001b[0m     \u001b[39mprint\u001b[39m([p\u001b[39m.\u001b[39mshape \u001b[39mfor\u001b[39;00m p \u001b[39min\u001b[39;00m X_parts])\n\u001b[0;32m    115\u001b[0m     \u001b[39mprint\u001b[39m([\u001b[39mlen\u001b[39m(p) \u001b[39mfor\u001b[39;00m p \u001b[39min\u001b[39;00m y_parts])\n",
      "File \u001b[1;32mc:\\Users\\franc\\Projects\\pepper_data-science_practising\\From scratch\\scratchpad.py:37\u001b[0m, in \u001b[0;36mpepper_dataset_split\u001b[1;34m(X, y, k, sizes)\u001b[0m\n\u001b[0;32m     34\u001b[0m \u001b[39mif\u001b[39;00m sizes \u001b[39mis\u001b[39;00m \u001b[39mnot\u001b[39;00m \u001b[39mNone\u001b[39;00m \u001b[39mand\u001b[39;00m \u001b[39msum\u001b[39m(sizes) \u001b[39m!=\u001b[39m \u001b[39m1\u001b[39m:\n\u001b[0;32m     35\u001b[0m     \u001b[39mraise\u001b[39;00m \u001b[39mValueError\u001b[39;00m(\u001b[39m'\u001b[39m\u001b[39msum of sizes elements must be 1\u001b[39m\u001b[39m'\u001b[39m)\n\u001b[1;32m---> 37\u001b[0m X_y \u001b[39m=\u001b[39m np\u001b[39m.\u001b[39;49mconcatenate((X, y), axis\u001b[39m=\u001b[39;49m\u001b[39m1\u001b[39;49m)\n\u001b[0;32m     39\u001b[0m rng \u001b[39m=\u001b[39m default_rng()\n\u001b[0;32m     40\u001b[0m rng\u001b[39m.\u001b[39mshuffle(X_y)\n",
      "File \u001b[1;32m<__array_function__ internals>:5\u001b[0m, in \u001b[0;36mconcatenate\u001b[1;34m(*args, **kwargs)\u001b[0m\n",
      "\u001b[1;31mValueError\u001b[0m: all the input arrays must have same number of dimensions, but the array at index 0 has 2 dimension(s) and the array at index 1 has 1 dimension(s)"
     ]
    }
   ],
   "source": [
    "demo_parts_shapes(X_train_std, y_train)"
   ]
  },
  {
   "cell_type": "code",
   "execution_count": null,
   "metadata": {},
   "outputs": [
    {
     "name": "stdout",
     "output_type": "stream",
     "text": [
      "X shape (3428, 11) y shape (3428, 1)\n",
      "[(686, 11), (686, 11), (686, 11), (685, 11), (685, 11)]\n",
      "[686, 686, 686, 685, 685]\n"
     ]
    }
   ],
   "source": [
    "demo_parts_shapes(X_train_std, y_train)"
   ]
  },
  {
   "cell_type": "code",
   "execution_count": null,
   "metadata": {},
   "outputs": [
    {
     "name": "stdout",
     "output_type": "stream",
     "text": [
      "[(1, 'a', 0.5), (1, 'a', 1.5), (1, 'a', 7.5), (1, 'b', 0.5), (1, 'b', 1.5), (1, 'b', 7.5), (1, 'c', 0.5), (1, 'c', 1.5), (1, 'c', 7.5), (2, 'a', 0.5), (2, 'a', 1.5), (2, 'a', 7.5), (2, 'b', 0.5), (2, 'b', 1.5), (2, 'b', 7.5), (2, 'c', 0.5), (2, 'c', 1.5), (2, 'c', 7.5), (3, 'a', 0.5), (3, 'a', 1.5), (3, 'a', 7.5), (3, 'b', 0.5), (3, 'b', 1.5), (3, 'b', 7.5), (3, 'c', 0.5), (3, 'c', 1.5), (3, 'c', 7.5), (4, 'a', 0.5), (4, 'a', 1.5), (4, 'a', 7.5), (4, 'b', 0.5), (4, 'b', 1.5), (4, 'b', 7.5), (4, 'c', 0.5), (4, 'c', 1.5), (4, 'c', 7.5)]\n"
     ]
    }
   ],
   "source": [
    "demo_cartesian_product()"
   ]
  },
  {
   "cell_type": "code",
   "execution_count": null,
   "metadata": {},
   "outputs": [
    {
     "name": "stdout",
     "output_type": "stream",
     "text": [
      "[1, 2, 3, 4]\n",
      "['a', 'b', 'c']\n",
      "[0.5, 1.5, 7.5]\n",
      "[[1, 2, 3, 4], ['a', 'b', 'c'], [0.5, 1.5, 7.5]]\n",
      "[(1, 'a', 0.5), (1, 'a', 1.5), (1, 'a', 7.5), (1, 'b', 0.5), (1, 'b', 1.5), (1, 'b', 7.5), (1, 'c', 0.5), (1, 'c', 1.5), (1, 'c', 7.5), (2, 'a', 0.5), (2, 'a', 1.5), (2, 'a', 7.5), (2, 'b', 0.5), (2, 'b', 1.5), (2, 'b', 7.5), (2, 'c', 0.5), (2, 'c', 1.5), (2, 'c', 7.5), (3, 'a', 0.5), (3, 'a', 1.5), (3, 'a', 7.5), (3, 'b', 0.5), (3, 'b', 1.5), (3, 'b', 7.5), (3, 'c', 0.5), (3, 'c', 1.5), (3, 'c', 7.5), (4, 'a', 0.5), (4, 'a', 1.5), (4, 'a', 7.5), (4, 'b', 0.5), (4, 'b', 1.5), (4, 'b', 7.5), (4, 'c', 0.5), (4, 'c', 1.5), (4, 'c', 7.5)]\n"
     ]
    }
   ],
   "source": [
    "demo_cartesian_product_from_dict()"
   ]
  },
  {
   "cell_type": "code",
   "execution_count": null,
   "metadata": {},
   "outputs": [
    {
     "ename": "TypeError",
     "evalue": "__new__() missing 3 required positional arguments: 'name', 'bases', and 'namespace'",
     "output_type": "error",
     "traceback": [
      "\u001b[1;31m---------------------------------------------------------------------------\u001b[0m\n",
      "\u001b[1;31mTypeError\u001b[0m                                 Traceback (most recent call last)\n",
      "\u001b[1;32mc:\\Users\\franc\\Projects\\pepper_data-science_practising\\OC DS\\P4 C1 Evaluez les performances d'un modèle de machine learning\\4297211_ml_model_perf_eval.ipynb Cellule 32\u001b[0m in \u001b[0;36m<cell line: 3>\u001b[1;34m()\u001b[0m\n",
      "\u001b[0;32m      <a href='vscode-notebook-cell:/c%3A/Users/franc/Projects/pepper_data-science_practising/OC%20DS/P4%20C1%20Evaluez%20les%20performances%20d%27un%20mod%C3%A8le%20de%20machine%20learning/4297211_ml_model_perf_eval.ipynb#X46sZmlsZQ%3D%3D?line=0'>1</a>\u001b[0m \u001b[39mfrom\u001b[39;00m \u001b[39msklearn\u001b[39;00m \u001b[39mimport\u001b[39;00m neighbors\n",
      "\u001b[0;32m      <a href='vscode-notebook-cell:/c%3A/Users/franc/Projects/pepper_data-science_practising/OC%20DS/P4%20C1%20Evaluez%20les%20performances%20d%27un%20mod%C3%A8le%20de%20machine%20learning/4297211_ml_model_perf_eval.ipynb#X46sZmlsZQ%3D%3D?line=1'>2</a>\u001b[0m knn_class \u001b[39m=\u001b[39m \u001b[39mtype\u001b[39m(neighbors\u001b[39m.\u001b[39mKNeighborsClassifier)\n",
      "\u001b[1;32m----> <a href='vscode-notebook-cell:/c%3A/Users/franc/Projects/pepper_data-science_practising/OC%20DS/P4%20C1%20Evaluez%20les%20performances%20d%27un%20mod%C3%A8le%20de%20machine%20learning/4297211_ml_model_perf_eval.ipynb#X46sZmlsZQ%3D%3D?line=2'>3</a>\u001b[0m knn \u001b[39m=\u001b[39m knn_class(n_neighbors\u001b[39m=\u001b[39;49m\u001b[39m3\u001b[39;49m)\n",
      "\u001b[0;32m      <a href='vscode-notebook-cell:/c%3A/Users/franc/Projects/pepper_data-science_practising/OC%20DS/P4%20C1%20Evaluez%20les%20performances%20d%27un%20mod%C3%A8le%20de%20machine%20learning/4297211_ml_model_perf_eval.ipynb#X46sZmlsZQ%3D%3D?line=3'>4</a>\u001b[0m \u001b[39mprint\u001b[39m(knn)\n",
      "\n",
      "\u001b[1;31mTypeError\u001b[0m: __new__() missing 3 required positional arguments: 'name', 'bases', and 'namespace'"
     ]
    }
   ],
   "source": [
    "demo_instanciate_from_type()"
   ]
  },
  {
   "cell_type": "code",
   "execution_count": null,
   "metadata": {},
   "outputs": [
    {
     "name": "stdout",
     "output_type": "stream",
     "text": [
      "1 2 3\n",
      "1 2 3\n",
      "['a', 'c', 'b']\n",
      "[('a', 3), ('c', 5), ('b', 7)]\n",
      "{'a': 3, 'c': 5, 'b': 7}\n"
     ]
    }
   ],
   "source": [
    "demo_dict_to_kwargs()"
   ]
  },
  {
   "cell_type": "code",
   "execution_count": null,
   "metadata": {},
   "outputs": [
    {
     "name": "stdout",
     "output_type": "stream",
     "text": [
      "1\n",
      "[(1,), (2,), (3,), (4,), (5,), (6,), (7,), (8,), (9,), (10,), (11,), (12,), (13,), (14,), (15,), (16,), (17,)]\n",
      "{'n_neighbors': 4}\n",
      "[1 1 1 ... 1 1 1]\n",
      "[ True  True False ... False  True  True]\n",
      "1470\n",
      "1083\n",
      "perf 73.67 %\n"
     ]
    }
   ],
   "source": [
    "demo_grid_search_step(X_train_std, y_train, X_test_std, y_test)"
   ]
  },
  {
   "cell_type": "markdown",
   "metadata": {},
   "source": [
    "## Le test de reproduction"
   ]
  },
  {
   "cell_type": "code",
   "execution_count": null,
   "metadata": {},
   "outputs": [
    {
     "name": "stdout",
     "output_type": "stream",
     "text": [
      "Meilleur(s) hyperparamètre(s) sur le jeu d'entraînement:\n",
      "{'n_neighbors': 11}\n",
      "Résultats de la validation croisée :\n",
      "accuracy = 0.721 (+/-0.037) for {'n_neighbors': 2}\n",
      "accuracy = 0.753 (+/-0.029) for {'n_neighbors': 3}\n",
      "accuracy = 0.747 (+/-0.038) for {'n_neighbors': 4}\n",
      "accuracy = 0.758 (+/-0.027) for {'n_neighbors': 5}\n",
      "accuracy = 0.760 (+/-0.033) for {'n_neighbors': 6}\n",
      "accuracy = 0.771 (+/-0.025) for {'n_neighbors': 7}\n",
      "accuracy = 0.765 (+/-0.028) for {'n_neighbors': 8}\n",
      "accuracy = 0.768 (+/-0.022) for {'n_neighbors': 9}\n",
      "accuracy = 0.770 (+/-0.039) for {'n_neighbors': 10}\n",
      "accuracy = 0.772 (+/-0.026) for {'n_neighbors': 11}\n",
      "accuracy = 0.770 (+/-0.024) for {'n_neighbors': 12}\n",
      "accuracy = 0.766 (+/-0.014) for {'n_neighbors': 13}\n",
      "accuracy = 0.768 (+/-0.018) for {'n_neighbors': 14}\n",
      "accuracy = 0.767 (+/-0.013) for {'n_neighbors': 15}\n",
      "accuracy = 0.767 (+/-0.015) for {'n_neighbors': 16}\n",
      "accuracy = 0.765 (+/-0.018) for {'n_neighbors': 17}\n"
     ]
    }
   ],
   "source": [
    "sklearn_test_reference(X_train_std, y_train)"
   ]
  },
  {
   "cell_type": "code",
   "execution_count": null,
   "metadata": {},
   "outputs": [
    {
     "name": "stdout",
     "output_type": "stream",
     "text": [
      "Résultats de la validation croisée :\n",
      "accuracy = 0.782 (+/-0.029) for {'n_neighbors': 1}\n",
      "accuracy = 0.742 (+/-0.020) for {'n_neighbors': 2}\n",
      "accuracy = 0.767 (+/-0.018) for {'n_neighbors': 3}\n",
      "accuracy = 0.758 (+/-0.019) for {'n_neighbors': 4}\n",
      "accuracy = 0.765 (+/-0.027) for {'n_neighbors': 5}\n",
      "accuracy = 0.765 (+/-0.031) for {'n_neighbors': 6}\n",
      "accuracy = 0.769 (+/-0.026) for {'n_neighbors': 7}\n",
      "accuracy = 0.769 (+/-0.037) for {'n_neighbors': 8}\n",
      "accuracy = 0.768 (+/-0.032) for {'n_neighbors': 9}\n",
      "accuracy = 0.765 (+/-0.029) for {'n_neighbors': 10}\n",
      "accuracy = 0.766 (+/-0.035) for {'n_neighbors': 11}\n",
      "accuracy = 0.766 (+/-0.029) for {'n_neighbors': 12}\n",
      "accuracy = 0.770 (+/-0.037) for {'n_neighbors': 13}\n",
      "accuracy = 0.767 (+/-0.040) for {'n_neighbors': 14}\n",
      "accuracy = 0.764 (+/-0.033) for {'n_neighbors': 15}\n",
      "accuracy = 0.770 (+/-0.030) for {'n_neighbors': 16}\n",
      "accuracy = 0.769 (+/-0.030) for {'n_neighbors': 17}\n"
     ]
    }
   ],
   "source": [
    "test_grid_search(X_train_std, y_train)"
   ]
  }
 ],
 "metadata": {
  "kernelspec": {
   "display_name": "Python 3.9.12 ('base')",
   "language": "python",
   "name": "python3"
  },
  "language_info": {
   "codemirror_mode": {
    "name": "ipython",
    "version": 3
   },
   "file_extension": ".py",
   "mimetype": "text/x-python",
   "name": "python",
   "nbconvert_exporter": "python",
   "pygments_lexer": "ipython3",
   "version": "3.9.12"
  },
  "orig_nbformat": 4,
  "vscode": {
   "interpreter": {
    "hash": "e03b612d84ba21ce95ed447e81b3062e1eb99b56c6d885cdab4aaa12f1b8e240"
   }
  }
 },
 "nbformat": 4,
 "nbformat_minor": 2
}

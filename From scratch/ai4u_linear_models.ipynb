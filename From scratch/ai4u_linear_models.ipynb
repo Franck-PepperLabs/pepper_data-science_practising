{
 "cells": [
  {
   "cell_type": "markdown",
   "metadata": {},
   "source": [
    "# Objet\n",
    "\n",
    "Suivi de la playlist de Morgan Gautherot.\n",
    "\n",
    "J'adhère à sa démarche d'avoir implémenté au moins une fois un algo blackbox pour en avoir une compréhension intime.\n",
    "\n",
    "Ce sera aussi l'occasion de réouvrir mes vieux cartons d'algorithmique, notamment numérique."
   ]
  },
  {
   "cell_type": "markdown",
   "metadata": {},
   "source": [
    "# [Formation de machine learning sur les modèles linéaires - LES MODELES LINEAIRES #1](https://www.youtube.com/watch?v=6JfWqirO3Ww&list=PLmBLgNjbSiTF0cl2UgKdyYcJ-AbzbvcsY)\n",
    "\n",
    "Intro / programme :\n",
    "1. régression linéaire\n",
    "2. régression logistique\n",
    "3. régressions pénalisées (Lasso, Ridge, Elastic net)\n",
    "4. régressions à noyau (Kernel trick)\n",
    "5. Support Vector Machine (SVM)\n",
    "\n",
    "Méthode pédag :\n",
    "1. Théorie\n",
    "2. Réalisation en Python\n",
    "3. Maîtrise de la version sklearn"
   ]
  },
  {
   "cell_type": "markdown",
   "metadata": {},
   "source": [
    "# [Tout savoir sur la régression linéaire - LES MODELES LINEAIRES #2 ](https://www.youtube.com/watch?v=Ek80R2EdEBs&list=PLmBLgNjbSiTF0cl2UgKdyYcJ-AbzbvcsY)\n",
    "\n",
    "Ok, ça donne un premier aperçu de sa pédagogie.\n",
    "\n",
    "Le point important à maîtriser sur le plan théorique, c'est la descente de gradient.\n",
    "\n",
    "Autres ressources sur le sujet :\n",
    "1. https://machinelearnia.com/descente-de-gradient/ -> mieux expliqué\n",
    "    - https://www.youtube.com/watch?v=rcl_YRyoLIY\n",
    "2. https://fr.wikipedia.org/wiki/Algorithme_du_gradient -> solide : ma source de réf, très complet\n",
    "    - https://fr.wikipedia.org/wiki/Méthode_du_gradient_conjugué\n",
    "    - https://en.wikipedia.org/wiki/Gradient_descent -> encore plus complet\n",
    "\n",
    "\n"
   ]
  }
 ],
 "metadata": {
  "language_info": {
   "name": "python"
  },
  "orig_nbformat": 4
 },
 "nbformat": 4,
 "nbformat_minor": 2
}

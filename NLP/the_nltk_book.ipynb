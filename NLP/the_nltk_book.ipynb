{
 "cells": [
  {
   "attachments": {},
   "cell_type": "markdown",
   "metadata": {},
   "source": [
    "# [**Traitement du langage naturel avec Python**](https://www.nltk.org/book/)<br/>*Analyse de texte avec l'outil de traitement automatique de langage naturel*\n",
    "\n",
    "**Steven Bird, Ewan Klein et Edward Loper**\n",
    "\n",
    "*Cette version du livre NLTK est mise à jour pour Python 3 et NLTK 3. La première édition du livre, publiée par O'Reilly, est disponible à http://nltk.org/book_1ed/. (Il n'y a actuellement aucun plan pour une deuxième édition du livre.)*\n",
    "\n",
    "Sommaire :\n",
    "0. Préface\n",
    "1. Traitement du langage et Python\n",
    "2. Accéder aux corpus de textes et aux ressources lexicales\n",
    "3. Traitement des textes bruts\n",
    "4. Écrire des programmes structurés\n",
    "5. Catégorisation et balisage des mots (des corrections mineures sont encore nécessaires)\n",
    "6. Apprendre à classer le texte\n",
    "7. Extraction d'informations à partir du texte\n",
    "8. Analyse de la structure de la phrase\n",
    "9. Construction de grammaires basées sur les caractéristiques\n",
    "10. Analyse de la signification des phrases (des corrections mineures sont encore nécessaires)\n",
    "11. Gestion des données linguistiques (des corrections mineures sont encore nécessaires)\n",
    "12. Postface: Confrontation au défi linguistique\n",
    "\n",
    "* Bibliographie\n",
    "* Index des termes\n",
    "\n",
    "*Ce livre est mis à disposition sous les termes de la licence Creative Commons Attribution Noncommercial No-Derivative-Works 3.0 US.*\n",
    "\n",
    "*Veuillez poser toutes les questions sur les matériaux à la liste de diffusion nltk-users. Veuillez signaler toutes les erreurs sur le suivi des problèmes.*"
   ]
  },
  {
   "attachments": {},
   "cell_type": "markdown",
   "metadata": {},
   "source": [
    "# 0. Préface\n",
    "\n",
    "Ce livre aborde du traitement automatique des langues naturelles. Par \"langue naturelle\" nous entendons une langue utilisée pour la communication quotidienne par les humains; des langues comme l'anglais, l'hindi ou le portugais. Contrairement aux langues artificielles telles que les langages de programmation et les notations mathématiques, les langues naturelles ont évolué au fil des générations et sont difficiles à cerner avec des règles explicites. Nous prendrons en compte le traitement automatique des langues naturelles (NLP) dans un sens large pour couvrir tout type de manipulation informatique d'une langue naturelle. D'un côté, cela pourrait être aussi simple que compter les fréquences de mots pour comparer différents styles d'écriture. De l'autre extrême, le NLP implique la \"compréhension\" des phrases complètes de l'homme, au moins dans la mesure où il est capable de donner des réponses utiles.\n",
    "\n",
    "Les technologies basées sur le traitement automatique des langues (TAL) deviennent de plus en plus répandues. Par exemple, les téléphones et les ordinateurs portables prennent en charge la saisie prédictive et la reconnaissance de la main écrite; les moteurs de recherche sur le web permettent d'accéder à des informations contenues dans des textes non structurés; la traduction automatique nous permet de récupérer des textes écrits en chinois et de les lire en espagnol; l'analyse de textes nous permet de détecter les sentiments dans les tweets et les blogs. En offrant des interfaces homme-machine plus naturelles et un accès plus sophistiqué à l'information stockée, le traitement des langues est devenu un rôle central dans la société de l'information multilingue.\n",
    "\n",
    "Ce livre est une introduction hautement accessible au domaine du TAL. Il peut être utilisé pour un étude individuelle ou comme manuel pour un cours sur le traitement automatique des langues ou sur la linguistique computationnelle, ou comme complément pour des cours sur l'intelligence artificielle, l'analyse de textes ou la linguistique de corpus. Le livre est extrêmement pratique, contenant des centaines d'exemples détaillés et d'exercices gradués.\n",
    "\n",
    "Le livre est basé sur le langage de programmation Python avec une bibliothèque open source appelée *Natural Language Toolkit* (NLTK)."
   ]
  },
  {
   "attachments": {},
   "cell_type": "markdown",
   "metadata": {},
   "source": [
    "# 1. Traitement du langage et Python\n",
    "\n",
    "Il est facile de mettre la main sur des millions de mots de texte. Que pouvons-nous en faire, à supposer que nous puissions écrire des programmes simples? Dans ce chapitre, nous aborderons les questions suivantes:\n",
    "\n",
    "* Que pouvons-nous réaliser en combinant des techniques de programmation simples avec de grandes quantités de texte?\n",
    "* Comment pouvons-nous extraire automatiquement les mots clés et les phrases clés qui résument le style et le contenu d'un texte?\n",
    "* Quelles sont les outils et les techniques que le langage de programmation Python fournit pour ce type de travail?\n",
    "* Quelles sont les défis intéressants du traitement automatique du langage naturel?\n",
    "\n",
    "Ce chapitre est divisé en sections qui passent entre deux styles très différents. Dans les sections \"calcul avec le langage\", nous effectuerons des tâches de programmation motivées linguistiquement sans nécessairement expliquer comment elles fonctionnent. Dans les sections \"regard plus approfondi sur Python\", nous examinerons systématiquement les concepts clés de la programmation. Nous signalerons les deux styles dans les titres de section, mais les chapitres ultérieurs mélangeront les deux styles sans être aussi explicites à ce sujet. Nous espérons que ce style d'introduction vous donnera un aperçu authentique de ce qui suivra, tout en couvrant une gamme de concepts élémentaires en linguistique et en informatique. Si vous avez une familiarité de base avec les deux domaines, vous pouvez sauter au chapitre 5; nous répéterons les points importants dans les chapitres ultérieurs et si vous manquez quelque chose, vous pouvez facilement consulter les matériaux de référence en ligne à http://nltk.org/. Si le matériel est complètement nouveau pour vous, ce chapitre soulèvera plus de questions qu'il n'en répondra, des questions qui seront abordées dans le reste de ce livre."
   ]
  },
  {
   "attachments": {},
   "cell_type": "markdown",
   "metadata": {},
   "source": [
    "## 1.0. Sommaire\n",
    "\n",
    "1. Calcul avec le langage: textes et mots\n",
    "    1. Démarrage avec Python\n",
    "    2. Démarrage avec NLTK\n",
    "    3. Recherche de texte\n",
    "    4. Comptage du vocabulaire\n",
    "2. Un aperçu plus approfondi de Python: les textes comme listes de mots\n",
    "    1. Listes\n",
    "    2. Indexation des listes\n",
    "    3. Variables\n",
    "    4. Chaînes de caractères\n",
    "3. Calcul avec le langage: statistiques simples\n",
    "    1. Distributions de fréquences\n",
    "    2. Sélection fine des mots\n",
    "    3. Collocations et bigrammes\n",
    "    4. Comptage d'autres choses\n",
    "4. Retour à Python: prendre des décisions et contrôler\n",
    "    1. Conditions\n",
    "    2. Opérations sur chaque élément\n",
    "    3. Blocs de code imbriqués\n",
    "    4. Boucle avec conditions\n",
    "5. Comprendre automatiquement le langage naturel\n",
    "    1. Désambiguïsation du sens des mots\n",
    "    2. Résolution des pronoms\n",
    "    3. Génération de la sortie de langue\n",
    "    4. Traduction automatique\n",
    "    5. Systèmes de dialogue vocal\n",
    "    6. Implication textuelle\n",
    "    7. Limitations de la NLP\n",
    "6. Résumé\n",
    "7. Lectures complémentaires\n",
    "8. Exercices"
   ]
  },
  {
   "attachments": {},
   "cell_type": "markdown",
   "metadata": {},
   "source": [
    "# 2. Accéder aux corpus de textes et aux ressources lexicales\n",
    "\n",
    "Les travaux pratiques en traitement automatique de la langue naturelle utilisent généralement de grandes quantités de données linguistiques, ou des corpus. Le but de ce chapitre est de répondre aux questions suivantes:\n",
    "* Quels sont les corpus et les ressources lexicales utiles et comment pouvons-nous y accéder avec Python?\n",
    "* Quelles sont les constructions Python les plus utiles pour ce travail?\n",
    "* Comment éviter de se répéter lorsque nous écrivons du code Python?\n",
    "\n",
    "Ce chapitre continue à présenter les concepts de programmation par exemple, dans le contexte d'une tâche de traitement linguistique. Nous attendrons plus tard pour explorer systématiquement chaque constructeur Python. Ne vous inquiétez pas si vous voyez un exemple qui contient quelque chose d'inconnu; il suffit de l'essayer et de voir ce qu'il fait, et, si vous êtes partant, de le modifier en remplaçant une partie du code par un texte ou un mot différent. De cette façon, vous associerez une tâche à une idiomatique de programmation et apprendrez les comment et les pourquoi plus tard."
   ]
  },
  {
   "attachments": {},
   "cell_type": "markdown",
   "metadata": {},
   "source": [
    "## 2.0. Sommaire\n",
    "\n",
    "1. Accéder aux corpus de textes\n",
    "    1. Corpus Gutenberg\n",
    "    2. Texte web et chat\n",
    "    3. Corpus Brown\n",
    "    4. Corpus Reuters\n",
    "    5. Corpus des discours inauguraux\n",
    "    6. Corpus de textes annotés\n",
    "    7. Corpus dans d'autres langues\n",
    "    8. Structure des corpus de textes\n",
    "    9. Charger votre propre corpus\n",
    "2. Distributions de fréquences conditionnelles\n",
    "    1. Conditions et événements\n",
    "    2. Compter les mots par genre\n",
    "    3. Tracer et tabuler les distributions\n",
    "    4. Génération de texte aléatoire avec des bigrammes\n",
    "3. Plus de Python: réutilisation de code\n",
    "    1. Créer des programmes avec un éditeur de texte\n",
    "    2. Fonctions\n",
    "    3. Modules\n",
    "4. Ressources lexicales\n",
    "    1. Corpus de listes de mots\n",
    "    2. Un dictionnaire d'orthographe\n",
    "    3. Listes de mots comparatives\n",
    "    4. Lexiques Shoebox et Toolbox\n",
    "5. WordNet\n",
    "    1. Sens et synonymes\n",
    "    2. Hiérarchie WordNet\n",
    "    3. Relations lexicales supplémentaires\n",
    "    4. Similarité sémantique\n",
    "6. Résumé\n",
    "7. Lectures complémentaires\n",
    "8. Exercices"
   ]
  },
  {
   "attachments": {},
   "cell_type": "markdown",
   "metadata": {},
   "source": [
    "## 1. Accéder aux corpus de textes\n",
    "\n",
    "Comme mentionné précédemment, un corpus de texte est un grand corps de texte. De nombreux corpus sont conçus pour contenir un équilibre soigneux de matériel dans un ou plusieurs genres. Nous avons examiné quelques petites collections de textes dans 1., comme les discours connus sous le nom de discours inauguraux présidentiels des États-Unis. Ce corpus particulier contient des dizaines de textes individuels - un par adresse - mais pour plus de commodité, nous les avons collés bout à bout et les avons traités comme un seul texte. 1. a également utilisé divers textes prédéfinis que nous avons accédés en tapant `from nltk.book import *`. Cependant, étant donné que nous voulons pouvoir travailler avec d'autres textes, cette section examine une variété de corpus de textes. Nous verrons comment sélectionner des textes individuels et comment travailler avec eux."
   ]
  },
  {
   "attachments": {},
   "cell_type": "markdown",
   "metadata": {},
   "source": [
    "### 1. Corpus Gutenberg\n",
    "\n",
    "NLTK inclut une petite sélection de textes provenant de l'archive électronique Project Gutenberg, qui contient environ 25 000 livres électroniques gratuits, hébergés à l'adresse http://www.gutenberg.org/. Nous commençons par faire charger le package NLTK par l'interpréteur Python, puis nous demandons de voir les identificateurs de fichiers via `nltk.corpus.gutenberg.fileids()` de ce corpus :"
   ]
  },
  {
   "cell_type": "code",
   "execution_count": 27,
   "metadata": {},
   "outputs": [
    {
     "data": {
      "text/plain": [
       "['austen-emma.txt',\n",
       " 'austen-persuasion.txt',\n",
       " 'austen-sense.txt',\n",
       " 'bible-kjv.txt',\n",
       " 'blake-poems.txt',\n",
       " 'bryant-stories.txt',\n",
       " 'burgess-busterbrown.txt',\n",
       " 'carroll-alice.txt',\n",
       " 'chesterton-ball.txt',\n",
       " 'chesterton-brown.txt',\n",
       " 'chesterton-thursday.txt',\n",
       " 'edgeworth-parents.txt',\n",
       " 'melville-moby_dick.txt',\n",
       " 'milton-paradise.txt',\n",
       " 'shakespeare-caesar.txt',\n",
       " 'shakespeare-hamlet.txt',\n",
       " 'shakespeare-macbeth.txt',\n",
       " 'whitman-leaves.txt']"
      ]
     },
     "execution_count": 27,
     "metadata": {},
     "output_type": "execute_result"
    }
   ],
   "source": [
    "import nltk\n",
    "# nltk.download('gutenberg')\n",
    "nltk.corpus.gutenberg.fileids()"
   ]
  },
  {
   "cell_type": "code",
   "execution_count": 28,
   "metadata": {},
   "outputs": [
    {
     "data": {
      "text/plain": [
       "192427"
      ]
     },
     "execution_count": 28,
     "metadata": {},
     "output_type": "execute_result"
    }
   ],
   "source": [
    "emma = nltk.corpus.gutenberg.words('austen-emma.txt')\n",
    "len(emma)"
   ]
  },
  {
   "cell_type": "code",
   "execution_count": 29,
   "metadata": {},
   "outputs": [
    {
     "name": "stdout",
     "output_type": "stream",
     "text": [
      "Displaying 25 of 37 matches:\n",
      "er father , was sometimes taken by surprize at his being still able to pity ` \n",
      "hem do the other any good .\" \" You surprize me ! Emma must do Harriet good : a\n",
      "Knightley actually looked red with surprize and displeasure , as he stood up ,\n",
      "r . Elton , and found to his great surprize , that Mr . Elton was actually on \n",
      "d aid .\" Emma saw Mrs . Weston ' s surprize , and felt that it must be great ,\n",
      "father was quite taken up with the surprize of so sudden a journey , and his f\n",
      "y , in all the favouring warmth of surprize and conjecture . She was , moreove\n",
      "he appeared , to have her share of surprize , introduction , and pleasure . Th\n",
      "ir plans ; and it was an agreeable surprize to her , therefore , to perceive t\n",
      "talking aunt had taken me quite by surprize , it must have been the death of m\n",
      "f all the dialogue which ensued of surprize , and inquiry , and congratulation\n",
      " the present . They might chuse to surprize her .\" Mrs . Cole had many to agre\n",
      "the mode of it , the mystery , the surprize , is more like a young woman ' s s\n",
      " to her song took her agreeably by surprize -- a second , slightly but correct\n",
      "\" \" Oh ! no -- there is nothing to surprize one at all .-- A pretty fortune ; \n",
      "t to be considered . Emma ' s only surprize was that Jane Fairfax should accep\n",
      "of your admiration may take you by surprize some day or other .\" Mr . Knightle\n",
      "ation for her will ever take me by surprize .-- I never had a thought of her i\n",
      " expected by the best judges , for surprize -- but there was great joy . Mr . \n",
      " sound of at first , without great surprize . \" So unreasonably early !\" she w\n",
      "d Frank Churchill , with a look of surprize and displeasure .-- \" That is easy\n",
      "; and Emma could imagine with what surprize and mortification she must be retu\n",
      "tled that Jane should go . Quite a surprize to me ! I had not the least idea !\n",
      " . It is impossible to express our surprize . He came to speak to his father o\n",
      "g engaged !\" Emma even jumped with surprize ;-- and , horror - struck , exclai\n"
     ]
    }
   ],
   "source": [
    "emma = nltk.Text(nltk.corpus.gutenberg.words('austen-emma.txt'))\n",
    "emma.concordance(\"surprize\")"
   ]
  },
  {
   "cell_type": "code",
   "execution_count": 30,
   "metadata": {},
   "outputs": [],
   "source": [
    "from nltk.corpus import gutenberg\n",
    "gutenberg.fileids()\n",
    "emma = gutenberg.words('austen-emma.txt')"
   ]
  },
  {
   "cell_type": "code",
   "execution_count": 31,
   "metadata": {},
   "outputs": [
    {
     "name": "stdout",
     "output_type": "stream",
     "text": [
      "5 25 26 austen-emma.txt\n",
      "5 26 17 austen-persuasion.txt\n",
      "5 28 22 austen-sense.txt\n",
      "4 34 79 bible-kjv.txt\n",
      "5 19 5 blake-poems.txt\n",
      "4 19 14 bryant-stories.txt\n",
      "4 18 12 burgess-busterbrown.txt\n",
      "4 20 13 carroll-alice.txt\n",
      "5 20 12 chesterton-ball.txt\n",
      "5 23 11 chesterton-brown.txt\n",
      "5 19 11 chesterton-thursday.txt\n",
      "4 21 25 edgeworth-parents.txt\n",
      "5 26 15 melville-moby_dick.txt\n",
      "5 52 11 milton-paradise.txt\n",
      "4 12 9 shakespeare-caesar.txt\n",
      "4 12 8 shakespeare-hamlet.txt\n",
      "4 12 7 shakespeare-macbeth.txt\n",
      "5 36 12 whitman-leaves.txt\n"
     ]
    }
   ],
   "source": [
    "for fileid in gutenberg.fileids():\n",
    "    num_chars = len(gutenberg.raw(fileid))\n",
    "    num_words = len(gutenberg.words(fileid))\n",
    "    num_sents = len(gutenberg.sents(fileid))\n",
    "    num_vocab = len(set(w.lower() for w in gutenberg.words(fileid)))\n",
    "    print(round(num_chars/num_words), round(num_words/num_sents), round(num_words/num_vocab), fileid)"
   ]
  },
  {
   "cell_type": "code",
   "execution_count": 32,
   "metadata": {},
   "outputs": [
    {
     "name": "stdout",
     "output_type": "stream",
     "text": [
      "[['[', 'The', 'Tragedie', 'of', 'Macbeth', 'by', 'William', 'Shakespeare', '1603', ']'], ['Actus', 'Primus', '.'], ...]\n",
      "['Double', ',', 'double', ',', 'toile', 'and', 'trouble', ';', 'Fire', 'burne', ',', 'and', 'Cauldron', 'bubble']\n",
      "158\n",
      "[['Doubtfull', 'it', 'stood', ',', 'As', 'two', 'spent', 'Swimmers', ',', 'that', 'doe', 'cling', 'together', ',', 'And', 'choake', 'their', 'Art', ':', 'The', 'mercilesse', 'Macdonwald', '(', 'Worthie', 'to', 'be', 'a', 'Rebell', ',', 'for', 'to', 'that', 'The', 'multiplying', 'Villanies', 'of', 'Nature', 'Doe', 'swarme', 'vpon', 'him', ')', 'from', 'the', 'Westerne', 'Isles', 'Of', 'Kernes', 'and', 'Gallowgrosses', 'is', 'supply', \"'\", 'd', ',', 'And', 'Fortune', 'on', 'his', 'damned', 'Quarry', 'smiling', ',', 'Shew', \"'\", 'd', 'like', 'a', 'Rebells', 'Whore', ':', 'but', 'all', \"'\", 's', 'too', 'weake', ':', 'For', 'braue', 'Macbeth', '(', 'well', 'hee', 'deserues', 'that', 'Name', ')', 'Disdayning', 'Fortune', ',', 'with', 'his', 'brandisht', 'Steele', ',', 'Which', 'smoak', \"'\", 'd', 'with', 'bloody', 'execution', '(', 'Like', 'Valours', 'Minion', ')', 'caru', \"'\", 'd', 'out', 'his', 'passage', ',', 'Till', 'hee', 'fac', \"'\", 'd', 'the', 'Slaue', ':', 'Which', 'neu', \"'\", 'r', 'shooke', 'hands', ',', 'nor', 'bad', 'farwell', 'to', 'him', ',', 'Till', 'he', 'vnseam', \"'\", 'd', 'him', 'from', 'the', 'Naue', 'toth', \"'\", 'Chops', ',', 'And', 'fix', \"'\", 'd', 'his', 'Head', 'vpon', 'our', 'Battlements']]\n"
     ]
    }
   ],
   "source": [
    "macbeth_sentences = gutenberg.sents('shakespeare-macbeth.txt')\n",
    "print(macbeth_sentences)\n",
    "print(macbeth_sentences[1116])\n",
    "longest_len = max(len(s) for s in macbeth_sentences)\n",
    "print(longest_len)\n",
    "print([s for s in macbeth_sentences if len(s) == longest_len])"
   ]
  },
  {
   "attachments": {},
   "cell_type": "markdown",
   "metadata": {},
   "source": [
    "### 2. Texte web et chat\n",
    "\n",
    "bien que Project Gutenberg contienne des milliers de livres, il représente une littérature établie. Il est important de considérer également un langage moins formel. La petite collection de textes Web de NLTK inclut des contenus provenant d'un forum de discussion Firefox, des conversations entendues à New York, le scénario du film *Pirates des Caraïbes*, des annonces personnelles et des critiques de vin:"
   ]
  },
  {
   "cell_type": "code",
   "execution_count": 33,
   "metadata": {},
   "outputs": [
    {
     "name": "stdout",
     "output_type": "stream",
     "text": [
      "firefox.txt Cookie Manager: \"Don't allow sites that set removed cookies to se ...\n",
      "grail.txt SCENE 1: [wind] [clop clop clop] \n",
      "KING ARTHUR: Whoa there!  [clop ...\n",
      "overheard.txt White guy: So, do you have any plans for this evening?\n",
      "Asian girl ...\n",
      "pirates.txt PIRATES OF THE CARRIBEAN: DEAD MAN'S CHEST, by Ted Elliott & Terr ...\n",
      "singles.txt 25 SEXY MALE, seeks attrac older single lady, for discreet encoun ...\n",
      "wine.txt Lovely delicate, fragrant Rhone wine. Polished leather and strawb ...\n"
     ]
    }
   ],
   "source": [
    "from nltk.corpus import webtext\n",
    "# nltk.download('webtext')\n",
    "for fileid in webtext.fileids():\n",
    "    print(fileid, webtext.raw(fileid)[:65], '...')"
   ]
  },
  {
   "attachments": {},
   "cell_type": "markdown",
   "metadata": {},
   "source": [
    "Il existe également un corpus de sessions de messagerie instantanée, collecté à l'origine par la Naval Postgraduate School pour des recherches sur la détection automatique des prédateurs Internet. Le corpus contient plus de 10 000 messages, anonymisés en remplaçant les noms d'utilisateur par des noms génériques de la forme \"UserNNN\" et édités manuellement pour supprimer toute autre information d'identification. Le corpus est organisé en 15 fichiers, où chaque fichier contient plusieurs centaines de messages collectés à une date donnée, pour une salle de chat spécifique à l'âge (ados, 20 ans, 30 ans, 40 ans, plus une salle de chat générique pour adultes). Le nom de fichier contient la date, la salle de chat et le nombre de messages ; par exemple, 10-19-20s_706posts.xml contient 706 messages collectés de la salle de chat 20 ans le 19/10/2006."
   ]
  },
  {
   "cell_type": "code",
   "execution_count": 34,
   "metadata": {},
   "outputs": [
    {
     "data": {
      "text/plain": [
       "['i',\n",
       " 'do',\n",
       " \"n't\",\n",
       " 'want',\n",
       " 'hot',\n",
       " 'pics',\n",
       " 'of',\n",
       " 'a',\n",
       " 'female',\n",
       " ',',\n",
       " 'I',\n",
       " 'can',\n",
       " 'look',\n",
       " 'in',\n",
       " 'a',\n",
       " 'mirror',\n",
       " '.']"
      ]
     },
     "execution_count": 34,
     "metadata": {},
     "output_type": "execute_result"
    }
   ],
   "source": [
    "from nltk.corpus import nps_chat\n",
    "# nltk.download('nps_chat')\n",
    "chatroom = nps_chat.posts('10-19-20s_706posts.xml')\n",
    "chatroom[123]"
   ]
  },
  {
   "attachments": {},
   "cell_type": "markdown",
   "metadata": {},
   "source": [
    "### 3. Corpus Brown\n",
    "\n",
    "Le corpus Brown était le premier corpus électronique de million de mots en anglais, créé en 1961 à l'Université Brown. Ce corpus contient des textes provenant de 500 sources et les sources ont été catégorisées par genre, comme les *nouvelles*, les *éditoriaux*, etc. La table 1.1 donne un exemple de chaque genre (pour une liste complète, voir `http://icame.uib.no/brown/bcm-los.html`).\n",
    "\n",
    "**Table 1.1 :**\n",
    "\n",
    "Document d'exemple pour chaque section du corpus Brown\n",
    "\n",
    "|ID|Ficher|Genre|Description|\n",
    "|-|-|-|-|\n",
    "|A16|ca16|news|Chicago Tribune: *Society Reportage*|\n",
    "|B02|cb02|editorial|Christian Science Monitor: *Editorials*|\n",
    "|C17|cc17|reviews|Time Magazine: *Reviews*|\n",
    "|D12|cd12|religion|Underwood: *Probing the Ethics of Realtors*|\n",
    "|E36|ce36|hobbies|Norling: *Renting a Car in Europe*|\n",
    "|F25|cf25|lore|Boroff: *Jewish Teenage Culture*|\n",
    "|G22|cg22|belles_lettres|Reiner: *Coping with Runaway Technology*|\n",
    "|H15|ch15|government|US Office of Civil and Defence Mobilization: *The Family Fallout Shelter*|\n",
    "|J17|cj19|learned|Mosteller: *Probability with Statistical Applications*|\n",
    "|K04|ck04|fiction|W.E.B. Du Bois: *Worlds of Color*|\n",
    "|L13|cl13|mystery|Hitchens: *Footsteps in the Night*|\n",
    "|M01|cm01|science_fiction|Heinlein: *Stranger in a Strange Land*|\n",
    "|N14|cn15|adventure|Field: *Rattlesnake Ridge*|\n",
    "|P12|cp12|romance|Callaghan: *A Passion in Rome*|\n",
    "|R06|cr06|humor|Thurber: *The Future, If Any, of Comedy*|"
   ]
  },
  {
   "attachments": {},
   "cell_type": "markdown",
   "metadata": {},
   "source": [
    "Nous pouvons accéder au corpus sous forme de liste de mots ou de liste de phrases (où chaque phrase est elle-même une liste de mots). Nous pouvons éventuellement spécifier des catégories ou des fichiers particuliers à lire :"
   ]
  },
  {
   "cell_type": "code",
   "execution_count": 35,
   "metadata": {},
   "outputs": [
    {
     "name": "stdout",
     "output_type": "stream",
     "text": [
      "['adventure', 'belles_lettres', 'editorial', 'fiction', 'government', 'hobbies', 'humor', 'learned', 'lore', 'mystery', 'news', 'religion', 'reviews', 'romance', 'science_fiction']\n",
      "['The', 'Fulton', 'County', 'Grand', 'Jury', 'said', ...]\n",
      "['Does', 'our', 'society', 'have', 'a', 'runaway', ',', ...]\n",
      "[['The', 'Fulton', 'County', 'Grand', 'Jury', 'said', 'Friday', 'an', 'investigation', 'of', \"Atlanta's\", 'recent', 'primary', 'election', 'produced', '``', 'no', 'evidence', \"''\", 'that', 'any', 'irregularities', 'took', 'place', '.'], ['The', 'jury', 'further', 'said', 'in', 'term-end', 'presentments', 'that', 'the', 'City', 'Executive', 'Committee', ',', 'which', 'had', 'over-all', 'charge', 'of', 'the', 'election', ',', '``', 'deserves', 'the', 'praise', 'and', 'thanks', 'of', 'the', 'City', 'of', 'Atlanta', \"''\", 'for', 'the', 'manner', 'in', 'which', 'the', 'election', 'was', 'conducted', '.'], ...]\n"
     ]
    }
   ],
   "source": [
    "from nltk.corpus import brown\n",
    "# nltk.download('brown')\n",
    "print(brown.categories())\n",
    "print(brown.words(categories='news'))\n",
    "print(brown.words(fileids=['cg22']))\n",
    "print(brown.sents(categories=['news', 'editorial', 'reviews']))"
   ]
  },
  {
   "cell_type": "code",
   "execution_count": 36,
   "metadata": {},
   "outputs": [
    {
     "name": "stdout",
     "output_type": "stream",
     "text": [
      "can: 94 could: 87 may: 93 might: 38 must: 53 will: 389 "
     ]
    }
   ],
   "source": [
    "from nltk.corpus import brown\n",
    "news_text = brown.words(categories='news')\n",
    "fdist = nltk.FreqDist(w.lower() for w in news_text)\n",
    "modals = ['can', 'could', 'may', 'might', 'must', 'will']\n",
    "for m in modals:\n",
    "    print(m + ':', fdist[m], end=' ')"
   ]
  },
  {
   "attachments": {},
   "cell_type": "markdown",
   "metadata": {},
   "source": [
    "Le corpus Brown est une ressource pratique pour étudier les différences systématiques entre les genres, une sorte d'enquête linguistique connue sous le nom de **stylistique**. Comparons les genres dans leur utilisation des verbes modaux. La première étape consiste à produire les comptes pour un genre particulier. N'oubliez pas d'importer nltk avant de faire ce qui suit:"
   ]
  },
  {
   "cell_type": "code",
   "execution_count": 37,
   "metadata": {},
   "outputs": [
    {
     "name": "stdout",
     "output_type": "stream",
     "text": [
      "                  can could   may might  must  will \n",
      "           news    93    86    66    38    50   389 \n",
      "       religion    82    59    78    12    54    71 \n",
      "        hobbies   268    58   131    22    83   264 \n",
      "science_fiction    16    49     4    12     8    16 \n",
      "        romance    74   193    11    51    45    43 \n",
      "          humor    16    30     8     8     9    13 \n"
     ]
    }
   ],
   "source": [
    "cfd = nltk.ConditionalFreqDist(\n",
    "    (genre, word)\n",
    "    for genre in brown.categories()\n",
    "    for word in brown.words(categories=genre))\n",
    "genres = ['news', 'religion', 'hobbies', 'science_fiction', 'romance', 'humor']\n",
    "modals = ['can', 'could', 'may', 'might', 'must', 'will']\n",
    "cfd.tabulate(conditions=genres, samples=modals)"
   ]
  },
  {
   "attachments": {},
   "cell_type": "markdown",
   "metadata": {},
   "source": [
    "### 4. Corpus Reuters\n",
    "\n",
    "Le **Corpus Reuters** contient 10 788 documents d'actualités totalisant 1,3 million de mots. Les documents ont été classés en 90 sujets et regroupés en deux ensemble appelés \"formation\" et \"test\"; ainsi, le texte avec l'ID de fichier `'test/14826'` est un document tiré de l'ensemble de test. Cette séparation est destinée à entraîner et à tester des algorithmes qui détectent automatiquement le sujet d'un document, comme nous le verrons dans le chapitre [**Apprendre à classer le texte** (6)](https://www.nltk.org/book/ch06.html#chap-data-intensive)."
   ]
  },
  {
   "cell_type": "code",
   "execution_count": 45,
   "metadata": {},
   "outputs": [
    {
     "data": {
      "text/plain": [
       "['test/14826',\n",
       " 'test/14828',\n",
       " 'test/14829',\n",
       " 'test/14832',\n",
       " 'test/14833',\n",
       " 'test/14839',\n",
       " 'test/14840',\n",
       " 'test/14841',\n",
       " 'test/14842',\n",
       " 'test/14843']"
      ]
     },
     "metadata": {},
     "output_type": "display_data"
    },
    {
     "data": {
      "text/plain": [
       "['acq',\n",
       " 'alum',\n",
       " 'barley',\n",
       " 'bop',\n",
       " 'carcass',\n",
       " 'castor-oil',\n",
       " 'cocoa',\n",
       " 'coconut',\n",
       " 'coconut-oil',\n",
       " 'coffee']"
      ]
     },
     "metadata": {},
     "output_type": "display_data"
    }
   ],
   "source": [
    "from nltk.corpus import reuters\n",
    "# nltk.download('reuters')\n",
    "display(reuters.fileids()[:10])\n",
    "display(reuters.categories()[:10])"
   ]
  },
  {
   "attachments": {},
   "cell_type": "markdown",
   "metadata": {},
   "source": [
    "### 5. Corpus des discours inauguraux\n",
    "\n",
    "Dans 1, nous avons examiné le Corpus des Discours Inauguraux, mais nous l'avons traité comme un seul texte. Le graphique de fig-inaugural utilisait \"décalage de mot\" comme l'un des axes ; c'est l'index numérique du mot dans le corpus, comptant à partir du premier mot du premier discours. Cependant, le corpus est en réalité une collection de 55 textes, un pour chaque discours présidentiel. Une propriété intéressante de cette collection est sa dimension temporelle :"
   ]
  },
  {
   "cell_type": "code",
   "execution_count": 49,
   "metadata": {},
   "outputs": [
    {
     "data": {
      "text/plain": [
       "['1789',\n",
       " '1793',\n",
       " '1797',\n",
       " '1801',\n",
       " '1805',\n",
       " '1809',\n",
       " '1813',\n",
       " '1817',\n",
       " '1821',\n",
       " '1825']"
      ]
     },
     "execution_count": 49,
     "metadata": {},
     "output_type": "execute_result"
    }
   ],
   "source": [
    "from nltk.corpus import inaugural\n",
    "# nltk.download('inaugural')\n",
    "inaugural.fileids()\n",
    "[fileid[:4] for fileid in inaugural.fileids()][:10]"
   ]
  },
  {
   "attachments": {},
   "cell_type": "markdown",
   "metadata": {},
   "source": [
    "Remarquez que l'année de chaque texte apparaît dans son nom de fichier. Pour obtenir l'année à partir du nom de fichier, nous avons extrait les quatre premiers caractères, en utilisant `fileid[:4]`.\n",
    "\n",
    "Examinons comment les mots *America* et *citizen* sont utilisés au fil du temps. Le code suivant convertit les mots dans le corpus inaugural en minuscules en utilisant `w.lower()` [1], puis vérifie s'ils commencent par l'un des \"cibles\" `america` ou `citizen` en utilisant `startswith()` [1]. Il comptera donc les mots comme *American's* et *Citizens*. Nous apprendrons à propos des distributions de fréquence conditionnelles dans 2 ; pour l'instant, considérons simplement la sortie, montrée dans 1.1."
   ]
  },
  {
   "cell_type": "code",
   "execution_count": 55,
   "metadata": {},
   "outputs": [
    {
     "data": {
      "image/png": "[encoded data removed]",
      "text/plain": [
       "<Figure size 432x288 with 1 Axes>"
      ]
     },
     "metadata": {
      "needs_background": "light"
     },
     "output_type": "display_data"
    },
    {
     "data": {
      "text/plain": [
       "<ConditionalFreqDist with 2 conditions>"
      ]
     },
     "metadata": {},
     "output_type": "display_data"
    }
   ],
   "source": [
    "cfd = nltk.ConditionalFreqDist(\n",
    "    (target, fileid[:4])\n",
    "    for fileid in inaugural.fileids()\n",
    "    for w in inaugural.words(fileid)\n",
    "    for target in ['america', 'citizen']\n",
    "    if w.lower().startswith(target))\n",
    "cfd.plot()\n",
    "display(cfd) # pb"
   ]
  },
  {
   "attachments": {},
   "cell_type": "markdown",
   "metadata": {},
   "source": [
    "Figure 1.1: *Graphique d'une distribution de fréquence conditionnelle : tous les mots dans le corpus de discours inauguraux qui commencent par america ou citizen sont comptés ; des comptes séparés sont gardés pour chaque discours ; ils sont tracés de sorte que les tendances dans l'utilisation au fil du temps puissent être observées ; les comptes ne sont pas normalisés pour la longueur du document.*"
   ]
  },
  {
   "attachments": {},
   "cell_type": "markdown",
   "metadata": {},
   "source": [
    "### 6. Corpus de textes annotés\n",
    "\n",
    "De nombreux corpus de textes contiennent des annotations linguistiques, représentant des tags morphosyntaxiques, des entités nommées, des structures syntaxiques, des rôles sémantiques, etc. NLTK fournit des moyens pratiques pour accéder à plusieurs de ces corpus, et possède des paquets de données contenant des corpus et des échantillons de corpus, téléchargeables gratuitement pour une utilisation en enseignement et en recherche. La Table 1.2 liste certains des corpus. Pour des informations sur leur téléchargement, consultez http://nltk.org/data. Pour davantage d'exemples sur l'accès aux corpus NLTK, veuillez consulter le HOWTO Corpus à http://nltk.org/howto.\n",
    "\n",
    "Tableau 1.2:\n",
    "\n",
    "Certains des corpus et échantillons de corpus distribués avec NLTK : pour des informations sur leur téléchargement et utilisation, veuillez consulter le site web NLTK.\n",
    "\n",
    "solé pour la confusion. Voici la traduction de la table en format markdown :\n",
    "Corpus\tCompilateur\tContenus\n",
    "Corpus inaugural\tCSpan\tDiscours inauguraux présidentiels américains (1789-présent)\n",
    "Corpus POS-taggué indien\tKumaran et al\t60k mots, taggués (bengali, hindi, marathi, telugu)\n",
    "Corpus MacMorpho\tNILC, USP, Brésil\t1M de mots, taggués (portugais brésilien)\n",
    "\n",
    "|Corpus|Compilateur|Contenus|\n",
    "|------|-----------|--------|\n",
    "|Corpus inaugural|CSpan|Discours inauguraux présidentiels des États-Unis (1789-présent)|\n",
    "|Corpus POS-tagué indien|Kumaran et al|60k mots, taggés (Bangla, Hindi, Marathi, Telugu)|\n",
    "|Corpus MacMorpho|NILC, USP, Brésil|1M mots, taggés (portugais brésilien)|\n",
    "|Critiques de films|Pang, Lee|2k critiques de films avec classification de la polarité de l'avis|\n",
    "|Corpus de noms|Kantrowitz, Ross|8k noms masculins et féminins|\n",
    "|NIST 1999 Info Extr (sélections)|Garofolo|63k mots, marquage SGML de nouvelles et d'entités nommées|\n",
    "|Nombank|Meyers|115k propositions, 1400 cadres nominaux|\n",
    "|Corpus NPS Chat|Forsyth, Martell|10k messages de chat IM, taggés POS et dialogue-act|\n",
    "|Open Multilingual WordNet|Bond et al|15 langues, alignées sur WordNet anglais|\n",
    "|Corpus PP Attachment|Ratnaparkhi|28k phrases prépositionnelles, taggées comme modificateurs nominaux ou verbaux|\n",
    "|Proposition Bank|Palmer|113k propositions, 3300 cadres verbeux|\n",
    "|Classification des questions|Li, Roth|6k questions, catégorisées|\n",
    "|Corpus Reuters|Reuters|1.3M mots, 10k documents de nouvelles, catégorisés|\n",
    "|Thesaurus de Roget|Projet Gutenberg|200k mots, formatés|\n",
    "|RTE Textual Entailment|Dagan et al|8k paires de phrases, catégorisées|\n",
    "|SEMCOR|Rus, Mihalcea|880k mots, taggés pour le part-of-speech et le sens|\n",
    "|Corpus Senseval 2|Pedersen|600k mots, taggés pour le part-of-speech et le sens|\n",
    "|SentiWordNet|Esuli, Sebastiani|scores de sentiment pour 145k ensembles de synonymes WordNet|\n",
    "|textes de Shakespeare (sélections)|Bosak|8 livres en format XML|\n",
    "|Corpus de l'état de l'Union|CSPAN|485k mots, formatés|\n",
    "|Corpus de mots vides|Porter et al|2,400 mots vides pour 11 langues|\n",
    "|Corpus Swadesh|Wiktionary|listes comparatives de mots pour 24 langues|\n",
    "|Switchboard Corpus (selections)|LDC|36 conversations téléphoniques, transcrites et analysées|\n",
    "|Univ Decl of Human Rights|Organisation des Nations Unies|480k mots, plus de 300 langues|\n",
    "|Penn Treebank (selections)|LDC|40k mots, taggés et analysés|\n",
    "|TIMIT Corpus (selections)|NIST/LDC|Fichiers audio et transcriptions pour 16 locuteurs|\n",
    "|VerbNet 2.1|Palmer et al|5k verbes, organisés hiérarchiquement, liés à WordNet|\n",
    "|Wordlist Corpus|OpenOffice.org et al|960k mots et 20k affixes pour 8 langues|\n",
    "|WordNet 3.0 (anglais)|Miller, Fellbaum|145k ensembles de synonymes|"
   ]
  },
  {
   "attachments": {},
   "cell_type": "markdown",
   "metadata": {},
   "source": [
    "### 7. Corpus dans d'autres langues\n",
    "\n",
    "NLTK est livré avec des corpus pour de nombreuses langues, bien que dans certains cas vous devrez apprendre à manipuler les encodages de caractères en Python avant d'utiliser ces corpus (voir 3.3)."
   ]
  },
  {
   "cell_type": "code",
   "execution_count": 1,
   "metadata": {},
   "outputs": [
    {
     "ename": "NameError",
     "evalue": "name 'nltk' is not defined",
     "output_type": "error",
     "traceback": [
      "\u001b[1;31m---------------------------------------------------------------------------\u001b[0m",
      "\u001b[1;31mNameError\u001b[0m                                 Traceback (most recent call last)",
      "\u001b[1;32mc:\\Users\\franc\\Projects\\pepper_data-science_practising\\NLP\\the_nltk_book.ipynb Cell 34\u001b[0m in \u001b[0;36m<cell line: 5>\u001b[1;34m()\u001b[0m\n\u001b[0;32m      <a href='vscode-notebook-cell:/c%3A/Users/franc/Projects/pepper_data-science_practising/NLP/the_nltk_book.ipynb#X45sZmlsZQ%3D%3D?line=0'>1</a>\u001b[0m \u001b[39m# nltk.download('cess_esp')\u001b[39;00m\n\u001b[0;32m      <a href='vscode-notebook-cell:/c%3A/Users/franc/Projects/pepper_data-science_practising/NLP/the_nltk_book.ipynb#X45sZmlsZQ%3D%3D?line=1'>2</a>\u001b[0m \u001b[39m# nltk.corpus.cess_esp.words()\u001b[39;00m\n\u001b[0;32m      <a href='vscode-notebook-cell:/c%3A/Users/franc/Projects/pepper_data-science_practising/NLP/the_nltk_book.ipynb#X45sZmlsZQ%3D%3D?line=2'>3</a>\u001b[0m \u001b[39m# ['El', 'grupo', 'estatal', 'Electricit\\xe9_de_France', ...]\u001b[39;00m\n\u001b[0;32m      <a href='vscode-notebook-cell:/c%3A/Users/franc/Projects/pepper_data-science_practising/NLP/the_nltk_book.ipynb#X45sZmlsZQ%3D%3D?line=3'>4</a>\u001b[0m \u001b[39m# nltk.download('floresta')\u001b[39;00m\n\u001b[1;32m----> <a href='vscode-notebook-cell:/c%3A/Users/franc/Projects/pepper_data-science_practising/NLP/the_nltk_book.ipynb#X45sZmlsZQ%3D%3D?line=4'>5</a>\u001b[0m nltk\u001b[39m.\u001b[39mcorpus\u001b[39m.\u001b[39mfloresta\u001b[39m.\u001b[39mwords()\n\u001b[0;32m      <a href='vscode-notebook-cell:/c%3A/Users/franc/Projects/pepper_data-science_practising/NLP/the_nltk_book.ipynb#X45sZmlsZQ%3D%3D?line=5'>6</a>\u001b[0m \u001b[39m# ['Um', 'revivalismo', 'refrescante', 'O', '7_e_Meio', ...]\u001b[39;00m\n\u001b[0;32m      <a href='vscode-notebook-cell:/c%3A/Users/franc/Projects/pepper_data-science_practising/NLP/the_nltk_book.ipynb#X45sZmlsZQ%3D%3D?line=6'>7</a>\u001b[0m \u001b[39m# nltk.download('indian')\u001b[39;00m\n\u001b[0;32m      <a href='vscode-notebook-cell:/c%3A/Users/franc/Projects/pepper_data-science_practising/NLP/the_nltk_book.ipynb#X45sZmlsZQ%3D%3D?line=7'>8</a>\u001b[0m nltk\u001b[39m.\u001b[39mcorpus\u001b[39m.\u001b[39mindian\u001b[39m.\u001b[39mwords(\u001b[39m'\u001b[39m\u001b[39mhindi.pos\u001b[39m\u001b[39m'\u001b[39m)\n",
      "\u001b[1;31mNameError\u001b[0m: name 'nltk' is not defined"
     ]
    }
   ],
   "source": [
    "# nltk.download('cess_esp')\n",
    "# nltk.corpus.cess_esp.words()\n",
    "# ['El', 'grupo', 'estatal', 'Electricit\\xe9_de_France', ...]\n",
    "# nltk.download('floresta')\n",
    "nltk.corpus.floresta.words()\n",
    "# ['Um', 'revivalismo', 'refrescante', 'O', '7_e_Meio', ...]\n",
    "# nltk.download('indian')\n",
    "nltk.corpus.indian.words('hindi.pos')\n",
    "# ['पूर्ण', 'प्रतिबंध', 'हटाओ', ':', 'इराक', 'संयुक्त', ...]\n",
    "# nltk.download('udhr')\n",
    "nltk.corpus.udhr.fileids()\n",
    "# ['Abkhaz-Cyrillic+Abkh', 'Abkhaz-UTF8', 'Achehnese-Latin1', 'Achuar-Shiwiar-Latin1',\n",
    "# 'Adja-UTF8', 'Afaan_Oromo_Oromiffa-Latin1', 'Afrikaans-Latin1', 'Aguaruna-Latin1',\n",
    "# 'Akuapem_Twi-UTF8', 'Albanian_Shqip-Latin1', 'Amahuaca', 'Amahuaca-Latin1', ...]\n",
    "nltk.corpus.udhr.words('Javanese-Latin1')[11:]\n",
    "# ['Saben', 'umat', 'manungsa', 'lair', 'kanthi', 'hak', ...]"
   ]
  },
  {
   "attachments": {},
   "cell_type": "markdown",
   "metadata": {},
   "source": [
    "Le dernier de ces corpus, `udhr`, contient la Déclaration universelle des droits de l'homme dans plus de 300 langues. Les identifiants de fichier pour ce corpus incluent des informations sur l'encodage de caractères utilisé dans le fichier, comme `UTF8` ou `Latin1`. Utilisons une distribution de fréquence conditionnelle pour examiner les différences dans les longueurs des mots pour une sélection de langues incluses dans le corpus `udhr`. La sortie est affichée dans 1.2 (exécutez le programme vous-même pour voir un graphique en couleurs). Notez que `True` et `False` sont les valeurs booléennes intégrées de Python."
   ]
  },
  {
   "cell_type": "code",
   "execution_count": null,
   "metadata": {},
   "outputs": [
    {
     "data": {
      "image/png": "[encoded data removed]",
      "text/plain": [
       "<Figure size 432x288 with 1 Axes>"
      ]
     },
     "metadata": {
      "needs_background": "light"
     },
     "output_type": "display_data"
    },
    {
     "data": {
      "text/plain": [
       "<AxesSubplot:xlabel='Samples', ylabel='Cumulative Counts'>"
      ]
     },
     "execution_count": 67,
     "metadata": {},
     "output_type": "execute_result"
    }
   ],
   "source": [
    "from nltk.corpus import udhr\n",
    "languages = ['Chickasaw', 'English', 'German_Deutsch',\n",
    "    'Greenlandic_Inuktikut', 'Hungarian_Magyar', 'Ibibio_Efik']\n",
    "cfd = nltk.ConditionalFreqDist(\n",
    "    (lang, len(word))\n",
    "    for lang in languages\n",
    "    for word in udhr.words(lang + '-Latin1'))\n",
    "cfd.plot(cumulative=True)"
   ]
  },
  {
   "attachments": {},
   "cell_type": "markdown",
   "metadata": {},
   "source": [
    "Figure 1.2 : *Distributions cumulatives de longueur de mots : Six traductions de la Déclaration universelle des droits de l'homme sont traitées ; ce graphique montre que les mots ayant 5 lettres ou moins représentent environ 80 % du texte en ibibio, 60 % du texte en allemand et 25 % du texte en inuktitut.*"
   ]
  },
  {
   "attachments": {},
   "cell_type": "markdown",
   "metadata": {},
   "source": [
    "**A vous de jouer** : Choisissez une langue qui vous intéresse dans `udhr.fileids()`, et définissez une variable `raw_text = udhr.raw(Language-Latin1)`. Maintenant, tracez une distribution de fréquence des lettres du texte en utilisant `nltk.FreqDist(raw_text).plot()`."
   ]
  },
  {
   "attachments": {},
   "cell_type": "markdown",
   "metadata": {},
   "source": [
    "Malheureusement, pour de nombreuses langues, des corpus importants ne sont pas encore disponibles. Souvent, il n'y a pas de soutien gouvernemental ou industriel pour développer des ressources linguistiques, et les efforts individuels sont épars et difficiles à découvrir ou à réutiliser. Certaines langues n'ont pas de système d'écriture établi, ou sont en danger. (Voir 7 pour des suggestions sur la façon de localiser des ressources linguistiques.)"
   ]
  },
  {
   "attachments": {},
   "cell_type": "markdown",
   "metadata": {},
   "source": [
    "### 8. Structure des corpus de textes\n",
    "Nous avons vu jusqu'à présent une variété de structures de corpus; celles-ci sont résumées dans la figure 1.3. Le type le plus simple manque de toute structure: il s'agit simplement d'une collection de textes. Souvent, les textes sont regroupés en catégories qui peuvent correspondre à des genres, des sources, des auteurs, des langues, etc. Parfois, ces catégories se chevauchent, notamment dans le cas de catégories thématiques, car un texte peut être pertinent pour plus d'un sujet. Occasionnellement, les collections de textes ont une structure temporelle, les collections de nouvelles étant l'exemple le plus courant.\n",
    "\n",
    "![](https://www.nltk.org/images/text-corpus-structure.png)\n",
    "\n",
    "Figure 1.3: *Structures courantes pour les corpus de textes: Le type de corpus le plus simple est une collection de textes isolés sans organisation particulière; certains corpus sont structurés en catégories comme les genres (Brown Corpus); certaines catégorisations se chevauchent, comme les catégories thématiques (Reuters Corpus); d'autres corpus représentent l'utilisation de la langue dans le temps (Inaugural Address Corpus).*\n",
    "\n",
    "Tableau 1.3:\n",
    "\n",
    "Fonctionnalités de base définies dans NLTK pour les corpus: de plus amples informations peuvent être trouvées en utilisant `help(nltk.corpus.reader)` et en lisant le HOWTO en ligne des corpus à l'adresse `http://nltk.org/howto`.\n",
    "\n",
    "\n"
   ]
  },
  {
   "cell_type": "code",
   "execution_count": 68,
   "metadata": {},
   "outputs": [
    {
     "data": {
      "text/plain": [
       "[['I'],\n",
       " ['BUSTER', 'BEAR', 'GOES', 'FISHING'],\n",
       " ['Buster',\n",
       "  'Bear',\n",
       "  'yawned',\n",
       "  'as',\n",
       "  'he',\n",
       "  'lay',\n",
       "  'on',\n",
       "  'his',\n",
       "  'comfortable',\n",
       "  'bed',\n",
       "  'of',\n",
       "  'leaves',\n",
       "  'and',\n",
       "  'watched',\n",
       "  'the',\n",
       "  'first',\n",
       "  'early',\n",
       "  'morning',\n",
       "  'sunbeams',\n",
       "  'creeping',\n",
       "  'through',\n",
       "  'the',\n",
       "  'Green',\n",
       "  'Forest',\n",
       "  'to',\n",
       "  'chase',\n",
       "  'out',\n",
       "  'the',\n",
       "  'Black',\n",
       "  'Shadows',\n",
       "  '.'],\n",
       " ['Once',\n",
       "  'more',\n",
       "  'he',\n",
       "  'yawned',\n",
       "  ',',\n",
       "  'and',\n",
       "  'slowly',\n",
       "  'got',\n",
       "  'to',\n",
       "  'his',\n",
       "  'feet',\n",
       "  'and',\n",
       "  'shook',\n",
       "  'himself',\n",
       "  '.'],\n",
       " ['Then',\n",
       "  'he',\n",
       "  'walked',\n",
       "  'over',\n",
       "  'to',\n",
       "  'a',\n",
       "  'big',\n",
       "  'pine',\n",
       "  '-',\n",
       "  'tree',\n",
       "  ',',\n",
       "  'stood',\n",
       "  'up',\n",
       "  'on',\n",
       "  'his',\n",
       "  'hind',\n",
       "  'legs',\n",
       "  ',',\n",
       "  'reached',\n",
       "  'as',\n",
       "  'high',\n",
       "  'up',\n",
       "  'on',\n",
       "  'the',\n",
       "  'trunk',\n",
       "  'of',\n",
       "  'the',\n",
       "  'tree',\n",
       "  'as',\n",
       "  'he',\n",
       "  'could',\n",
       "  ',',\n",
       "  'and',\n",
       "  'scratched',\n",
       "  'the',\n",
       "  'bark',\n",
       "  'with',\n",
       "  'his',\n",
       "  'great',\n",
       "  'claws',\n",
       "  '.'],\n",
       " ['After',\n",
       "  'that',\n",
       "  'he',\n",
       "  'yawned',\n",
       "  'until',\n",
       "  'it',\n",
       "  'seemed',\n",
       "  'as',\n",
       "  'if',\n",
       "  'his',\n",
       "  'jaws',\n",
       "  'would',\n",
       "  'crack',\n",
       "  ',',\n",
       "  'and',\n",
       "  'then',\n",
       "  'sat',\n",
       "  'down',\n",
       "  'to',\n",
       "  'think',\n",
       "  'what',\n",
       "  'he',\n",
       "  'wanted',\n",
       "  'for',\n",
       "  'breakfast',\n",
       "  '.'],\n",
       " ['While',\n",
       "  'he',\n",
       "  'sat',\n",
       "  'there',\n",
       "  ',',\n",
       "  'trying',\n",
       "  'to',\n",
       "  'make',\n",
       "  'up',\n",
       "  'his',\n",
       "  'mind',\n",
       "  'what',\n",
       "  'would',\n",
       "  'taste',\n",
       "  'best',\n",
       "  ',',\n",
       "  'he',\n",
       "  'was',\n",
       "  'listening',\n",
       "  'to',\n",
       "  'the',\n",
       "  'sounds',\n",
       "  'that',\n",
       "  'told',\n",
       "  'of',\n",
       "  'the',\n",
       "  'waking',\n",
       "  'of',\n",
       "  'all',\n",
       "  'the',\n",
       "  'little',\n",
       "  'people',\n",
       "  'who',\n",
       "  'live',\n",
       "  'in',\n",
       "  'the',\n",
       "  'Green',\n",
       "  'Forest',\n",
       "  '.'],\n",
       " ['He',\n",
       "  'heard',\n",
       "  'Sammy',\n",
       "  'Jay',\n",
       "  'way',\n",
       "  'off',\n",
       "  'in',\n",
       "  'the',\n",
       "  'distance',\n",
       "  'screaming',\n",
       "  ',',\n",
       "  '\"',\n",
       "  'Thief',\n",
       "  '!'],\n",
       " ['Thief', '!\"'],\n",
       " ['and', 'grinned', '.'],\n",
       " ['\"',\n",
       "  'I',\n",
       "  'wonder',\n",
       "  ',\"',\n",
       "  'thought',\n",
       "  'Buster',\n",
       "  ',',\n",
       "  '\"',\n",
       "  'if',\n",
       "  'some',\n",
       "  'one',\n",
       "  'has',\n",
       "  'stolen',\n",
       "  'Sammy',\n",
       "  \"'\",\n",
       "  's',\n",
       "  'breakfast',\n",
       "  ',',\n",
       "  'or',\n",
       "  'if',\n",
       "  'he',\n",
       "  'has',\n",
       "  'stolen',\n",
       "  'the',\n",
       "  'breakfast',\n",
       "  'of',\n",
       "  'some',\n",
       "  'one',\n",
       "  'else',\n",
       "  '.'],\n",
       " ['Probably', 'he', 'is', 'the', 'thief', 'himself', '.\"'],\n",
       " ['He',\n",
       "  'heard',\n",
       "  'Chatterer',\n",
       "  'the',\n",
       "  'Red',\n",
       "  'Squirrel',\n",
       "  'scolding',\n",
       "  'as',\n",
       "  'fast',\n",
       "  'as',\n",
       "  'he',\n",
       "  'could',\n",
       "  'make',\n",
       "  'his',\n",
       "  'tongue',\n",
       "  'go',\n",
       "  'and',\n",
       "  'working',\n",
       "  'himself',\n",
       "  'into',\n",
       "  'a',\n",
       "  'terrible',\n",
       "  'rage',\n",
       "  '.'],\n",
       " ['\"',\n",
       "  'Must',\n",
       "  'be',\n",
       "  'that',\n",
       "  'Chatterer',\n",
       "  'got',\n",
       "  'out',\n",
       "  'of',\n",
       "  'bed',\n",
       "  'the',\n",
       "  'wrong',\n",
       "  'way',\n",
       "  'this',\n",
       "  'morning',\n",
       "  ',\"',\n",
       "  'thought',\n",
       "  'he',\n",
       "  '.'],\n",
       " ['He',\n",
       "  'heard',\n",
       "  'Blacky',\n",
       "  'the',\n",
       "  'Crow',\n",
       "  'cawing',\n",
       "  'at',\n",
       "  'the',\n",
       "  'top',\n",
       "  'of',\n",
       "  'his',\n",
       "  'lungs',\n",
       "  ',',\n",
       "  'and',\n",
       "  'he',\n",
       "  'knew',\n",
       "  'by',\n",
       "  'the',\n",
       "  'sound',\n",
       "  'that',\n",
       "  'Blacky',\n",
       "  'was',\n",
       "  'getting',\n",
       "  'into',\n",
       "  'mischief',\n",
       "  'of',\n",
       "  'some',\n",
       "  'kind',\n",
       "  '.'],\n",
       " ['He',\n",
       "  'heard',\n",
       "  'the',\n",
       "  'sweet',\n",
       "  'voices',\n",
       "  'of',\n",
       "  'happy',\n",
       "  'little',\n",
       "  'singers',\n",
       "  ',',\n",
       "  'and',\n",
       "  'they',\n",
       "  'were',\n",
       "  'good',\n",
       "  'to',\n",
       "  'hear',\n",
       "  '.'],\n",
       " ['But',\n",
       "  'most',\n",
       "  'of',\n",
       "  'all',\n",
       "  'he',\n",
       "  'listened',\n",
       "  'to',\n",
       "  'a',\n",
       "  'merry',\n",
       "  ',',\n",
       "  'low',\n",
       "  ',',\n",
       "  'silvery',\n",
       "  'laugh',\n",
       "  'that',\n",
       "  'never',\n",
       "  'stopped',\n",
       "  'but',\n",
       "  'went',\n",
       "  'on',\n",
       "  'and',\n",
       "  'on',\n",
       "  ',',\n",
       "  'until',\n",
       "  'he',\n",
       "  'just',\n",
       "  'felt',\n",
       "  'as',\n",
       "  'if',\n",
       "  'he',\n",
       "  'must',\n",
       "  'laugh',\n",
       "  'too',\n",
       "  '.'],\n",
       " ['It', 'was', 'the', 'voice', 'of', 'the', 'Laughing', 'Brook', '.'],\n",
       " ['And',\n",
       "  'as',\n",
       "  'Buster',\n",
       "  'listened',\n",
       "  'it',\n",
       "  'suddenly',\n",
       "  'came',\n",
       "  'to',\n",
       "  'him',\n",
       "  'just',\n",
       "  'what',\n",
       "  'he',\n",
       "  'wanted',\n",
       "  'for',\n",
       "  'breakfast',\n",
       "  '.']]"
      ]
     },
     "execution_count": 68,
     "metadata": {},
     "output_type": "execute_result"
    }
   ],
   "source": [
    "raw = gutenberg.raw(\"burgess-busterbrown.txt\")\n",
    "raw[1:20]\n",
    "# 'The Adventures of B'\n",
    "words = gutenberg.words(\"burgess-busterbrown.txt\")\n",
    "words[1:20]\n",
    "# ['The', 'Adventures', 'of', 'Buster', 'Bear', 'by', 'Thornton', 'W', '.',\n",
    "# 'Burgess', '1920', ']', 'I', 'BUSTER', 'BEAR', 'GOES', 'FISHING', 'Buster',\n",
    "# 'Bear']\n",
    "sents = gutenberg.sents(\"burgess-busterbrown.txt\")\n",
    "sents[1:20]\n",
    "# [['I'], ['BUSTER', 'BEAR', 'GOES', 'FISHING'], ['Buster', 'Bear', 'yawned', 'as',\n",
    "# 'he', 'lay', 'on', 'his', 'comfortable', 'bed', 'of', 'leaves', 'and', 'watched',\n",
    "# 'the', 'first', 'early', 'morning', 'sunbeams', 'creeping', 'through', ...], ...]"
   ]
  },
  {
   "attachments": {},
   "cell_type": "markdown",
   "metadata": {},
   "source": [
    "### 9. Charger votre propre corpus"
   ]
  },
  {
   "cell_type": "code",
   "execution_count": null,
   "metadata": {},
   "outputs": [],
   "source": [
    "from nltk.corpus import PlaintextCorpusReader\n",
    "corpus_root = '/usr/share/dict'\n",
    "wordlists = PlaintextCorpusReader(corpus_root, '.*')\n",
    "wordlists.fileids()\n",
    "# ['README', 'connectives', 'propernames', 'web2', 'web2a', 'words']\n",
    "wordlists.words('connectives')\n",
    "# ['the', 'of', 'and', 'to', 'a', 'in', 'that', 'is', ...]"
   ]
  },
  {
   "cell_type": "code",
   "execution_count": null,
   "metadata": {},
   "outputs": [],
   "source": [
    "from nltk.corpus import BracketParseCorpusReader\n",
    "corpus_root = r\"C:\\corpora\\penntreebank\\parsed\\mrg\\wsj\"\n",
    "file_pattern = r\".*/wsj_.*\\.mrg\"\n",
    "ptb = BracketParseCorpusReader(corpus_root, file_pattern)\n",
    "ptb.fileids()\n",
    "# ['00/wsj_0001.mrg', '00/wsj_0002.mrg', '00/wsj_0003.mrg', '00/wsj_0004.mrg', ...]\n",
    "len(ptb.sents())\n",
    "# 49208\n",
    "ptb.sents(fileids='20/wsj_2013.mrg')[19]\n",
    "# ['The', '55-year-old', 'Mr.', 'Noriega', 'is', \"n't\", 'as', 'smooth', 'as', 'the',\n",
    "# 'shah', 'of', 'Iran', ',', 'as', 'well-born', 'as', 'Nicaragua', \"'s\", 'Anastasio',\n",
    "# 'Somoza', ',', 'as', 'imperial', 'as', 'Ferdinand', 'Marcos', 'of', 'the', 'Philippines',\n",
    "# 'or', 'as', 'bloody', 'as', 'Haiti', \"'s\", 'Baby', Doc', 'Duvalier', '.']"
   ]
  },
  {
   "attachments": {},
   "cell_type": "markdown",
   "metadata": {},
   "source": [
    "# 3. Traitement des textes bruts"
   ]
  },
  {
   "attachments": {},
   "cell_type": "markdown",
   "metadata": {},
   "source": [
    "## 3.0. Sommaire\n",
    "\n",
    "1. Accéder aux textes sur le Web et sur le disque\n",
    "    1. Livres électroniques\n",
    "    2. Traitement de HTML\n",
    "    3. Traitement des résultats des moteurs de recherche\n",
    "    4. Traitement des flux RSS\n",
    "    5. Lecture de fichiers locaux\n",
    "    6. Extraction de texte à partir de PDF, MSWord et autres formats binaires\n",
    "    7. Capture de l'entrée utilisateur\n",
    "    8. Le pipeline NLP\n",
    "2. Chaînes de caractères: traitement de texte au plus bas niveau\n",
    "    1. Opérations de base avec les chaînes de caractères\n",
    "    2. Impression de chaînes de caractères\n",
    "    3. Accéder à des caractères individuels\n",
    "    4. Accéder à des sous-chaînes\n",
    "    5. Plus d'opérations sur les chaînes de caractères\n",
    "    6. La différence entre les listes et les chaînes de caractères\n",
    "3. Traitement de texte avec Unicode\n",
    "    1. Qu'est-ce que Unicode?\n",
    "    2. Extraction de textes encodés à partir de fichiers\n",
    "    3. Utilisation de votre encodage local dans Python\n",
    "4. Expressions régulières pour détecter les motifs de mots\n",
    "    1. Utilisation de méta-caractères de base\n",
    "    2. Plages et fermetures\n",
    "5. Applications utiles des expressions régulières\n",
    "    1. Extraction de morceaux de mots\n",
    "    2. Faire plus avec des morceaux de mots\n",
    "    3. Trouver les racines des mots\n",
    "    4. Recherche de textes tokenisés\n",
    "6. Normalisation du texte\n",
    "    1. Stemmers\n",
    "    2. Lemmatisation\n",
    "7. Expressions régulières pour tokeniser le texte\n",
    "    3. Approches simples de tokenisation\n",
    "    4. Tokeniseur d'expression régulière NLTK\n",
    "    5. Problèmes supplémentaires liés à la tokenisation\n",
    "8. Segmentation\n",
    "    1. Segmentation de phrases\n",
    "    2. Segmentation de mots\n",
    "9. Mise en forme: des listes aux chaînes de caractères\n",
    "    1. Des listes aux chaînes de caractères\n",
    "    2. Chaînes de caractères et formats\n",
    "    3. Alignement\n",
    "    4. Ecriture des résultats dans un fichier\n",
    "    5. Retrait de texte\n",
    "10. Résumé\n",
    "11. Lectures complémentaires\n",
    "12. Exercices"
   ]
  },
  {
   "attachments": {},
   "cell_type": "markdown",
   "metadata": {},
   "source": [
    "# 4. Écrire des programmes structurés"
   ]
  },
  {
   "attachments": {},
   "cell_type": "markdown",
   "metadata": {},
   "source": [
    "## 4.0. Sommaire\n",
    "\n",
    "1. Retour aux bases\n",
    "    1. Affectation\n",
    "    2. Egalité\n",
    "    3. Conditions\n",
    "2. Séquences\n",
    "    1. Opérations sur les types de séquences\n",
    "    2. Combinaison de différents types de séquences\n",
    "    3. Expressions génératrices\n",
    "3. Questions de style\n",
    "    1. Style de codage Python\n",
    "    2. Style procédural vs déclaratif\n",
    "    3. Quelques utilisations légitimes pour les compteurs\n",
    "4. Fonctions: la base de la programmation structurée\n",
    "    1. Entrées et sorties de fonctions\n",
    "    2. Passage de paramètres\n",
    "    3. Portée des variables\n",
    "    4. Vérification des types de paramètres\n",
    "    5. Décomposition fonctionnelle\n",
    "    6. Documentation des fonctions\n",
    "5. Faire plus avec des fonctions\n",
    "    1. Fonctions en tant qu'arguments\n",
    "    2. Fonctions cumulatives\n",
    "    3. Fonctions d'ordre supérieur\n",
    "    4. Arguments nommés\n",
    "6. Développement de programmes\n",
    "    1. Structure d'un module Python\n",
    "    2. Programmes à plusieurs modules\n",
    "    3. Sources d'erreur\n",
    "    4. Techniques de débogage\n",
    "    5. Programmation défensive\n",
    "7. Conception d'algorithmes\n",
    "    1. Récursivité\n",
    "    2. Echanges espace-temps\n",
    "    3. Programmation dynamique\n",
    "8. Un échantillon de bibliothèques Python\n",
    "    1. Matplotlib\n",
    "    2. NetworkX\n",
    "    3. csv\n",
    "    4. NumPy\n",
    "    5. Autres bibliothèques Python\n",
    "9. Résumé\n",
    "10. Lectures complémentaires\n",
    "11. Exercices"
   ]
  },
  {
   "attachments": {},
   "cell_type": "markdown",
   "metadata": {},
   "source": [
    "# 5. Catégorisation et balisage des mots (des corrections mineures sont encore nécessaires)"
   ]
  },
  {
   "attachments": {},
   "cell_type": "markdown",
   "metadata": {},
   "source": [
    "## 5.0. Sommaire\n",
    "\n",
    "1. Utilisation d'un marquage\n",
    "2. Corpus marqués\n",
    "    1. Représentation des jetons marqués\n",
    "    2. Lecture des corpus marqués\n",
    "    3. Un ensemble de balises de partie du discours universel\n",
    "    4. Noms\n",
    "    5. Verbes\n",
    "    6. Adjectifs et adverbes\n",
    "    7. Balises non simplifiées\n",
    "    8. Exploration des corpus marqués\n",
    "3. Mapping des mots aux propriétés en utilisant les dictionnaires Python\n",
    "    1. Indexation des listes vs des dictionnaires\n",
    "    2. Dictionnaires en Python\n",
    "    3. Définition des dictionnaires\n",
    "    4. Dictionnaires par défaut\n",
    "    5. Mise à jour incrémentielle d'un dictionnaire\n",
    "    6. Clés et valeurs complexes\n",
    "    7. Inversion d'un dictionnaire\n",
    "4. Marquage automatique\n",
    "    1. Le marquage par défaut\n",
    "    2. Le marquage par expression régulière\n",
    "    3. Le marquage par recherche\n",
    "    4. Évaluation\n",
    "5. Marquage N-Gram\n",
    "    1. Marquage unigram\n",
    "    2. Séparation des données d'entraînement et de test\n",
    "    3. Marquage général N-Gram\n",
    "    4. Combinaison de marquages\n",
    "    5. Marquage des mots inconnus\n",
    "    6. Stockage des marquages\n",
    "    7. Limitations de performance\n",
    "6. Marquage basé sur la transformation\n",
    "7. Comment déterminer la catégorie d'un mot\n",
    "    1. Indices morphologiques\n",
    "    2. Indices syntaxiques\n",
    "    3. Indices sémantiques\n",
    "    4. Nouveaux mots\n",
    "    5. Morphologie dans les ensembles de balises de partie du discours\n",
    "8. Résumé\n",
    "9. Lectures complémentaires\n",
    "10. Exercices"
   ]
  },
  {
   "attachments": {},
   "cell_type": "markdown",
   "metadata": {},
   "source": [
    "# 6. Apprendre à classer le texte"
   ]
  },
  {
   "attachments": {},
   "cell_type": "markdown",
   "metadata": {},
   "source": [
    "## 6.0. Sommaire\n",
    "\n",
    "1. Classification supervisée\n",
    "    1. Identification du genre\n",
    "    2. Choix des bons caractéristiques\n",
    "    3. Classification de documents\n",
    "    4. Marquage de la partie du discours\n",
    "    5. Exploitation du contexte\n",
    "    6. Classification de séquences\n",
    "    7. Autres méthodes pour la classification de séquences\n",
    "2. Autres exemples de classification supervisée\n",
    "    1. Segmentation de phrases\n",
    "    2. Identification des types d'actes de dialogue\n",
    "    3. Reconnaissance de l'entaille textuelle\n",
    "    4. Mise à l'échelle des grandes données\n",
    "3. Évaluation\n",
    "    1. L'ensemble de test\n",
    "    2. Précision\n",
    "    3. Précision et rappel\n",
    "    4. Matrices de confusion\n",
    "    5. Validation croisée\n",
    "4. Arbres de décision\n",
    "    1. Entropie et gain d'information\n",
    "5. Classificateurs de Bayes naïfs\n",
    "    1. Modèle probabiliste sous-jacent\n",
    "    2. Comptages nuls et lissage\n",
    "    3. Caractéristiques non binaires\n",
    "    4. Naïveté de l'indépendance\n",
    "    5. Cause du comptage double\n",
    "6. Classificateurs d'entropie maximale\n",
    "    1. Le modèle d'entropie maximale\n",
    "    2. Maximisation de l'entropie\n",
    "    3. Classificateurs génératifs vs conditionnels\n",
    "7. Modélisation de patrons linguistiques\n",
    "    1. Que nous disent les modèles ?\n",
    "8. Résumé\n",
    "9. Lectures complémentaires\n",
    "10. Exercices"
   ]
  },
  {
   "attachments": {},
   "cell_type": "markdown",
   "metadata": {},
   "source": [
    "# 7. Extraction d'informations à partir du texte\n",
    "\n",
    "Pour chaque question, il est probable qu'une réponse ait été écrite quelque part. La quantité de texte de langage naturel qui est disponible sous forme électronique est vraiment étonnante et augmente chaque jour. Cependant, la complexité du langage naturel peut rendre très difficile l'accès à l'information contenue dans ce texte. L'état de l'art en NLP est encore loin de pouvoir construire des représentations de sens générales à partir de textes sans restriction. Si nous nous concentrons au lieu de cela sur un nombre limité de questions ou de relations d'entités, telles que \"où se situent les différents équipements\" ou \"qui est employé par quelle entreprise\", nous pouvons faire des progrès significatifs. Le but de ce chapitre est de répondre aux questions suivantes:\n",
    "\n",
    "1. Comment construire un système qui extrait des données structurées, telles que des tableaux, à partir de textes non structurés?\n",
    "2. Quelles sont les méthodes robustes pour identifier les entités et les relations décrites dans un texte?\n",
    "3. Quelles sont les corpus appropriés pour ce travail et comment les utilisons-nous pour former et évaluer nos modèles?\n",
    "\n",
    "Au fur et à mesure, nous appliquerons les techniques des deux derniers chapitres aux problèmes de découpage et de reconnaissance d'entités nommées."
   ]
  },
  {
   "attachments": {},
   "cell_type": "markdown",
   "metadata": {},
   "source": [
    "## 7.0. Sommaire\n",
    "\n",
    "1. Extraction d'informations\n",
    "    1. Architecture d'extraction d'informations\n",
    "2. Chunking (extraction de morceaux)\n",
    "    1. Chunking de phrases nominale\n",
    "    2. Modèles de balisage\n",
    "    3. Chunking avec des expressions régulières\n",
    "    4. Exploration des corpus de textes\n",
    "    5. Chinking (élimination de morceaux)\n",
    "    6. Représentation des chunks : balises vs arbres\n",
    "3. Développement et évaluation des chunkers\n",
    "    1. Lecture du format IOB et du corpus CoNLL 2000\n",
    "    2. Évaluation simple et lignes de base\n",
    "    3. Formation de chunkers basés sur des classificateurs\n",
    "4. Récursivité dans la structure linguistique\n",
    "    1. Construction de structure imbriquée avec des chunkers en cascade\n",
    "    2. Arbres\n",
    "    3. Parcours d'arbres\n",
    "5. Reconnaissance des entités nommées\n",
    "6. Extraction de relations\n",
    "7. Résumé\n",
    "8. Lectures complémentaires\n",
    "9. Exercices"
   ]
  },
  {
   "attachments": {},
   "cell_type": "markdown",
   "metadata": {},
   "source": [
    "## 7.1. Extraction d'informations\n",
    "\n",
    "L'information peut prendre de nombreuses formes et tailles. Une forme importante est celle des **données structurées**, dans laquelle il y a une organisation régulière et prévisible d'entités et de relations. Par exemple, nous pourrions être intéressés par la relation entre les entreprises et les emplacements. Pour une entreprise donnée, nous voudrions être en mesure d'identifier les emplacements où elle exerce ses activités ; inversement, pour un emplacement donné, nous voudrions découvrir les entreprises qui exercent leurs activités à cet endroit. Si nos données sont sous forme de tableau, telles que dans l'exemple de 1.1, répondre à ces requêtes est simple.\n",
    "\n",
    "***Table 1.1***\n",
    "\n",
    "Données de localisation\n",
    "\n",
    "|**OrgName**|**LocationName**|\n",
    "|-|-|\n",
    "|Omnicom|New York|\n",
    "|DDB Needham|New York|\n",
    "|Kaplan Thaler Group|New York|\n",
    "|BBDO South|Atlanta|\n",
    "|Georgia-Pacific|Atlanta|\n",
    "\n",
    "Si ces données de localisation étaient enregistrées en tant que liste de tuples `(entity, relation, entity)`, alors la question \"Quelles organisations opèrent à Atlanta\" pourrait être ainsi traduite :"
   ]
  },
  {
   "cell_type": "code",
   "execution_count": 1,
   "metadata": {},
   "outputs": [
    {
     "name": "stdout",
     "output_type": "stream",
     "text": [
      "['BBDO South', 'Georgia-Pacific']\n"
     ]
    }
   ],
   "source": [
    "locs = [\n",
    "    ('Omnicom', 'IN', 'New York'),\n",
    "    ('DDB Needham', 'IN', 'New York'),\n",
    "    ('Kaplan Thaler Group', 'IN', 'New York'),\n",
    "    ('BBDO South', 'IN', 'Atlanta'),\n",
    "    ('Georgia-Pacific', 'IN', 'Atlanta')\n",
    "]\n",
    "query = [e1 for (e1, rel, e2) in locs if e2=='Atlanta']\n",
    "print(query)\n",
    "# ['BBDO South', 'Georgia-Pacific']"
   ]
  },
  {
   "attachments": {},
   "cell_type": "markdown",
   "metadata": {},
   "source": [
    "***Table 1.2***:\n",
    "\n",
    "Entreprises qui opèrent à Atlanta\n",
    "\n",
    "|**OrgName**|\n",
    "|-|\n",
    "|BBDO South|\n",
    "|Georgia-Pacific|\n",
    "\n",
    "Les choses sont plus difficiles si nous essayons d'obtenir une information similaire à partir de textes. Par exemple, considérons l'extrait suivant (de `nltk.corpus.ieer`, pour le fileid `NYT19980315.0085`).\n",
    "\n",
    "(1) *Le quatrième compte Wells qui se déplace vers une autre agence est la division de produits en papier emballé de Georgia-Pacific Corp., qui est arrivée chez Wells seulement l'automne dernier. Comme Hertz et la chaîne History, il quitte également pour une agence appartenant à Omnicom, l'unité BBDO South de BBDO Worldwide. BBDO South à Atlanta, qui gère la publicité d'entreprise pour Georgia-Pacific, assumera également les tâches supplémentaires pour des marques comme Angel Soft papier toilette et Sparkle essuie-tout, a déclaré Ken Haldin, porte-parole de Georgia-Pacific à Atlanta.*\n",
    "\n",
    "Si vous lisez (1), vous obtiendrez les informations nécessaires pour répondre à la question de l'exemple. Mais comment obtenir une machine qui comprenne suffisamment (1) pour renvoyer les réponses de 1.2 ? C'est évidemment une tâche plus difficile. Contrairement à 1.1, (1) ne contient aucune structure qui relie les noms d'organisations aux noms d'emplacements.\n",
    "\n",
    "Une approche de ce problème implique la construction d'une représentation très générale du sens (10.). Dans ce chapitre, nous adoptons une approche différente, en décidant à l'avance que nous ne regarderons que des types très spécifiques d'informations dans les textes, tels que la relation entre les organisations et les emplacements. Au lieu d'essayer d'utiliser le texte comme (1) pour répondre directement à la question, nous convertissons d'abord les **données non structurées** des phrases de langage naturel en données structurées de 1.1. Ensuite, nous bénéficions des puissants outils de requête tels que SQL. Cette méthode pour obtenir du sens à partir de textes est appelée **Extraction d'Informations**.\n",
    "\n",
    "L'Extraction d'Informations a de nombreuses applications, notamment l'intelligence d'affaires, la récolte de CV, l'analyse des médias, la détection de sentiments, la recherche de brevets et la numérisation de courriels. Une zone particulièrement importante de la recherche actuelle consiste à extraire des données structurées de la littérature scientifique numérisée, en particulier dans le domaine de la biologie et de la médecine."
   ]
  },
  {
   "attachments": {},
   "cell_type": "markdown",
   "metadata": {},
   "source": [
    "### 7.1.1. Architecture d'extraction d'informations\n",
    "\n",
    "La figure 1.1 montre l'architecture d'un système d'extraction d'informations simple. Il commence par traiter un document en utilisant plusieurs des procédures discutées dans les sections 3 et 5 : tout d'abord, le texte brut du document est divisé en phrases à l'aide d'un segmenteur de phrases, et chaque phrase est subdivisée en mots à l'aide d'un tokeniseur. Ensuite, chaque phrase est étiquetée avec des tags de partie du discours, ce qui s'avérera très utile dans l'étape suivante, la **détection d'entités nommées**. À cette étape, nous recherchons des mentions d'entités potentiellement intéressantes dans chaque phrase. Enfin, nous utilisons la **détection de relations** pour rechercher des relations probables entre différentes entités dans le texte.\n",
    "\n",
    "![](https://www.nltk.org/images/ie-architecture.png)\n",
    "\n",
    "*La **figure 1.1** montre l'architecture simple d'un système d'extraction d'informations. Ce système prend en entrée le texte brut d'un document et génère une liste de tuples `(entité, relation, entité)` en sortie. Par exemple, pour un document qui indique que la société Georgia-Pacific est située à Atlanta, il peut générer le tuple `([ORG: 'Georgia-Pacific'] 'in' [LOC: 'Atlanta'])`.*\n",
    "\n",
    "Pour effectuer les trois premières tâches, nous pouvons définir une fonction simple qui relie simplement le segmenteur de phrases par défaut [1], le tokeniseur de mots [2] et l'étiqueteur de partie du discours [3] de NLTK :"
   ]
  },
  {
   "cell_type": "code",
   "execution_count": null,
   "metadata": {},
   "outputs": [],
   "source": [
    "def ie_preprocess(document):\n",
    "    sentences = nltk.sent_tokenize(document)  # [1]\n",
    "    sentences = [nltk.word_tokenize(sent) for sent in sentences]  # [2]\n",
    "    sentences = [nltk.pos_tag(sent) for sent in sentences]  # [3]"
   ]
  },
  {
   "attachments": {},
   "cell_type": "markdown",
   "metadata": {},
   "source": [
    "**Note** N'oubliez pas que nos exemples de programmes suppose que vous démarrez votre session interactive ou votre programme avec : `import nltk, re, pprint`\n",
    "\n",
    "Ensuite, dans la détection des entités nommées, nous segmentons et étiquettons les entités qui pourraient participer à des relations intéressantes entre elles. Typiquement, ce seront des expressions nominales définies telles que *the knights who say \"ni\"*, ou des noms propres tels que *Monty Python*. Dans certaines tâches, il est utile de considérer également les noms nominaux indéfinis ou les groupes nominaux, tels que *every student* ou *cats*, et ces derniers ne font pas nécessairement référence à des entités de la même manière que les ENP définies et les noms propres.\n",
    "\n",
    "Enfin, dans l'extraction de relations, nous recherchons des modèles spécifiques entre des paires d'entités qui se produisent à proximité dans le texte, et nous utilisons ces modèles pour construire des tuples enregistrant les relations entre les entités."
   ]
  },
  {
   "attachments": {},
   "cell_type": "markdown",
   "metadata": {},
   "source": [
    "# 8. Analyse de la structure de la phrase"
   ]
  },
  {
   "attachments": {},
   "cell_type": "markdown",
   "metadata": {},
   "source": [
    "## 8.0. Sommaire\n",
    "\n",
    "1. Certains dilemmes grammaticaux\n",
    "    1. Les données linguistiques et les possibilités illimitées\n",
    "    2. L'ambiguïté ubiquitaire\n",
    "2. A quoi sert la syntaxe?\n",
    "    1. Au-delà des n-grammes\n",
    "3. Grammaire dépendante du contexte\n",
    "    1. Une grammaire simple\n",
    "    2. Ecrire vos propres grammaires\n",
    "    3. Récursion dans la structure syntaxique\n",
    "4. Analyse syntaxique avec une grammaire dépendante du contexte\n",
    "    1. Analyse descendante récursive\n",
    "    2. Analyse décaler-réduire\n",
    "    3. Analyseur Left-Corner\n",
    "    4. Tableaux de sous-chaînes bien formées\n",
    "5. Dépendances et grammaire dépendante\n",
    "    1. Valence et lexique\n",
    "    2. Échelle\n",
    "6. Développement de grammaire\n",
    "    1. Arbres syntaxiques et grammaires\n",
    "    2. Ambiguïté pernicieuse\n",
    "    3. Grammaire pondérée\n",
    "7. Résumé\n",
    "8. Lectures complémentaires\n",
    "9. Exercices"
   ]
  },
  {
   "attachments": {},
   "cell_type": "markdown",
   "metadata": {},
   "source": [
    "# 9. Construction de grammaires basées sur les caractéristiques"
   ]
  },
  {
   "attachments": {},
   "cell_type": "markdown",
   "metadata": {},
   "source": [
    "## 9.0. Sommaire\n",
    "\n",
    "1. Caractéristiques grammaticales\n",
    "    1. Accord syntaxique\n",
    "    2. Utilisation des attributs et des contraintes\n",
    "    3. Terminologie\n",
    "2. Traitement des structures de caractéristiques\n",
    "    1. Soumission et unification\n",
    "3. Extension d'une grammaire basée sur des caractéristiques\n",
    "    1. Sous-catégorisation\n",
    "    2. Têtes revisitées\n",
    "    3. Verbes auxiliaires et inversion\n",
    "    4. Constructions de dépendance illimitées\n",
    "    5. Cas et genre en allemand\n",
    "4. Résumé\n",
    "5. Lectures complémentaires\n",
    "6. Exercices"
   ]
  },
  {
   "attachments": {},
   "cell_type": "markdown",
   "metadata": {},
   "source": [
    "# 10. Analyse de la signification des phrases (des corrections mineures sont encore nécessaires)"
   ]
  },
  {
   "attachments": {},
   "cell_type": "markdown",
   "metadata": {},
   "source": [
    "## 10.0. Sommaire\n",
    "\n",
    "1. Compréhension de la langue naturelle\n",
    "    1. Interrogation d'une base de données\n",
    "    2. Langage naturel, sémantique et logique\n",
    "2. Logique propositionnelle\n",
    "3. Logique du premier ordre\n",
    "    1. Syntaxe\n",
    "    2. Démonstration de théorèmes en logique du premier ordre\n",
    "    3. Résumé de la langue de la logique du premier ordre\n",
    "    4. Vérité dans un modèle\n",
    "    5. Variables individuelles et affectations\n",
    "    6. Quantification\n",
    "    7. Ambiguïté de portée de quantificateurs\n",
    "    8. Construction de modèles\n",
    "4. Sémantique des phrases en anglais\n",
    "    1. Sémantique compositionnelle dans la grammaire basée sur les caractéristiques\n",
    "    2. λ-calcul\n",
    "    3. NPs quantifiés\n",
    "    4. Verbes transitifs\n",
    "    5. Réexamen de l'ambiguïté de quantificateurs\n",
    "5. Sémantique du discours\n",
    "    1. Théorie de la représentation du discours\n",
    "    2. Traitement du discours\n",
    "6. Résumé\n",
    "7. Lectures complémentaires\n",
    "8. Exercices\n"
   ]
  },
  {
   "attachments": {},
   "cell_type": "markdown",
   "metadata": {},
   "source": [
    "# 11. Gestion des données linguistiques (des corrections mineures sont encore nécessaires)"
   ]
  },
  {
   "attachments": {},
   "cell_type": "markdown",
   "metadata": {},
   "source": [
    "## 11.0. Sommaire\n",
    "\n",
    "1. Structure d'un corpus : étude de cas\n",
    "    1. La structure de TIMIT\n",
    "    2. Caractéristiques de conception remarquables\n",
    "    3. Types de données fondamentaux\n",
    "2. Cycle de vie d'un corpus\n",
    "    1. Trois scénarios de création de corpus\n",
    "    2. Contrôle de qualité\n",
    "    3. Curation vs Evolution\n",
    "3. Acquisition de données\n",
    "    1. Obtention de données à partir d'Internet\n",
    "    2. Obtention de données à partir de fichiers de traitement de texte\n",
    "    3. Obtention de données à partir de feuilles de calcul et de bases de données\n",
    "    4. Conversion de formats de données\n",
    "    5. Décision sur les couches d'annotation à inclure\n",
    "    6. Standards et outils\n",
    "    7. Considérations particulières lors de la manipulation de langues en danger\n",
    "4. Travailler avec XML\n",
    "    1. Utilisation d'XML pour les structures linguistiques\n",
    "    2. Rôle de XML\n",
    "    3. Interface ElementTree\n",
    "    4. Utilisation d'ElementTree pour accéder aux données Toolbox\n",
    "    5. Mise en forme des entrées\n",
    "5. Travailler avec les données Toolbox\n",
    "    1. Ajout d'un champ à chaque entrée\n",
    "    2. Validation d'un lexique Toolbox\n",
    "6. Description des ressources linguistiques à l'aide des métadonnées OLAC\n",
    "    1. Qu'est-ce que les métadonnées?\n",
    "    2. OLAC : communauté Open Language Archives\n",
    "    3. Diffusion des ressources linguistiques\n",
    "7. Résumé\n",
    "8. Lectures complémentaires\n",
    "9. Exercices"
   ]
  },
  {
   "attachments": {},
   "cell_type": "markdown",
   "metadata": {},
   "source": [
    "# 12. Postface: Confrontation au défi linguistique (4p)\n",
    "\n",
    "La compréhension du langage naturel présente des défis informatiques intéressants. Nous avons exploré de nombreux aspects de ces défis dans les chapitres précédents, y compris la tokenisation, l'étiquetage, la classification, l'extraction d'informations et la construction de représentations syntaxiques et sémantiques. Vous devriez maintenant être en mesure de travailler avec des jeux de données importants, de créer des modèles robustes de phénomènes linguistiques et de les étendre en composants pour les technologies du langage pratiques. Nous espérons que le Natural Language Toolkit (NLTK) a permis de découvrir l'entreprise passionnante de la compréhension du langage naturel à un public plus large qu'auparavant.\n",
    "\n",
    "Malgré tout ce qui précède, le langage nous offre bien plus qu'un défi temporaire pour la computation. Considérez les phrases suivantes qui attestent des richesses du langage:\n",
    "\n",
    "(1)\n",
    "\n",
    "a. Au-dessus, le jour file droit et gris, cachant le soleil par un vol de lances grises. (William Faulkner, As I Lay Dying, 1935)\n",
    "\n",
    "b. Lors de l'utilisation du grille-pain, veuillez vous assurer que la hotte d'aération est allumée. (panneau dans une cuisine de dortoir)\n",
    "\n",
    "c. L'amiodarone a faiblement inhibé les activités médiées par CYP2C9, CYP2D6 et CYP3A4 avec des valeurs Ki de 45,1-271,6 μM (Medline, PMID: 10718780)\n",
    "\n",
    "d. Chef irakien cherche des armes (titre d'un faux journal)\n",
    "\n",
    "e. La prière sincère d'un homme juste a un grand pouvoir et des résultats merveilleux. (Jacques 5:16b)\n",
    "\n",
    "f. Il était brillig et les toves glissants faisaient des tours et des pirouettes dans le wabe (Lewis Carroll, Jabberwocky, 1872)\n",
    "\n",
    "g. Il y a deux façons de faire cela, AFAIK :smile: (archive de discussion en ligne)\n",
    "\n",
    "D'autres preuves des richesses de la langue sont la vaste variété de disciplines dont le travail est centré sur la langue. Certaines disciplines évidentes incluent la traduction, la critique littéraire, la philosophie, l'anthropologie et la psychologie. De nombreuses disciplines moins évidentes étudient l'utilisation de la langue, y compris le droit, l'herméneutique, la criminologie, la téléphonie, la pédagogie, l'archéologie, la cryptanalyse et la pathologie de la parole. Chacun applique des méthodologies distinctes pour rassembler des observations, développer des théories et tester des hypothèses. Tous contribuent à approfondir notre compréhension de la langue et de l'intellect qui se manifeste dans la langue.\n",
    "\n",
    "En raison de la complexité de la langue et de la variété d'intérêts pour l'étudier sous différents angles, il est clair que nous avons à peine effleuré la surface. De plus, dans le domaine du traitement automatique de la langue, il existe de nombreuses méthodes et applications importantes que nous n'avons pas mentionnées.\n",
    "\n",
    "Dans nos dernières remarques, nous prendrons un aperçu plus large du TAL, en incluant ses fondements et les directions futures que vous pourriez souhaiter explorer. Certains des sujets ne sont pas bien pris en charge par NLTK, et vous pourriez souhaiter corriger ce problème en apportant de nouveaux logiciels et données à l'outil"
   ]
  },
  {
   "attachments": {},
   "cell_type": "markdown",
   "metadata": {},
   "source": [
    "# Bibliographie"
   ]
  },
  {
   "attachments": {},
   "cell_type": "markdown",
   "metadata": {},
   "source": [
    "# Index des termes\n",
    "\n",
    "_\n",
    "* projections (phrasales) [(phrasal) projections] (3.2)\n",
    "\n",
    "A\n",
    "* précision [accuracy] (3.2)\n",
    "* adresse [address] (4.5)\n",
    "* adjectifs [adjectives] (2.6)\n",
    "* adverbes [adverbs] (2.6)\n",
    "* accord [agreement] (1.1)\n",
    "* variantes alphabétiques [alphabetic variants] (4.2)\n",
    "* résolution d'anaphore [anaphora resolution] (5.2)\n",
    "* antécédent anaphorique [anaphoric antecedent] (5.1)\n",
    "* antécédent [antecedent] (5.2)\n",
    "* antonymie [antonymy] (5.3)\n",
    "* ajout [appending] (2.1)\n",
    "* approprié [appropriate] (5)\n",
    "* argument [argument] (2)\n",
    "* arité [arity] (3.3)\n",
    "* articles [articles] (2.6)\n",
    "* affectation [assignment] (3.5)\n",
    "* tableau associatif [associative array] (3)\n",
    "* hypothèse [assumption] (2)\n",
    "* atomique [atomic] (1.3)\n",
    "* matrice de valeur d'attribut [attribute value matrix] (1.3)\n",
    "* auxiliaires [auxiliaries] (3.3)\n",
    "* auxiliaire [auxiliary] (1.3)\n",
    "\n",
    "B\n",
    "* régression [backoff] (4.3)\n",
    "* retours arrières [backtracks] (4.1)\n",
    "* cas de base [base case] (4.7.1)\n",
    "* types de base [basic types] (3.1)\n",
    "* bigrammes [bigrams] (3.3)\n",
    "* prédicat binaire [binary predicate] (3.1)\n",
    "* lier [bind] (3.1)\n",
    "* opérateurs de liaison [binding operators] (4.5)\n",
    "* classement [binning] (5.3)\n",
    "* format BIO [BIO Format] (8)\n",
    "* gras [Bold] (X)\n",
    "* booléen [boolean] (1.3)\n",
    "* opérateurs booléens [boolean operators] (2)\n",
    "* de haut en bas [bottom-up] (4.7.3)\n",
    "* analyse de haut en bas [bottom-up parsing] (4.1)\n",
    "* lié [bound] (3.1)\n",
    "* points de rupture [breakpoints] (4.6.4)\n"
   ]
  }
 ],
 "metadata": {
  "kernelspec": {
   "display_name": "Python 3",
   "language": "python",
   "name": "python3"
  },
  "language_info": {
   "codemirror_mode": {
    "name": "ipython",
    "version": 3
   },
   "file_extension": ".py",
   "mimetype": "text/x-python",
   "name": "python",
   "nbconvert_exporter": "python",
   "pygments_lexer": "ipython3",
   "version": "3.10.9"
  },
  "orig_nbformat": 4,
  "vscode": {
   "interpreter": {
    "hash": "9aff9e50adfaa9e30c910fb3872ffdc72747acb5f50803ca0504f00e980f7c25"
   }
  }
 },
 "nbformat": 4,
 "nbformat_minor": 2
}

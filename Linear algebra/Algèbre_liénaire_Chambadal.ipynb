{
  "cells": [
    {
      "cell_type": "markdown",
      "metadata": {
        "id": "LDq82-F0ZEdr"
      },
      "source": [
        "# III. Algèbre linéaire et multilinéaire\n",
        "\n",
        "D'après mon Formulaire de mathématiques Dunod Université de L. Chambadal.\n",
        "\n",
        "Je l'ai depuis ma prépa, donc depuis 30 ans.\n",
        "\n",
        "Ch III. p 14 et suivantes (jusqu'à la 71).\n",
        "\n",
        "Il faut mixer avec le Warusfel, avec Wikipedia, et surtout, faire des exercices avec NumPy.\n",
        "\n",
        "Dans le Warusfel, cela commence avec le chapitre *27. Algèbre linéaire et géométrie affine élémentaire*, p 777 et se poursuit jusqu'au chapitre *34. Isométries du plan et de l'espace*, p 1016."
      ]
    },
    {
      "cell_type": "markdown",
      "metadata": {
        "id": "O3GhsM0xdAWZ"
      },
      "source": [
        "## 1. Espaces vectoriels et applications linéaires"
      ]
    },
    {
      "cell_type": "markdown",
      "metadata": {
        "id": "pSIe18Jqahxm"
      },
      "source": [
        "### a) Espaces vectoriels\n",
        "\n",
        "**Espace vectoriel** sur un *corps commutatif* $K$ :\n",
        "\n",
        "Ensemble $E$ muni d'une loi de composition, notée additivement, et d'une loi d'action de $K$ sur $E$, notée multiplicativement, qui satisfont aux conditions suivantes :\n",
        "* muni de l'addition, $E$ est un groupe commutatif;\n",
        "* pour tout couple $\\left(\\boldsymbol{x}, \\boldsymbol{y}\\right)$ d'éléments de $E$, et pour tout couple $\\left(\\alpha, \\beta\\right)$ d'élements de $K$ :\n",
        "    * $1.\\boldsymbol{x} = \\boldsymbol{x}$\n",
        "    * $\\alpha\\left(\\beta \\boldsymbol{x}\\right) = \\left(\\alpha\\beta\\right) \\boldsymbol{x}$\n",
        "    * $\\left(\\alpha+\\beta\\right)\\boldsymbol{x} = \\alpha\\boldsymbol{x}+\\beta\\boldsymbol{x}$\n",
        "    * $\\alpha\\left(\\boldsymbol{x}+\\boldsymbol{y}\\right) = \\alpha\\boldsymbol{x}+\\alpha\\boldsymbol{y}$\n",
        "\n",
        "\n",
        "Soit $I$ un ensemble non vide et $\\left(E_i\\right)_{i \\in I}$ une famille d'espaces vectoriels sur $K$. Le produit de la famille $\\left(E_i\\right)_{i \\in I}$ muni des deux lois :\n",
        "* $\\left(\\boldsymbol{x}_i\\right)_{i \\in I} + \\left(\\boldsymbol{y}_i\\right)_{i \\in I} = \\left(\\boldsymbol{x}_i + \\boldsymbol{y}_i\\right)_{i \\in I}$\n",
        "* $\\alpha\\left(\\boldsymbol{x}_i\\right)_{i \\in I} = \\left(\\alpha \\boldsymbol{x}_i\\right)_{i \\in I}$\n",
        "\n",
        "est un espace vectoriel sur $K$, appelé espace vectoriel produit et noté $\\prod\\limits_{i \\in I} E_i$."
      ]
    },
    {
      "cell_type": "markdown",
      "metadata": {
        "id": "JJDyrAu2iQiM"
      },
      "source": [
        "### b) Applications linéaires\n",
        "\n",
        "Soit $E$ et $F$ deux espaces vectoriels sur un même corps commutatif $K$.\n",
        "\n",
        "Une application $u$ de $E$ dans $F$ est **linéaire** (ou est un *morphisme d'espaces vectoriels*) si, pour tout couple $\\left(\\boldsymbol{x}, \\boldsymbol{y}\\right)$ d'éléments de $E$, et pour tout couple $\\left(\\alpha, \\beta\\right)$ d'élements de $K$ :\n",
        "\n",
        "$u\\left(\\alpha\\boldsymbol{x}+\\beta\\boldsymbol{y}\\right) = \\alpha.u\\left(\\boldsymbol{x}\\right)+\\beta.u\\left(\\boldsymbol{y}\\right)$.\n",
        "\n",
        "Pour toute application linéaire $u$ de $E$ dans $F$ et pour toute application linéaire $v$ de $F$ dans $G$, l'application composée $v\\circ u$ est linéaire.\n",
        "\n",
        "On démontre que toute application linéaire bijective est un isomorphisme d'espaces vectoriels.\n",
        "\n",
        "Une application linéaire de $E$ dans lui-même s'appelle **endomorphisme** de $E$. Un isomorphisme de $E$ sur lui-même est appelé **automorphisme**.\n",
        "\n",
        "Les automorphismes d'un espace vectoriel $E$ constituent un sous-groupe du *groupe des permutations* de $E$, appelé groupe linéaire de $E$, et noté $\\text{GL}\\left(E\\right)$."
      ]
    },
    {
      "cell_type": "markdown",
      "metadata": {
        "id": "vSBWxyDaY68U"
      },
      "source": [
        "### c) Sous-espaces vectoriels\n",
        "\n",
        "Révisé le 25/09/22.\n",
        "\n",
        "Soit $\\left(\\boldsymbol{x}_i\\right)_{i \\in I}$ une famille d'éléments d'un espace vectoriel $E$. On dit qu'un vecteur $\\boldsymbol{x}$ de $E$ est combinaison liénaire des vecteurs $\\boldsymbol{x}_i$ s'il existe une famille $\\left(\\alpha_i\\right)_{i \\in I}$ de scalaires à support fini (i.e. nuls sauf sur une partie finie de $I$) telle que :\n",
        "\n",
        "$\\boldsymbol{x} = \\displaystyle\\sum_{i \\in I} \\alpha_i\\boldsymbol{x}_i$\n",
        "\n",
        "On dit qu'une partie $E'$ d'une espace vectoriel $E$ sur $K$ est un sous-espace vectoriel de $E$ si $E'$ est stable pour les deux lois de $E$ et si, muni des lois induites, $E'$ est un espace vectoriel sur $K$. On démontre que toute partie non vide de $E$ stable pour les deux lois est un sous-espace vectoriel de $E$.\n",
        "\n",
        "L'intersection d'un ensemble de sous-espaces vectoriel de $E$ est encore un sous-espace vectoriel de $E$.\n",
        "\n",
        "Pour toute partie $A$ de $E$, l'ensemble des sous-espaces vectoriels de $E$ contenant $A$ possède un plus petit élément (au sens de l'inclusion), appelé sous-espace vectoriel engendré par $A$ et noté $[A]$. Lorsque $A \\ne \\emptyset$, $[A]$ est l'ensemble des combinaisons liénaires de $A$. Lorsque $[A]=E$, on dit que $A$ est génératrice.\n",
        "\n",
        "Soit $\\left(E_i\\right)_{i \\in I}$ une famille de sous-espaces vectoriels de $E$. Le sous-espace vectoriel engendré par $\\bigcup_{i \\in I} E_i$ s'appelle somme des sous-espaces vectoriels $E_i$, et se note $\\displaystyle\\sum_{i \\in I} E_i$; c'est l'ensemble des vecteurs de $E$ de la forme $\\displaystyle\\sum_{i \\in I} \\boldsymbol{x}_i$, où $\\left(\\boldsymbol{x}_i\\right)_{i \\in I}$ est un élément à support fini du prpduit $\\displaystyle\\prod_{i \\in I} E_i$.\n",
        "\n",
        "Lorsque $I = {1, 2}$, la somme de $E_1$ et de $E_2$ se note $E_1 + E_2$.\n",
        "\n",
        "Soient $E$ et $F$ deux espaces vectoriels sur $K$. L'ensemble des applications de $E$ dans $F$, muni des lois définies par :\n",
        "* $(f + g)(\\boldsymbol{x}) = f(\\boldsymbol{x}) + g(\\boldsymbol{x})$\n",
        "* $(\\alpha f)(\\boldsymbol{x}) = \\alpha f(\\boldsymbol{x})$\n",
        "\n",
        "est un espace vectoriel, noté $\\mathscr{F}(E, F)$; l'ensemble des applications linéaires de $E$ dans $F$ est un sous-espace vectoriel de $\\mathscr{F}(E, F)$, noté $\\mathscr{L}(E, F)$.\n",
        "\n",
        "Lorsque $E = F$, $\\mathscr{L}(E, F)$ se note $\\mathscr{L}(E)$; muni de l'addition et de la composition des applications, $\\mathscr{L}(E)$ est un anneau. Muni de la loi d'action précédente, $\\mathscr{L}(E)$ est une algèbre associative unitaire.\n",
        "\n",
        "Soit $u$ une application linéaire de $E$ dans $F$. L'image par $u$ d'un sous-espace vectoriel de $E$ est un sous-espace vecctoriel de $F$; en particulier, $u(E)$ est un sous-espace vectoriel de $F$, appelé image de $E$ et noté $\\text{Im}(u)$. L'image réciproque par $u$ d'un sous-espace vectoriel de $F$ est un sous-espace vectoriel de $E$; en particulier; $u^{-1}(\\{\\boldsymbol{0}\\})$ est un sous-espace vectoriel de $E$ appelé noyau de $u$ et noté $\\text{Ker}(u)$ :\n",
        "* $u \\text{ surjective} \\Leftrightarrow \\text{Im}(u) = F$\n",
        "* $u \\text{ injective} \\Leftrightarrow \\text{Ker}(u) = \\{\\boldsymbol{0}\\}$\n",
        "\n",
        "Soit $E$ un esapce vectoriel sur $K$. Pour toute relation d'équivalence $\\mathcal{R}$ dans $E$ compatible avec la structure de $E$, la classe d'équivalence $E'$ de $\\boldsymbol{0}$ est un sous-espace vectoriel de $E$; pour tout vecteur $\\boldsymbol{x}$ de $E$, la classe de $\\boldsymbol{x}$ est $\\boldsymbol{x} + E'$. La relation $\\mathcal{R}(\\boldsymbol{x}, \\boldsymbol{y})$ équivaut à la relation $\\boldsymbol{x} - \\boldsymbol{y} \\in E'$.\n",
        "\n",
        "Réciproquement, pour tout sous-espace vectoriel $E'$ de $E$, la relation binaire dans $E$ définie par les couples $(\\boldsymbol{x}, \\boldsymbol{y})$ tels que $\\boldsymbol{x} - \\boldsymbol{y} \\in E'$ est une relation d'équivalence compatible avec la structure de $E$. Muni des lois quotients, l'ensemble quotient est un espace vectoriel, appelé quotient de $E$ par $E'$ et noté $E/E'$. L'application canonique $\\varphi$ de $E$ sur $E/E'$ est linéaire et $\\text{Ker}(\\varphi) = E'$."
      ]
    },
    {
      "cell_type": "markdown",
      "metadata": {},
      "source": [
        "### d) Somme directe de sous-espaces vectoriels\n",
        "\n",
        "La somme $\\displaystyle\\sum_{i \\in I} E_i$ d'une famille $\\left(E_i\\right)_{i \\in I}$ de sous-espaces vectoriels d'un espace vectoriel $E$ est dite **directe**, et notée $\\displaystyle\\oplus_{i \\in I} E_i$, si, pour tout élément $\\boldsymbol{x}$ de $\\displaystyle\\sum_{i \\in I} E_i$, la décomposition de $\\boldsymbol{x}$ sous la forme $\\boldsymbol{x} = \\displaystyle\\sum_{i \\in I} \\boldsymbol{x}_i$ est unique. Cela équivaut à dire que, pour tout élément $i$ de $I$ :\n",
        "\n",
        "$E_i \\cap \\displaystyle\\sum_{j \\ne i} E_j = \\{\\boldsymbol{0}\\}$\n",
        "\n",
        "#### Sous-espaces vectoriels supplémentaires, projecteurs\n",
        "\n",
        "On dit que deux sous-espaces vectoriels $E'$ et $E''$ sont **supplémentaires** dans $E$ si leur somme est directe et égale à $E$. Cela équivaut à dire que tout vecteur $\\boldsymbol{x}$ de $E$ se décompose d'une manière et d'une seule sous la forme $\\boldsymbol{x} = \\boldsymbol{x}' + \\boldsymbol{x}'', (\\boldsymbol{x}', \\boldsymbol{x}'') \\in E' \\times E''$.\n",
        "\n",
        "Les applications $P_{E'} : \\boldsymbol{x} \\mapsto \\boldsymbol{x}'$ et $P_{E''} : \\boldsymbol{x} \\mapsto \\boldsymbol{x}''$ s'appellent **projecteur** sur $E'$ parallèlement à $E''$ et projecteur sur $E''$ parallèlement à $E'$.\n",
        "\n",
        "* $\\text{Im}(P_{E'}) = E', \\text{Im}(P_{E''}) = E''$\n",
        "* $\\text{Ker}(P_{E'}) = E'', \\text{Ker}(P_{E''}) = E'$\n",
        "* $P_{E'}^2 = P_{E'}, P_{E''}^2 = P_{E''}$\n",
        "* $P_{E'}P_{E''} = P_{E''}P_{E'} = 0$\n",
        "* $P_{E'} + P_{E''} = I_E$ \n",
        "\n",
        "Réciproquement, soit $u$ un endomorphisme de $E$ tel que $u^2 = u$. Alors les sous-espaces vectoriels $\\text{Im}(u)$ et $\\text{Ker}(u)$ sont supplémentaires dans $E$, et $u$ n'est autre que le projecteur sur $\\text{Im}(u)$ parallèlement à $\\text{Ker}(u)$. C'est pourquoi les endomorphisme idempotents s'appellent projecteurs.\n",
        "\n",
        "Soit plus généralement $\\left(E_i\\right)_{i \\in I}$ une famille de sous-espaces vectoriels de $E$ dont $E$ est somme directe. Tout vecteur $\\boldsymbol{x}$ de $E$ se décompose d'une manière et d'une seule sous la forme $\\boldsymbol{x} = \\displaystyle\\sum_{i \\in I} \\boldsymbol{x}_i, \\boldsymbol{x}_i \\in E_i$,\n",
        "où la famille $\\left(\\boldsymbol{x}_i\\right)_{i \\in I}$ est à support fini. Pour tout élément $i$ de $I$, l'application  $P_i : \\boldsymbol{x} \\mapsto \\boldsymbol{x}_i$ est un projecteur, dont l'image est $E_i$ et le noyau $\\displaystyle\\oplus_{j \\ne i} E_j$ :\n",
        "* $P_i^2 = P_i$\n",
        "* $P_i P_j = 0$ si $i \\ne j$\n",
        "* $\\displaystyle\\sum_{i \\in I} P_i = I_E$\n",
        "\n",
        "Soit $E_1$ un sous-espace vectoriel de $E$ et $E_2$ un supplémentaire de $E_1$. La restriction à $E_2$ de l'application canonique de $E$ sur $E/E_1$ est un isomorphisme. Soit $E'_2$ un autre supplémentaire de $E_1$. Le projecteur sur $E'_2$ parallèlement à $E_1$ induit un isomorphisme de $E_2$ sur $E'_2$.\n",
        "\n",
        "<mark>*Je ne visualise pas concrètement le dernier paragraphe : un formulaire est bien pour se remettre le vocabulaire et les notions essentielles en tête, mais largement insuffisant pour maîtriser et savoir appliquer : il faut clairement des exerccices*</mark>"
      ]
    },
    {
      "cell_type": "markdown",
      "metadata": {},
      "source": [
        "### e) Dual d'un espace vectoriel\n",
        "\n",
        "Soit $E$ un espace vectoriel sur $K$. Les applications linéaires de $E$ dans $K$ s'appellent formes linéaires sur $E$. L'espace vectoriel $\\mathscr{L}(E, K)$ s'appelle dual de $E$ et se note $E*$.\n",
        "\n",
        "La valeur d'une forme linéaire $\\boldsymbol{y}*$ sur un vecteur $\\boldsymbol{x}$ se note $\\left<\\boldsymbol{y}^*, \\boldsymbol{x}\\right>$. On dit que $\\boldsymbol{x}$ et $\\boldsymbol{y}*$ sont orthogonaux si $\\left<\\boldsymbol{y}^*, \\boldsymbol{x}\\right> = 0$. On dit qu'une partie $A$ de $E$ et une partie $B$ de $E^*$ sont orthogonales si \n",
        "\n",
        "$\\forall \\boldsymbol{x} \\in A, \\forall \\boldsymbol{y}^* \\in B, \\left<\\boldsymbol{y}^*, \\boldsymbol{x}\\right> = 0$\n",
        "\n",
        "L'ensemble des formes linéaires orthogonales à $A$ est un sous-espace vectoriel de $E^*$, appelé orthogonal de $A$ et noté $A^\\bot$. L'ensemble des vecteurs orthogonaux à une partie $B$ de $E*$ est un sous-espace vectoriel de $E$, appelé **antéorthogonal** de $B$ et noté $B^\\bot$.\n",
        "\n",
        "* $\\forall A \\in \\mathscr{P}(E), A \\subset \\left( A^\\bot \\right)^\\top$\n",
        "* $\\forall B \\in \\mathscr{P}(E^*), B \\subset \\left( B^\\bot \\right)^\\top$\n",
        "\n",
        "Pour tout sous-espace vectoriel $E_1$ de $E$, $\\left( E_1^\\bot \\right)^\\top = E_1$.\n",
        "\n",
        "*Transposée d'une application linéaire*\n",
        "\n",
        "Soient $E$ et $F$ deux espaces vectoriels sur $K$ et $u$ une application linéaire de $E$ dans $F$. Il existe une application linéaire de $F^*$ dans $E^*$ et une seule, appelée transposée de $u$ et notée $^t u$, telle que :\n",
        "\n",
        "$\\forall \\boldsymbol{x} \\in E, \\forall \\boldsymbol{y}^* \\in F^*, \\left<^t u(\\boldsymbol{y}^*), \\boldsymbol{x}\\right> = \\left<\\boldsymbol{y}^*, u(\\boldsymbol{x})\\right>$.\n",
        "\n",
        "L'application $^t u$ n'est autre que $\\boldsymbol{y}^* \\mapsto \\boldsymbol{y}^* \\circ u$. L'application $u \\mapsto ^t u$ est linéaire et injective. De plus, $^t I_E = I_{E^*}$.\n",
        "\n",
        "* $\\forall u \\in \\mathscr{L}(E, F), \\forall v \\in \\mathscr{L}(F, G),$ $^t(u \\circ v)$ = $^t u$ $\\circ$ $^t v$\n",
        "* $\\text{Ker}(^t u) = [\\text{Im}(u)]^\\bot$, $\\text{Im}(^t u) = [\\text{Ker}(u)]^\\top$\n",
        "* $\\text{Im}(u) = [\\text{Ker}(^t u)]^\\top$, $\\text{Ker}(u) = [\\text{Ker}(^t u)]^\\bot$\n",
        "* $u$ surjective $\\Leftrightarrow$ $^t u$ injective.\n",
        "* $u$ injective $\\Leftrightarrow$ $^t u$ surjective.\n",
        "* $u$ bijective $\\Leftrightarrow$ $^t u$ bijective.\n",
        "\n",
        "Dans ce dernier cas, $(^t u)^{-1}$ = $^t(u^{-1})$\n",
        "\n",
        "*Bidual*. Le dual du dual $E^*$ de $E$ s'appelle bidual de $E$ et se note $E^{**}$. Pour tout élément $\\boldsymbol{x}$ de $E$, l'application $\\chi(\\boldsymbol{x}) : \\boldsymbol{y}^* \\mapsto \\left<\\boldsymbol{y}^*, \\boldsymbol{x}\\right>$ est une forme linéaire sur $E^*$. L'application $\\chi : \\boldsymbol{x} \\mapsto \\chi(\\boldsymbol{x})$ est linéaire et injective: on l'appelle injection canonique de $E$ dans $E^{**}$ :\n",
        "\n",
        "$\\forall \\boldsymbol{x} \\in E, \\forall \\boldsymbol{y}^* \\in E^*, \\left<\\chi(\\boldsymbol{x}), \\boldsymbol{y}^* \\right>_{E^*} = \\left<\\boldsymbol{y}^*, \\boldsymbol{x} \\right>_E$\n",
        "\n",
        "<mark>Cette section consacre le fait que je fais fausse route en poursuivant cette seule ligne du formulaire. Je dois pourvoir associer les abstractions à des exemples concrets, sinon, cela revient à manipuler des termes vides (de compréhension). La sémantique est un concept, un objet en soi, mais la compréhension est la relation intime entre ce concept et l'individu qui se l'approprie. Le next step ici, c'est de basculer sur le Warusfel, pour le même sujet</mark>\n"
      ]
    },
    {
      "cell_type": "markdown",
      "metadata": {},
      "source": [
        "# Réserves pour plus tard\n",
        "\n",
        "https://en.wikipedia.org/wiki/Linear_algebra\n"
      ]
    }
  ],
  "metadata": {
    "colab": {
      "provenance": [],
      "toc_visible": true
    },
    "kernelspec": {
      "display_name": "Python 3.9.12 ('base')",
      "language": "python",
      "name": "python3"
    },
    "language_info": {
      "name": "python",
      "version": "3.9.12"
    },
    "vscode": {
      "interpreter": {
        "hash": "e03b612d84ba21ce95ed447e81b3062e1eb99b56c6d885cdab4aaa12f1b8e240"
      }
    }
  },
  "nbformat": 4,
  "nbformat_minor": 0
}

{
 "cells": [
  {
   "cell_type": "markdown",
   "metadata": {},
   "source": [
    "# Explorations\n",
    "\n",
    "Ce notebook est couplé avec la reprise de cours d'algèbre linéaire, en relation directe avec les applications ML.\n",
    "\n",
    "L'idée est de me faire plaisir sur des cas qui m'ont occupé des mois, parfois des années, à mesure que je m'y remets.\n",
    "\n",
    "Par exemple, le sujet Faulhaber (remonte à 2015 dans le cadre de DUNOD EPAN), mes recherches sur les nombres premiers (remonte à mes 16 ans, donc 34 ans), la conjecture de Syracuse.\n",
    "\n",
    "C'est l'occasion de réouvrir mes vieux cartons tout en apprenant dans le cadre de ma formation à mon nouveau métier.\n",
    "\n"
   ]
  },
  {
   "cell_type": "markdown",
   "metadata": {},
   "source": [
    "## Faulhaber\n",
    "\n",
    "... start avec mes documents\n",
    "\n",
    "[Sujet L2 2014 - TP SDD n°2 (Polynomials)](https://drive.google.com/drive/u/1/folders/0B7mNn544KuPGYTluazNOMVBzZU0?resourcekey=0-yi6Uo28G3729kWz01kLKYw)\n",
    "\n",
    "[Corrigé L2 2014 - TP SDD n°2 (Polynomials)](https://drive.google.com/drive/u/1/folders/0B7mNn544KuPGYzZiNzVsMWJqS2M?resourcekey=0-Uw0M93GaGxGBdM1K9lNABw)\n",
    "\n",
    "J'ai donné un sujet vraiment hardcore !\n",
    "\n",
    "https://fr.wikipedia.org/wiki/Formule_de_Faulhaber\n",
    "\n"
   ]
  },
  {
   "cell_type": "markdown",
   "metadata": {},
   "source": [
    "# Régression linéaire ordinaire et régression d'arête (avec réduction de Tikhonov)\n",
    "\n",
    "En fait c'est hors sujet a priori, car je ne vois pas bien le rapport entre de l'interpolation polynomiale et de la régression linéaire..\n",
    "\n",
    "https://fr.wikipedia.org/wiki/Formule_de_Faulhaber\n",
    "\n",
    "* $S_0(n) = \\displaystyle\\sum_{k=1}^{n} k^0 = 1^0 + 2^0 + \\cdots + n^0 = n$\n",
    "* $S_1(n) = \\displaystyle\\sum_{k=1}^{n} k^1 =  1^1 + 2^1 + \\cdots + n^1 = \\frac{1}{2}n(n + 1)$\n",
    "* $S_2(n) = \\displaystyle\\sum_{k=1}^{n} k^2 = 1^2 + 2^2 + \\cdots + n^2 = \\frac{1}{6}n(n + 1)(2n + 1)$\n",
    "* $S_3(n) = \\displaystyle\\sum_{k=1}^{n} k^3 = 1^3 + 2^3 + \\cdots + n^3 = \\frac{1}{4}n^2(n + 1)^2$\n",
    "\n",
    "$S_3(n) = S_1^2(n)$ (identité de Gérase et polynôme de Faulhaber $P(y)=y^2$ avec $y = S_1(n)$)"
   ]
  },
  {
   "cell_type": "code",
   "execution_count": null,
   "metadata": {},
   "outputs": [],
   "source": []
  }
 ],
 "metadata": {
  "kernelspec": {
   "display_name": "Python 3.9.12 ('base')",
   "language": "python",
   "name": "python3"
  },
  "language_info": {
   "name": "python",
   "version": "3.9.12 (main, Apr  4 2022, 05:22:27) [MSC v.1916 64 bit (AMD64)]"
  },
  "orig_nbformat": 4,
  "vscode": {
   "interpreter": {
    "hash": "e03b612d84ba21ce95ed447e81b3062e1eb99b56c6d885cdab4aaa12f1b8e240"
   }
  }
 },
 "nbformat": 4,
 "nbformat_minor": 2
}

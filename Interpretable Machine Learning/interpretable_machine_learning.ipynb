{
 "cells": [
  {
   "cell_type": "markdown",
   "metadata": {},
   "source": [
    "Livre recommandé comme complément de cours dans le cadre de la formation OC DS, P4.\n",
    "\n",
    "https://christophm.github.io/interpretable-ml-book"
   ]
  },
  {
   "cell_type": "markdown",
   "metadata": {},
   "source": [
    "# 1. Préface par l'auteur\n",
    "\n",
    "Ce livre a commencé comme un projet parallèle lorsque je travaillais comme statisticien dans la recherche clinique. Je travaillais quatre jours par semaine et pendant mon « jour de congé », je travaillais sur des projets parallèles. Finalement, l'apprentissage automatique interprétable est devenu l'un de mes projets parallèles. Au début, je n'avais pas l'intention d'écrire un livre. Au lieu de cela, j'étais simplement intéressé à en savoir plus sur l'apprentissage automatique interprétable et je cherchais de bonnes ressources pour apprendre. Compte tenu du succès de l'apprentissage automatique et de l'importance de l'interprétabilité, je m'attendais à ce qu'il y ait des tonnes de livres et de tutoriels sur ce sujet. Mais je n'ai trouvé que les articles de recherche pertinents et quelques articles de blog dispersés sur Internet, mais rien avec un bon aperçu. Pas de livres, pas de tutoriels, pas d'articles de synthèse, rien. Cette lacune m'a donné envie de commencer à écrire ce livre. J'ai fini par écrire le livre que je souhaitais être disponible lorsque j'ai commencé mon étude de l'apprentissage automatique interprétable. Mon intention avec ce livre était double : apprendre par moi-même et partager ces nouvelles connaissances avec les autres.\n",
    "\n",
    "J'ai obtenu mon baccalauréat et ma maîtrise en statistiques à la LMU de Munich, en Allemagne. La plupart de mes connaissances sur l'apprentissage automatique ont été autodidactes grâce à des cours en ligne, des concours, des projets parallèles et des activités professionnelles. Ma formation statistique était une excellente base pour entrer dans l'apprentissage automatique, et surtout pour l'interprétabilité. En statistique, l'accent est mis sur la construction de modèles de régression interprétables. Après avoir terminé ma maîtrise en statistiques, j'ai décidé de ne pas poursuivre de doctorat, car n'ai pas aimé l'écriture de ma thèse de maîtrise. L'écriture m'a juste trop stressé. J'ai donc occupé des postes de data scientist dans une start-up Fintech et de statisticien en recherche clinique. Après ces trois années dans l'industrie, j'ai commencé à écrire ce livre et quelques mois plus tard, j'ai commencé un doctorat en apprentissage automatique interprétable. En commençant ce livre, j'ai retrouvé le plaisir d'écrire et cela m'a aidé à développer une passion pour la recherche.\n",
    "\n",
    "Ce livre couvre de nombreuses techniques d'apprentissage automatique interprétable. Dans les premiers chapitres, j'introduis le concept d'interprétabilité et explique pourquoi l'interprétabilité est nécessaire. Il y a même des histoires courtes ! Le livre traite des différentes propriétés des explications et de ce que les humains pensent être une bonne explication. Ensuite, nous discuterons des modèles d'apprentissage automatique qui sont intrinsèquement interprétables, par exemple les modèles de régression et les arbres de décision. L'objectif principal de ce livre est sur les méthodes d'interprétabilité indépendantes du modèle. Indépendant du modèle signifie que ces méthodes peuvent être appliquées à n'importe quel modèle d'apprentissage automatique et sont appliquées après que le modèle a été formé. L'indépendance du modèle rend les méthodes indépendantes du modèle très flexibles et puissantes. Certaines techniques expliquent comment les prédictions individuelles ont été faites, comme les explications locales interprétables indépendantes du modèle (LIME) et les valeurs de Shapley. D'autres techniques décrivent le comportement moyen du modèle dans un ensemble de données. Ici, nous en apprenons davantage sur le diagramme de dépendance partielle, les effets locaux accumulés, l'importance des caractéristiques de permutation et de nombreuses autres méthodes. Une catégorie spéciale est celle des méthodes basées sur des exemples qui produisent des points de données comme explications. Les explications contrefactuelles, les prototypes, les instances influentes et les exemples contradictoires sont des méthodes basées sur des exemples, qui sont abordées dans ce livre. Le livre se termine par quelques réflexions sur ce à quoi pourrait ressembler l'avenir de l'apprentissage automatique interprétable.\n",
    "\n",
    "Vous n'êtes pas obligé de lire le livre d'un bout à l'autre, vous pouvez aller et venir et vous concentrer sur les techniques qui vous intéressent le plus. Je vous recommande seulement de commencer par l'introduction et le chapitre sur l'interprétabilité. La plupart des chapitres suivent une structure similaire et se concentrent sur une méthode d'interprétation. Le premier paragraphe résume la méthode. Ensuite, j'essaie d'expliquer la méthode intuitivement sans m'appuyer sur des formules mathématiques. Ensuite, nous examinons la théorie de la méthode pour comprendre en profondeur son fonctionnement. Vous ne serez pas épargné ici, car la théorie contiendra des formules. Je crois qu'une nouvelle méthode est mieux comprise en utilisant des exemples. Par conséquent, chaque méthode est appliquée à des données réelles. Certaines personnes disent que les statisticiens sont des gens très critiques. Pour moi, c'est vrai, car chaque chapitre contient des discussions critiques sur les avantages et les inconvénients de la méthode d'interprétation respective. Ce livre n'est pas une publicité pour les méthodes, mais il devrait vous aider à décider si une méthode fonctionne bien pour votre application ou non. Dans la dernière section de chaque chapitre, les implémentations logicielles disponibles sont discutées.\n",
    "\n",
    "L'apprentissage automatique a reçu une grande attention de la part de nombreuses personnes dans la recherche et l'industrie. Parfois, l'apprentissage automatique est surmédiatisé dans les médias, mais il existe de nombreuses applications réelles et percutantes. L'apprentissage automatique est une technologie puissante pour les produits, la recherche et l'automatisation. Aujourd'hui, l'apprentissage automatique est utilisé, par exemple, pour détecter les transactions financières frauduleuses, recommander des films et classer des images. Il est souvent crucial que les modèles d'apprentissage automatique soient interprétables. L'interprétabilité aide le développeur à déboguer et à améliorer le modèle, à renforcer la confiance dans le modèle, à justifier les prédictions du modèle et à obtenir des informations. Le besoin accru d'interprétabilité de l'apprentissage automatique est une conséquence naturelle d'une utilisation accrue de l'apprentissage automatique. Ce livre est devenu une ressource précieuse pour de nombreuses personnes. Les instructeurs utilisent le livre pour initier leurs étudiants aux concepts de l'apprentissage automatique interprétable. J'ai reçu des e-mails de divers étudiants en master et en doctorat qui m'ont dit que ce livre était le point de départ et la référence la plus importante pour leurs thèses. Le livre a aidé les chercheurs appliqués dans le domaine de l'écologie, de la finance, de la psychologie, etc. qui utilisent l'apprentissage automatique pour comprendre leurs données. Des data scientists de l'industrie m'ont dit qu'ils utilisaient le livre \"Interpretable Machine Learning\" pour leur travail et qu'ils le recommandaient à leurs collègues. Je suis heureux que de nombreuses personnes puissent bénéficier de ce livre et devenir des experts en interprétation de modèles.\n",
    "\n",
    "Je recommanderais ce livre aux praticiens qui veulent un aperçu des techniques pour rendre leurs modèles d'apprentissage automatique plus interprétables. Il est également recommandé aux étudiants et chercheurs (et à toute autre personne) qui s'intéressent au sujet. Pour bénéficier de ce livre, vous devez déjà avoir une compréhension de base de l'apprentissage automatique. Vous devez également avoir une compréhension mathématique au niveau d'entrée à l'université pour pouvoir suivre la théorie et les formules de ce livre. Il devrait également être possible, cependant, de comprendre la description intuitive de la méthode au début de chaque chapitre sans mathématiques.\n",
    "\n",
    "J'espère que vous apprécierez le livre !\n"
   ]
  },
  {
   "cell_type": "markdown",
   "metadata": {},
   "source": [
    "# 2. Introduction\n",
    "\n",
    "Ce livre vous explique comment rendre les modèles d'apprentissage automatique (supervisés) interprétables. Les chapitres contiennent des formules mathématiques, mais vous devriez être capable de comprendre les idées derrière les méthodes même sans les formules. Ce livre n'est pas destiné aux personnes essayant d'apprendre l'apprentissage automatique à partir de zéro. Si vous débutez dans l'apprentissage automatique, il existe de nombreux livres et autres ressources pour apprendre les bases. Je recommande le livre [\"The Elements of Statistical Learning\"](https://hastie.su.domains/ElemStatLearn/) de Hastie, Tibshirani, and Friedman (2009) 1 et le cours en ligne [\"Machine Learning\"](https://www.coursera.org/learn/machine-learning) d'Andrew Ng sur la plateforme d'apprentissage en ligne coursera.com pour débuter avec l'apprentissage automatique. Le livre et le cours sont disponibles gratuitement !\n",
    "\n",
    "De nouvelles méthodes d'interprétation des modèles d'apprentissage automatique sont publiées à une vitesse vertigineuse. Se tenir au courant de tout ce qui est publié serait une folie et tout simplement impossible. C'est pourquoi vous ne trouverez pas les méthodes les plus originales et les plus fantaisistes dans ce livre, mais des méthodes établies et des concepts de base de l'interprétabilité de l'apprentissage automatique. Ces bases vous préparent à rendre les modèles d'apprentissage automatique interprétables. L'intériorisation des concepts de base vous permet également de mieux comprendre et évaluer tout nouvel article sur l'interprétabilité publié sur arxiv.org au cours des 5 dernières minutes depuis que vous avez commencé à lire ce livre (j'exagère peut-être le taux de publication).\n",
    "\n",
    "Ce livre commence par quelques nouvelles (dystopiques) qui ne sont pas nécessaires pour comprendre le livre, mais qui, espérons-le, vous divertiront et vous feront réfléchir. Ensuite, le livre explore les concepts d'interprétabilité de l'apprentissage automatique. Nous discuterons de l'importance de l'interprétabilité et des différents types d'explications. Les termes utilisés tout au long du livre peuvent être consultés dans le chapitre Terminologie. La plupart des modèles et méthodes expliqués sont présentés à l'aide d'exemples de données réels qui sont décrits dans le chapitre Données. Une façon de rendre l'apprentissage automatique interprétable consiste à utiliser des modèles interprétables, tels que des modèles linéaires ou des arbres de décision. L'autre option est l'utilisation d'outils d'interprétation indépendants du modèle qui peuvent être appliqués à n'importe quel modèle d'apprentissage automatique supervisé. Les méthodes indépendantes du modèle peuvent être divisées en méthodes globales qui décrivent le comportement moyen du modèle et en méthodes locales qui expliquent les prédictions individuelles. Le chapitre sur les méthodes indépendantes du modèle traite de méthodes telles que les diagrammes de dépendance partielle et l'importance des caractéristiques. Les méthodes indépendantes du modèle fonctionnent en modifiant l'entrée du modèle d'apprentissage automatique et en mesurant les changements dans la sortie de prédiction. Le livre se termine par une vision optimiste de ce à quoi pourrait ressembler l'avenir de l'apprentissage automatique interprétable.\n",
    "\n",
    "Vous pouvez soit lire le livre du début à la fin, soit passer directement aux méthodes qui vous intéressent.\n",
    "\n",
    "J'espère que vous apprécierez la lecture!"
   ]
  },
  {
   "cell_type": "markdown",
   "metadata": {},
   "source": [
    "## 2.1 L\"heure du conte\n",
    "\n",
    "Nous allons commencer par quelques histoires courtes. Chaque histoire est un appel certes exagéré à l'apprentissage automatique interprétable. Si vous êtes pressé, vous pouvez sauter les histoires. Si vous voulez vous divertir et (dé-)motiver, lisez la suite !\n",
    "\n",
    "Le format est inspiré des Tech Tales de Jack Clark dans sa newsletter [Import AI](https://jack-clark.net/). Si vous aimez ce genre d'histoires ou si vous êtes intéressé par l'IA, je vous recommande de vous inscrire."
   ]
  }
 ],
 "metadata": {
  "language_info": {
   "name": "python"
  },
  "orig_nbformat": 4
 },
 "nbformat": 4,
 "nbformat_minor": 2
}

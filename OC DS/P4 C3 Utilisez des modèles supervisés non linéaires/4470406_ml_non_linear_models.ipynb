{
 "cells": [
  {
   "cell_type": "markdown",
   "metadata": {},
   "source": [
    "# Cours\n",
    "\n",
    "OC DS P4 - 4470406 [Utilisez des modèles supervisés non linéaires](https://openclassrooms.com/fr/courses/4470406-utilisez-des-modeles-supervises-non-lineaires)\n",
    "\n",
    "Autres ressources pédagogiques :\n",
    "* Dans le guide Scikit-learn, c'est [6.7. Kernel Approximation](https://scikit-learn.org/stable/modules/kernel_approximation.html)\n",
    "* Wikipedia :\n",
    "    - https://fr.wikipedia.org/wiki/Astuce_du_noyau\n",
    "    - https://en.wikipedia.org/wiki/Kernel_method#Mathematics:_the_kernel_trick\n"
   ]
  },
  {
   "cell_type": "markdown",
   "metadata": {},
   "source": [
    "# 1.1 Transformez un problème non-linéaire en un problème linéaire\n",
    "\n",
    "## A) Notes d'après la vidéo\n",
    "\n",
    "Exemple avec un espace 2D dont une partie des points sont situés à l'intérieur d'un cercle de rayon $R$ et les autres à l'extérieur.\n",
    "\n",
    "La régression est de la forme quadratique $x^2_1 + x^2_2 = R^2$.\n",
    "\n",
    "Cette forme ne peut être obtenue par une régression linéaire.\n",
    "\n",
    "En revanche, en définissant une fonction $\\phi : (x_1, x_2) \\mapsto (x^2_1, x^2_2)$, on reformule le problème dans un espace dit de **redescription** (qui est un espace de Hilbert) dans lequel le problème est de la forme linéaire $\\phi_1 + \\phi_2 = R^2$.\n",
    "\n",
    "L'espace de redescription est généralement de dimension supérieure à l'espace de départ.\n",
    "\n",
    "Généralisation\n",
    "\n",
    "$x \\in \\mathcal{X} = \\mathbb{R}^p$\n",
    "\n",
    "Problème non linéaire :\n",
    "* $n$ observations $\\{\\boldsymbol{x}^{(1)}, \\boldsymbol{x}^{(2)}, \\cdots, \\boldsymbol{x}^{(n)}\\}$\n",
    "* et leur étiquettes $\\{y^{(1)}, y^{(2)}, \\cdots, y^{(n)}\\}$\n",
    "\n",
    "Le problème est soluble en tant que problème linéaire s'il existe une application $\\phi : \\mathcal{X} \\rightarrow \\mathcal{H} = \\mathbb{R}^m$ de telle sorte que le problème suivant soit linéaire :\n",
    "* $n$ observations $\\{\\phi(\\boldsymbol{x}^{(1)}), \\phi(\\boldsymbol{x}^{(2)}), \\cdots, \\phi(\\boldsymbol{x}^{(n)})\\}$\n",
    "* et leur étiquettes $\\{y^{(1)}, y^{(2)}, \\cdots, y^{(n)}\\}$\n",
    "\n",
    "En utilisant l'un quelconque des algorithmes de régression linéaire, on obtient une fonction de décision $f:\\boldsymbol{x} \\mapsto \\beta_0 + \\displaystyle\\sum^m_{j=1} \\beta_j \\phi_j(\\boldsymbol{x})$ linéaire dans l'espace de redescription $\\mathcal{H}$ mais non liénaire dans l'espace initial $\\mathcal{X}$.\n",
    "\n",
    "En d'autres termes, $f = g \\circ \\phi$, avec $g$ linéaire et $\\phi$ non linéaire."
   ]
  },
  {
   "cell_type": "markdown",
   "metadata": {},
   "source": [
    "## B) Astuce du noyau sur Wikipédia\n",
    "\n",
    "En [apprentissage automatique](https://fr.wikipedia.org/wiki/Apprentissage_automatique), l'**astuce du noyau**, ou ***kernel trick*** en anglais, est une méthode qui permet d'utiliser un [classifieur linéaire](https://fr.wikipedia.org/wiki/Classifieur_linéaire) pour résoudre un problème non linéaire. L'idée est de transformer l'espace de représentation des données d'entrées en un espace de plus grande dimension, où un classifieur linéaire peut être utilisé et obtenir de bonnes performances. La discrimination linéaire dans l'espace de grande dimension (appelé aussi espace de redescription) est équivalente à une discrimination non linéaire dans l'espace d'origine. "
   ]
  },
  {
   "cell_type": "markdown",
   "metadata": {},
   "source": [
    "## C) Méthode à noyau sur Wikipedia\n",
    "\n",
    "En [apprentissage automatique](https://en.wikipedia.org/wiki/Machine_learning), les machines à noyau sont une classe d'algorithmes d'[analyse de modèles](https://en.wikipedia.org/wiki/Pattern_recognition), dont le membre le plus connu est la [machine à vecteurs de support](https://en.wikipedia.org/wiki/Support_vector_machine) (SVM). La tâche générale de l'[analyse de modèles](https://en.wikipedia.org/wiki/Pattern_recognition) est de trouver et d'étudier les types généraux de relations (par exemple les [grappes](https://en.wikipedia.org/wiki/Cluster_analysis), les [classements](https://en.wikipedia.org/wiki/Ranking), les [composantes principales](https://en.wikipedia.org/wiki/Principal_component_analysis), les [corrélations](https://en.wikipedia.org/wiki/Correlation), les [classifications](https://en.wikipedia.org/wiki/Statistical_classification)) dans les ensembles de données. Pour de nombreux algorithmes qui résolvent ces tâches, les données en représentation brute doivent être explicitement transformées en [représentations vectorielles de caractéristiques](https://en.wikipedia.org/wiki/Feature_(machine_learning)) via un *plan de caractéristiques* spécifié par l'utilisateur : les méthodes à noyau ont l'avantage de ne nécessiter qu'un *noyau* spécifié par l'utilisateur, c'est-à-dire une fonction de similarité sur toutes les paires de points de données calculés à l'aide de [produits internes](https://en.wikipedia.org/wiki/Inner_product_space). Le plan de caractéristiques dans les machines à noyau est de dimension infinie mais ne nécessite qu'une matrice de dimension finie à partir de l'entrée de l'utilisateur selon le [théorème du représentant](https://en.wikipedia.org/wiki/Representer_theorem). Les machines à noyau sont lentes à calculer pour des ensembles de données supérieurs à quelques milliers d'exemples sans traitement parallèle.\n",
    "\n",
    "Les méthodes du noyau doivent leur nom à l'utilisation de [fonctions du noyau](https://en.wikipedia.org/wiki/Positive-definite_kernel), qui leur permettent de fonctionner dans un espace de caractéristiques implicite de grande dimension sans jamais calculer les coordonnées des données dans cet espace, mais plutôt en calculant simplement les produits internes entre les images de toutes les paires de données dans l'espace des caractéristiques. Cette opération est souvent moins coûteuse en calcul que le calcul explicite des coordonnées. Cette approche s'appelle **\"l'astuce du noyau\"**.[1] Des fonctions noyau ont été introduites pour les données séquentielles, les [graphes](https://en.wikipedia.org/wiki/Graph_kernel), le texte, les images, ainsi que les vecteurs.\n",
    "\n",
    "Les algorithmes capables de fonctionner avec les noyaux incluent le [perceptron à noyau](https://en.wikipedia.org/wiki/Kernel_perceptron), les machines à vecteurs de support (SVM), les [processus gaussiens](https://en.wikipedia.org/wiki/Gaussian_process), l'[analyse en composantes principales](https://en.wikipedia.org/wiki/Principal_component_analysis) (PCA), l'[analyse de corrélation canonique](https://en.wikipedia.org/wiki/Canonical_correlation), la [régression de crête](https://en.wikipedia.org/wiki/Ridge_regression), le [regroupement spectral](https://en.wikipedia.org/wiki/Spectral_clustering), les [filtres adaptatifs linéaires](https://en.wikipedia.org/wiki/Adaptive_filter) et bien d'autres.\n",
    "\n",
    "La plupart des algorithmes à noyau sont basés sur l'[optimisation convexe](https://en.wikipedia.org/wiki/Convex_optimization) ou les [problèmes propres](https://en.wikipedia.org/wiki/Eigenvalues_and_eigenvectors) et sont statistiquement bien fondés. En règle générale, leurs propriétés statistiques sont analysées à l'aide de la [théorie de l'apprentissage statistique](https://en.wikipedia.org/wiki/Statistical_learning_theory) (par exemple, à l'aide de la [complexité de Rademacher](https://en.wikipedia.org/wiki/Rademacher_complexity)).\n",
    "\n",
    "### Motivation et explication informelle\n",
    "\n",
    "Les méthodes à noyau peuvent être considérées comme des [apprenants basés sur des instances](https://en.wikipedia.org/wiki/Instance-based_learning) : plutôt que d'apprendre un certain ensemble fixe de paramètres correspondant aux caractéristiques de leurs entrées, elles \"se souviennent\" plutôt du $i$-ième exemple d'apprentissage $\\mathbf{x} _{i},y_{i}$ et apprennent pour cela un poids $w_{i}$ correspondant. La prédiction des entrées non étiquetées, c'est-à-dire celles qui ne font pas partie de l'ensemble d'apprentissage, est traitée par l'application d'une [fonction de similarité](https://en.wikipedia.org/wiki/Similarity_measure) $k$, appelée noyau, entre l'entrée non étiquetée $\\mathbf {x'}$ et chacune des entrées d'apprentissage $\\mathbf {x}_{i}$. Par exemple, un [classifieur binaire](https://en.wikipedia.org/wiki/Binary_classification) kernelisé calcule généralement une somme pondérée de similarités\n",
    "\n",
    "$$\n",
    "{\\hat {y}}=\\operatorname {sgn} \\sum _{i=1}^{n}w_{i}y_{i}k (\\mathbf {x} _{i},\\mathbf {x'} ),\n",
    "$$\n",
    "\n",
    "où\n",
    "\n",
    "* ${\\hat {y}} \\in \\{-1, + 1 \\}$ est l'étiquette prédite du classifieur binaire kernelisé pour l'entrée non étiquetée $\\mathbf{x'}$ dont la véritable étiquette cachée $y$ est intéressante ;\n",
    "* $k\\colon {\\mathcal{X}}\\times {\\mathcal{X}}\\to \\mathbb{R}$ est la fonction noyau qui mesure la similarité entre toute paire d'entrées $\\mathbf{x} ,\\mathbf{x'} \\in {\\mathcal {X}}$ ;\n",
    "* la somme s'étend sur les $n$ exemples étiquetés $\\{(\\mathbf{x}_{i},y_{i})\\}_{i=1}^{n}$ dans l'ensemble d'apprentissage du classifieur, avec $y_{i}\\in \\{-1,+1\\}$ ;\n",
    "* les $w_{i} \\in \\mathbb{R}$ sont les poids des exemples d'apprentissage, tels que déterminés par l'algorithme d'apprentissage ;\n",
    "* la [fonction de signe](https://en.wikipedia.org/wiki/Sign_function) $\\operatorname{sgn}$ détermine si la classification prédite ${\\hat {y}}$ est positive ou négative.\n",
    "\n",
    "Les classifieurs à noyau ont été décrits dès les années 1960, avec l'invention du perceptron à noyau.[2] Ils ont pris une grande importance avec la popularité de la [machine à vecteurs de support](https://en.wikipedia.org/wiki/Support_vector_machine) (SVM) dans les années 1990, lorsque la SVM s'est avérée compétitive avec les [réseaux de neurones](https://en.wikipedia.org/wiki/Artificial_neural_network) sur des tâches telles que la [reconnaissance de l'écriture manuscrite](https://en.wikipedia.org/wiki/Handwriting_recognition).\n",
    "\n",
    "### Mathématiques : l'astuce du noyau\n",
    "\n",
    "L'astuce du noyau évite le mappage explicite qui est nécessaire pour que les [algorithmes d'apprentissage](https://en.wikipedia.org/wiki/Machine_learning) linéaire apprennent une fonction non linéaire ou une [limite de décision](https://en.wikipedia.org/wiki/Decision_boundary). Pour tous $\\mathbf{x}$ et $\\mathbf{x'}$ dans l'espace d'entrée ${\\mathcal{X}}$, certaines fonctions $k(\\mathbf{x} ,\\mathbf{x'})$ peut être exprimé comme un [produit scalaire](https://en.wikipedia.org/wiki/Inner_product_space) dans un autre espace ${\\mathcal {V}}$. La fonction $k\\colon {\\mathcal{X}}\\times {\\mathcal{X}} \\to \\mathbb{R}$ est souvent appelée *noyau* ou *[fonction noyau](https://en.wikipedia.org/wiki/Positive-definite_kernel)*. Le mot \"noyau\" est utilisé en mathématiques pour désigner une fonction de pondération pour une somme ou une [intégrale](https://en.wikipedia.org/wiki/Integral) pondérée.\n",
    "\n",
    "Certains problèmes d'apprentissage automatique ont plus de structure qu'une fonction de pondération arbitraire $k$. Le calcul est rendu beaucoup plus simple si le noyau peut être écrit sous la forme d'une \"carte de caractéristiques\" $\\varphi \\colon {\\mathcal{X}}\\to {\\mathcal {V}}$ qui satisfait\n",
    "\n",
    "$$\n",
    "k(\\mathbf{x} ,\\mathbf{x'} )=\\langle \\varphi (\\mathbf{x} ),\\varphi (\\mathbf{x'} )\\rangle _{\\mathcal{V}}.\n",
    "$$\n",
    "\n",
    "La restriction clé est que $\\langle \\cdot,\\cdot \\rangle_{\\mathcal {V}}$ doit être un produit scalaire approprié. D'autre part, une représentation explicite de $\\varphi$ n'est pas nécessaire, tant que ${\\mathcal{V}}$ est un espace de [produit scalaire](https://en.wikipedia.org/wiki/Inner_product_space). L'alternative découle du [théorème de Mercer](https://en.wikipedia.org/wiki/Mercer%27s_theorem) : une fonction définie implicitement $\\varphi$ existe chaque fois que l'espace peut être muni d'une [mesure](https://en.wikipedia.org/wiki/Measure_(mathematics)) appropriée garantissant que la fonction $k$ satisfait la [condition de Mercer](https://en.wikipedia.org/wiki/Mercer%27s_theorem#Mercer's_condition).\n",
    "\n",
    "Le théorème de Mercer est similaire à une généralisation du résultat de l'algèbre linéaire qui [associe un produit scalaire à toute matrice définie positive](https://en.wikipedia.org/wiki/Definite_matrix#Other_characterizations). En fait, la condition de Mercer peut être réduite à ce cas plus simple. Si nous choisissons comme mesure la [mesure de comptage](https://en.wikipedia.org/wiki/Counting_measure) $\\mu(T)=|T|$ pour tout $T \\subset X$, qui compte le nombre de points à l'intérieur de l'ensemble $T$, alors l'intégrale du théorème de Mercer se réduit à une sommation\n",
    "\n",
    "$$\n",
    "\\sum _{i=1}^{n}\\sum _{j=1}^{n}k(\\mathbf {x} _{i},\\mathbf {x} _{j})c_{i}c_{j}\\geq 0.\n",
    "$$\n",
    "\n",
    "Si cette sommation est valable pour toutes les séquences finies de points $(\\mathbf{x}_{1},\\dotsc ,\\mathbf {x} _{n})$ dans ${\\mathcal{X}}$ et tous les choix de $n$ coefficients réels $(c_{1},\\dots ,c_{n})$ (cf. [noyau défini positif](https://en.wikipedia.org/wiki/Positive-definite_kernel)), alors la fonction $k$ satisfait la condition de Mercer.\n",
    "\n",
    "Certains algorithmes qui dépendent de relations arbitraires dans l'espace natif auraient, en fait, une interprétation linéaire dans un cadre différent : l'espace de plage de $\\varphi$. L'interprétation linéaire nous donne un aperçu de l'algorithme. De plus, il n'est souvent pas nécessaire de calculer $\\varphi$ directement pendant le calcul, comme c'est le cas avec les [machines à vecteurs de support](https://en.wikipedia.org/wiki/Support_vector_machine). Certains citent ce raccourci de temps d'exécution comme le principal avantage. Les chercheurs l'utilisent également pour justifier les significations et les propriétés des algorithmes existants.\n",
    "\n",
    "Théoriquement, une [matrice de Gram](https://en.wikipedia.org/wiki/Gram_matrix) $\\mathbf {K} \\in \\mathbb {R} ^{n\\times n}$ par rapport à $\\{\\mathbf{x}_{ 1},\\dotsc ,\\mathbf {x} _{n}\\}$ (parfois aussi appelée \"matrice noyau\"[3]), où ${\\displaystyle K_{ij}=k (\\mathbf{x}_{i},\\mathbf{x}_{j})}$, doit être [positif semi-défini (PSD)](https://en.wikipedia.org/wiki/Definite_matrix).[4] Empiriquement, pour l'heuristique d'apprentissage automatique, les choix d'une fonction $k$ qui ne satisfont pas la condition de Mercer peuvent encore fonctionner raisonnablement si $k$ se rapproche au moins de l'idée intuitive de similarité.[5] Que $k$ soit ou non un noyau Mercer, $k$ peut toujours être appelé « noyau ».\n",
    "\n",
    "Si la fonction noyau $k$ est également une [fonction de covariance](https://en.wikipedia.org/wiki/Covariance_function) telle qu'utilisée dans les [processus gaussiens](https://en.wikipedia.org/wiki/Gaussian_process), alors la matrice de Gram $\\mathbf{K}$ peut également être appelée [matrice de covariance](https://en.wikipedia.org/wiki/Covariance_matrix).[6]\n",
    "\n",
    "### Applications\n",
    "\n",
    "Les domaines d'application des méthodes du noyau sont divers et comprennent la [géostatistique](https://en.wikipedia.org/wiki/Geostatistics), le [krigeage](https://en.wikipedia.org/wiki/Kriging), la [pondération inverse de la distance](https://en.wikipedia.org/wiki/Inverse_distance_weighting), la [reconstruction 3D](https://en.wikipedia.org/wiki/3D_reconstruction), la [bioinformatique](https://en.wikipedia.org/wiki/Bioinformatics), la [chimioinformatique](https://en.wikipedia.org/wiki/Cheminformatics), l'[extraction d'informations](https://en.wikipedia.org/wiki/Information_extraction) et la [reconnaissance de l'écriture manuscrite](https://en.wikipedia.org/wiki/Handwriting_recognition).\n",
    "\n",
    "### Noyaux populaires\n",
    "\n",
    "* [Noyau de Fisher](https://en.wikipedia.org/wiki/Fisher_kernel)\n",
    "* [Noyaux de graphe](https://en.wikipedia.org/wiki/Graph_kernel)\n",
    "* [Lisseur de noyau](https://en.wikipedia.org/wiki/Kernel_smoother)\n",
    "* [Noyau polynomial](https://en.wikipedia.org/wiki/Polynomial_kernel)\n",
    "* [Noyau de fonction de base radiale (RBF)](https://en.wikipedia.org/wiki/Radial_basis_function_kernel)\n",
    "* [Noyaux de chaîne](https://en.wikipedia.org/wiki/String_kernel)\n",
    "* [Noyau tangent neural](https://en.wikipedia.org/wiki/Neural_tangent_kernel)\n",
    "* [Noyau de processus gaussien de réseau neuronal (NNGP)](https://en.wikipedia.org/wiki/Neural_network_Gaussian_process)\n",
    "\n",
    "### Voir aussi\n",
    "* [Méthodes du noyau pour la sortie vectorielle](https://en.wikipedia.org/wiki/Kernel_methods_for_vector_output)\n",
    "* [Estimation de la densité du noyau](https://en.wikipedia.org/wiki/Kernel_density_estimation)\n",
    "* [Théorème du représentant](https://en.wikipedia.org/wiki/Representer_theorem)\n",
    "* [Apprentissage par similarité](https://en.wikipedia.org/wiki/Similarity_learning)\n",
    "* [Théorème de Cover](https://en.wikipedia.org/wiki/Cover%27s_theorem)\n",
    "\n",
    "### Références\n",
    "\n",
    "1. Theodoridis, Sergios (2008). Pattern Recognition. Elsevier B.V. p. 203. ISBN 9780080949123.\n",
    "2. Aizerman, M. A.; Braverman, Emmanuel M.; Rozonoer, L. I. (1964). \"Theoretical foundations of the potential function method in pattern recognition learning\". Automation and Remote Control. 25: 821–837. Cited in Guyon, Isabelle; Boser, B.; Vapnik, Vladimir (1993). Automatic capacity tuning of very large VC-dimension classifiers. Advances in neural information processing systems. CiteSeerX 10.1.1.17.7215.\n",
    "3. Hofmann, Thomas; Scholkopf, Bernhard; Smola, Alexander J. (2008). \"Kernel Methods in Machine Learning\". The Annals of Statistics. 36 (3). doi:10.1214/009053607000000677. S2CID 88516979.\n",
    "4. Mohri, Mehryar; Rostamizadeh, Afshin; Talwalkar, Ameet (2012). Foundations of Machine Learning. USA, Massachusetts: MIT Press. ISBN 9780262018258.\n",
    "5. Sewell, Martin. \"Support Vector Machines: Mercer's Condition\". Support Vector Machines.\n",
    "6. Rasmussen, C. E.; Williams, C. K. I. (2006). \"Gaussian Processes for Machine Learning\".\n",
    "7. Honarkhah, M.; Caers, J. (2010). \"Stochastic Simulation of Patterns Using Distance-Based Pattern Modeling\". Mathematical Geosciences. 42 (5): 487–517. doi:10.1007/s11004-010-9276-7. S2CID 73657847.\n",
    "\n",
    "### Lectures complémentaires\n",
    "\n",
    "* Shawe-Taylor, J.; Cristianini, N. (2004). Kernel Methods for Pattern Analysis. Cambridge University Press.\n",
    "* Liu, W.; Principe, J.; Haykin, S. (2010). Kernel Adaptive Filtering: A Comprehensive Introduction. Wiley. ISBN 9781118211212.\n",
    "* Schölkopf, B.; Smola, A. J.; Bach, F. (2018). Learning with Kernels : Support Vector Machines, Regularization, Optimization, and Beyond. MIT Press. ISBN 978-0-262-53657-8.\n",
    "\n",
    "\n",
    "### Liens externes\n",
    "\n",
    "* [Kernel-Machines Org](http://www.kernel-machines.org/) — community website\n",
    "* [onlineprediction.net Kernel Methods Article](http://onlineprediction.net/?n=Main.KernelMethods)\n",
    "\n",
    "### Catégories\n",
    "\n",
    "* [Méthodes à noyau pour l'apprentissage automatique](https://en.wikipedia.org/wiki/Category:Kernel_methods_for_machine_learning)\n",
    "* [Géostatistique](https://en.wikipedia.org/wiki/Category:Geostatistics)\n",
    "* [Algorithmes de classification](https://en.wikipedia.org/wiki/Category:Classification_algorithms)"
   ]
  },
  {
   "cell_type": "markdown",
   "metadata": {},
   "source": [
    "# 1.2 Classifiez vos données avec une SVM à noyau\n",
    "\n",
    "Comment choisir $\\phi$ et comment résoudre le problème efficacement.\n",
    "\n",
    "<mark>Réviser espace de Hilbert, produit scalaire, fonction définie positive, matrice définie positive (algèbre bilinéaire)</mark>\n",
    "\n",
    "Espace de Hilbert :\n",
    "* https://fr.wikipedia.org/wiki/Espace_de_Hilbert, https://en.wikipedia.org/wiki/Hilbert_space\n",
    "* https://fr.wikipedia.org/wiki/Matrice_définie_positive, https://en.wikipedia.org/wiki/Definite_matrix\n",
    "* https://fr.wikipedia.org/wiki/Forme_bilin%C3%A9aire\n",
    "\n",
    "\n",
    "Bon, à reprendre de manière approfondie, je fais une première passe d'écoute de toutes les vidéos.\n",
    "\n",
    "\n",
    "Comment choisir $\\varphi$. Etude du cas des SVM à noyau.\n",
    "\n",
    "... Cours à refaire à ma sauce... il n'est pas à la hauteur de ce qu'il y a à apprendre...\n",
    "\n",
    "Je fais le TP et je vais au plus vite vers les Quizz : but : terminer et valider pour à nouveau faire à ma manière, c'est à dire mieux et plus approfondi."
   ]
  },
  {
   "cell_type": "markdown",
   "metadata": {},
   "source": [
    "## TP SVM à noyau\n",
    "\n",
    "Les SVM à noyaux sont implémentées dans scikit-learn dans les classes [sklearn.svm.SVC](https://scikit-learn.org/stable/modules/generated/sklearn.svm.SVC.html) pour la classification et [sklearn.svm.SVR](https://scikit-learn.org/stable/modules/generated/sklearn.svm.SVR.html) pour la régression. Dans ces deux classes, vous pouvez spécifier un noyau grâce au paramètre « kernel ». Ce noyau peut être un des grands classiques (linéaire, polynomial, RBF), mais vous pouvez aussi définir vos propres noyaux !\n",
    "\n",
    "Regardons comment utiliser la classe sklearn.svm.SVC en pratique. Nous allons utiliser les données concernant les caractéristiques physico-chimiques de vins blancs portugais disponibles sur l'[archive UCI](https://archive.ics.uci.edu/ml/machine-learning-databases/wine-quality/). Il s'agit ici de prédire le score (entre 3 et 9) donné par des experts aux différents vins. Chargeons les données et transformons le problème en un problème de classification, pour lequel il s'agira de prédire si le score est supérieur à 6 (vin de bonne qualité) ou non :"
   ]
  },
  {
   "cell_type": "code",
   "execution_count": 1,
   "metadata": {},
   "outputs": [],
   "source": [
    "import numpy as np\n",
    "# charger les données\n",
    "import pandas as pd\n",
    "data = pd.read_csv('winequality-white.csv', sep=';')\n",
    "\n",
    "# créer la matrice de données\n",
    "X = data[data.columns[:-1]].values\n",
    "\n",
    "# créer le vecteur d'étiquettes\n",
    "y = data['quality'].values\n",
    "\n",
    "# transformer en un problème de classification binaire\n",
    "y_class = np.where(y<6, 0, 1)"
   ]
  },
  {
   "cell_type": "markdown",
   "metadata": {},
   "source": [
    "Avant toute chose, nous allons découper nos données en un jeu d'entraînement (X_train, y_train) et un jeu de test (X_test, y_test)."
   ]
  },
  {
   "cell_type": "code",
   "execution_count": 2,
   "metadata": {},
   "outputs": [],
   "source": [
    "from sklearn import model_selection\n",
    "X_train, X_test, y_train, y_test = model_selection.train_test_split(X, y_class, test_size=0.3)"
   ]
  },
  {
   "cell_type": "markdown",
   "metadata": {},
   "source": [
    "Nous pouvons maintenant standardiser les variables, c'est-à-dire les centrer (ramener leur moyenne à 0) et les réduire (ramener leur écart-type à 1), afin qu'elles se placent toutes à peu près sur la même échelle."
   ]
  },
  {
   "cell_type": "code",
   "execution_count": 3,
   "metadata": {},
   "outputs": [],
   "source": [
    "# standardiser les données\n",
    "from sklearn import preprocessing\n",
    "std_scale = preprocessing.StandardScaler().fit(X_train)\n",
    "\n",
    "X_train_std = std_scale.transform(X_train)\n",
    "X_test_std = std_scale.transform(X_test)"
   ]
  },
  {
   "cell_type": "markdown",
   "metadata": {},
   "source": [
    "OK, nous pouvons enfin entraîner notre première SVM à noyau !"
   ]
  },
  {
   "cell_type": "code",
   "execution_count": 4,
   "metadata": {},
   "outputs": [
    {
     "data": {
      "text/html": [
       "<style>#sk-container-id-1 {color: black;background-color: white;}#sk-container-id-1 pre{padding: 0;}#sk-container-id-1 div.sk-toggleable {background-color: white;}#sk-container-id-1 label.sk-toggleable__label {cursor: pointer;display: block;width: 100%;margin-bottom: 0;padding: 0.3em;box-sizing: border-box;text-align: center;}#sk-container-id-1 label.sk-toggleable__label-arrow:before {content: \"▸\";float: left;margin-right: 0.25em;color: #696969;}#sk-container-id-1 label.sk-toggleable__label-arrow:hover:before {color: black;}#sk-container-id-1 div.sk-estimator:hover label.sk-toggleable__label-arrow:before {color: black;}#sk-container-id-1 div.sk-toggleable__content {max-height: 0;max-width: 0;overflow: hidden;text-align: left;background-color: #f0f8ff;}#sk-container-id-1 div.sk-toggleable__content pre {margin: 0.2em;color: black;border-radius: 0.25em;background-color: #f0f8ff;}#sk-container-id-1 input.sk-toggleable__control:checked~div.sk-toggleable__content {max-height: 200px;max-width: 100%;overflow: auto;}#sk-container-id-1 input.sk-toggleable__control:checked~label.sk-toggleable__label-arrow:before {content: \"▾\";}#sk-container-id-1 div.sk-estimator input.sk-toggleable__control:checked~label.sk-toggleable__label {background-color: #d4ebff;}#sk-container-id-1 div.sk-label input.sk-toggleable__control:checked~label.sk-toggleable__label {background-color: #d4ebff;}#sk-container-id-1 input.sk-hidden--visually {border: 0;clip: rect(1px 1px 1px 1px);clip: rect(1px, 1px, 1px, 1px);height: 1px;margin: -1px;overflow: hidden;padding: 0;position: absolute;width: 1px;}#sk-container-id-1 div.sk-estimator {font-family: monospace;background-color: #f0f8ff;border: 1px dotted black;border-radius: 0.25em;box-sizing: border-box;margin-bottom: 0.5em;}#sk-container-id-1 div.sk-estimator:hover {background-color: #d4ebff;}#sk-container-id-1 div.sk-parallel-item::after {content: \"\";width: 100%;border-bottom: 1px solid gray;flex-grow: 1;}#sk-container-id-1 div.sk-label:hover label.sk-toggleable__label {background-color: #d4ebff;}#sk-container-id-1 div.sk-serial::before {content: \"\";position: absolute;border-left: 1px solid gray;box-sizing: border-box;top: 0;bottom: 0;left: 50%;z-index: 0;}#sk-container-id-1 div.sk-serial {display: flex;flex-direction: column;align-items: center;background-color: white;padding-right: 0.2em;padding-left: 0.2em;position: relative;}#sk-container-id-1 div.sk-item {position: relative;z-index: 1;}#sk-container-id-1 div.sk-parallel {display: flex;align-items: stretch;justify-content: center;background-color: white;position: relative;}#sk-container-id-1 div.sk-item::before, #sk-container-id-1 div.sk-parallel-item::before {content: \"\";position: absolute;border-left: 1px solid gray;box-sizing: border-box;top: 0;bottom: 0;left: 50%;z-index: -1;}#sk-container-id-1 div.sk-parallel-item {display: flex;flex-direction: column;z-index: 1;position: relative;background-color: white;}#sk-container-id-1 div.sk-parallel-item:first-child::after {align-self: flex-end;width: 50%;}#sk-container-id-1 div.sk-parallel-item:last-child::after {align-self: flex-start;width: 50%;}#sk-container-id-1 div.sk-parallel-item:only-child::after {width: 0;}#sk-container-id-1 div.sk-dashed-wrapped {border: 1px dashed gray;margin: 0 0.4em 0.5em 0.4em;box-sizing: border-box;padding-bottom: 0.4em;background-color: white;}#sk-container-id-1 div.sk-label label {font-family: monospace;font-weight: bold;display: inline-block;line-height: 1.2em;}#sk-container-id-1 div.sk-label-container {text-align: center;}#sk-container-id-1 div.sk-container {/* jupyter's `normalize.less` sets `[hidden] { display: none; }` but bootstrap.min.css set `[hidden] { display: none !important; }` so we also need the `!important` here to be able to override the default hidden behavior on the sphinx rendered scikit-learn.org. See: https://github.com/scikit-learn/scikit-learn/issues/21755 */display: inline-block !important;position: relative;}#sk-container-id-1 div.sk-text-repr-fallback {display: none;}</style><div id=\"sk-container-id-1\" class=\"sk-top-container\"><div class=\"sk-text-repr-fallback\"><pre>SVC(gamma=0.01)</pre><b>In a Jupyter environment, please rerun this cell to show the HTML representation or trust the notebook. <br />On GitHub, the HTML representation is unable to render, please try loading this page with nbviewer.org.</b></div><div class=\"sk-container\" hidden><div class=\"sk-item\"><div class=\"sk-estimator sk-toggleable\"><input class=\"sk-toggleable__control sk-hidden--visually\" id=\"sk-estimator-id-1\" type=\"checkbox\" checked><label for=\"sk-estimator-id-1\" class=\"sk-toggleable__label sk-toggleable__label-arrow\">SVC</label><div class=\"sk-toggleable__content\"><pre>SVC(gamma=0.01)</pre></div></div></div></div></div>"
      ],
      "text/plain": [
       "SVC(gamma=0.01)"
      ]
     },
     "execution_count": 4,
     "metadata": {},
     "output_type": "execute_result"
    }
   ],
   "source": [
    "# Créer une SVM avec un noyau gaussien de paramètre gamma=0.01\n",
    "from sklearn import svm\n",
    "classifier = svm.SVC(kernel='rbf', gamma=0.01)\n",
    "\n",
    "# Entraîner la SVM sur le jeu d'entraînement\n",
    "classifier.fit(X_train_std, y_train)"
   ]
  },
  {
   "cell_type": "markdown",
   "metadata": {},
   "source": [
    "Comment se comporte-t-elle sur le jeu de test ? Nous allons pour le comprendre regarder la courbe ROC."
   ]
  },
  {
   "cell_type": "code",
   "execution_count": 5,
   "metadata": {},
   "outputs": [
    {
     "data": {
      "image/png": "[encoded data removed]",
      "text/plain": [
       "<Figure size 432x432 with 1 Axes>"
      ]
     },
     "metadata": {
      "needs_background": "light"
     },
     "output_type": "display_data"
    }
   ],
   "source": [
    "# prédire sur le jeu de test\n",
    "y_test_pred = classifier.decision_function(X_test_std)\n",
    "\n",
    "# construire la courbe ROC\n",
    "from sklearn import metrics\n",
    "fpr, tpr, thr = metrics.roc_curve(y_test, y_test_pred)\n",
    "\n",
    "# calculer l'aire sous la courbe ROC\n",
    "auc = metrics.auc(fpr, tpr)\n",
    "\n",
    "# créer une figure\n",
    "from matplotlib import pyplot as plt\n",
    "fig = plt.figure(figsize=(6, 6))\n",
    "\n",
    "# afficher la courbe ROC\n",
    "plt.plot(fpr, tpr, '-', lw=2, label='gamma=0.01, AUC=%.2f' % auc)\n",
    "\n",
    "# donner un titre aux axes et au graphique\n",
    "plt.xlabel('False Positive Rate', fontsize=16)\n",
    "plt.ylabel('True Positive Rate', fontsize=16)\n",
    "plt.title('SVM ROC Curve', fontsize=16)\n",
    "\n",
    "# afficher la légende\n",
    "plt.legend(loc=\"lower right\", fontsize=14)\n",
    "\n",
    "# afficher l'image\n",
    "plt.show()"
   ]
  },
  {
   "cell_type": "markdown",
   "metadata": {},
   "source": [
    "### Sélection des hyperparamètres\n",
    "\n",
    "Comme dans le cas de la SVM linéaire, il faut mettre en œuvre de bonnes pratiques de sélection de modèle (par exemple une validation croisée) pour choisir la meilleure valeur de C !\n",
    "\n",
    "Nous allons ici utiliser une validation croisée sur le jeu d'entraînement pour sélectionner les valeurs optimales de C et de gamma parmi une grille de valeurs."
   ]
  },
  {
   "cell_type": "code",
   "execution_count": 6,
   "metadata": {},
   "outputs": [
    {
     "name": "stdout",
     "output_type": "stream",
     "text": [
      "The optimal parameters are {'C': 1.0, 'gamma': 1.0} with a score of 0.85\n"
     ]
    }
   ],
   "source": [
    "# choisir 6 valeurs pour C, entre 1e-2 et 1e3\n",
    "C_range = np.logspace(-2, 3, 6)\n",
    "\n",
    "# choisir 4 valeurs pour gamma, entre 1e-2 et 10\n",
    "gamma_range = np.logspace(-2, 1, 4)\n",
    "\n",
    "# grille de paramètres\n",
    "param_grid = {'C': C_range, 'gamma': gamma_range}\n",
    "\n",
    "# critère de sélection du meilleur modèle\n",
    "score = 'roc_auc'\n",
    "\n",
    "# initialiser une recherche sur grille\n",
    "grid = model_selection.GridSearchCV(svm.SVC(kernel='rbf'), \n",
    "                                    param_grid, \n",
    "                                    cv=5, # 5 folds de validation croisée  \n",
    "                                    scoring=score)\n",
    "\n",
    "# faire tourner la recherche sur grille\n",
    "grid.fit(X_train_std, y_train)\n",
    "\n",
    "# afficher les paramètres optimaux\n",
    "print(\"The optimal parameters are {} with a score of {:.2f}\".format(grid.best_params_, grid.best_score_))"
   ]
  },
  {
   "cell_type": "markdown",
   "metadata": {},
   "source": [
    "Nous pouvons maintenant évaluer la performance de notre modèle optimisé sur le jeu de test :"
   ]
  },
  {
   "cell_type": "code",
   "execution_count": 7,
   "metadata": {},
   "outputs": [
    {
     "data": {
      "image/png": "[encoded data removed]",
      "text/plain": [
       "<Figure size 432x432 with 1 Axes>"
      ]
     },
     "metadata": {
      "needs_background": "light"
     },
     "output_type": "display_data"
    }
   ],
   "source": [
    "# prédire sur le jeu de test avec le modèle optimisé\n",
    "y_test_pred_cv = grid.decision_function(X_test_std)\n",
    "\n",
    "# construire la courbe ROC du modèle optimisé\n",
    "fpr_cv, tpr_cv, thr_cv = metrics.roc_curve(y_test, y_test_pred_cv)\n",
    "\n",
    "# calculer l'aire sous la courbe ROC du modèle optimisé\n",
    "auc_cv = metrics.auc(fpr_cv, tpr_cv)\n",
    "\n",
    "# créer une figure\n",
    "fig = plt.figure(figsize=(6, 6))\n",
    "\n",
    "# afficher la courbe ROC précédente\n",
    "plt.plot(fpr, tpr, '-', lw=2, label='gamma=0.01, AUC=%.2f' % auc)\n",
    "\n",
    "# afficher la courbe ROC du modèle optimisé\n",
    "plt.plot(fpr_cv, tpr_cv, '-', lw=2, label='gamma=%.1e, AUC=%.2f' % \\\n",
    "         (grid.best_params_['gamma'], auc_cv))\n",
    "         \n",
    "\n",
    "# donner un titre aux axes et au graphique\n",
    "plt.xlabel('False Positive Rate', fontsize=16)\n",
    "plt.ylabel('True Positive Rate', fontsize=16)\n",
    "plt.title('SVM ROC Curve', fontsize=16)\n",
    "\n",
    "# afficher la légende\n",
    "plt.legend(loc=\"lower right\", fontsize=14)\n",
    "\n",
    "# afficher l'image\n",
    "plt.show()"
   ]
  },
  {
   "cell_type": "markdown",
   "metadata": {},
   "source": [
    "### Matrice de Gram\n",
    "\n",
    "Quel est l'importance du paramètre gamma ? La documentation nous indique que le noyau RBF gaussien est donné par $K(x, x') = \\exp(- \\gamma ||x - x'||^2)$.\n",
    "\n",
    "Gamma contrôle la bande passante de la gaussienne : plus gamma est élevé, plus la gaussienne est étroite, autrement dit, plus la distance entre $x$ et $x'$ doit être faible pour que le noyau soit différent de 0.\n",
    "\n",
    "Pour en visualiser l'effet, nous pouvons visualiser la matrice de Gram des données, autrement dit la matrice K telle que $K_{il} = k ( x^{(i)}, x^{(l)})$.\n",
    "\n",
    "Il peut arriver que la matrice de Gram de vos données, autrement dit la matrice K telle que $K_{il} = k ( x^{(i)}, x^{(l)})$, est à diagonale fortement dominante, autrement dit que les nombres sur sa diagonale ont des valeurs plusieurs ordres de grandeurs plus grandes que les autres. Dans ce cas, du point de vue numérique elle ressemblera à la matrice identité (fois un grand nombre réel), et la SVM ne pourra pas bien apprendre : c'est comme si vous lui disiez que chaque point n'est semblable qu'à lui-même, et extrêmement différent des autres.\n",
    "\n",
    "Calculons la matrice de Gram obtenue sur notre jeu d'entraînement quand gamma=0.01 :"
   ]
  },
  {
   "cell_type": "code",
   "execution_count": 8,
   "metadata": {},
   "outputs": [],
   "source": [
    "from sklearn import metrics\n",
    "kmatrix = metrics.pairwise.rbf_kernel(X_train_std, gamma=0.01)"
   ]
  },
  {
   "cell_type": "markdown",
   "metadata": {},
   "source": [
    "Nous allons réduire cette matrice à ses 100 premières lignes et 100 premières colonnes pour en faciliter la visualisation :"
   ]
  },
  {
   "cell_type": "code",
   "execution_count": 9,
   "metadata": {},
   "outputs": [],
   "source": [
    "kmatrix100 = kmatrix[:100, :100]"
   ]
  },
  {
   "cell_type": "markdown",
   "metadata": {},
   "source": [
    "Nous pouvons maintenant utiliser [plt.pcolor](https://matplotlib.org/stable/api/_as_gen/matplotlib.pyplot.pcolor.html) pour visualiser cette matrice :"
   ]
  },
  {
   "cell_type": "code",
   "execution_count": 10,
   "metadata": {},
   "outputs": [
    {
     "data": {
      "image/png": "[encoded data removed]",
      "text/plain": [
       "<Figure size 432x288 with 2 Axes>"
      ]
     },
     "metadata": {
      "needs_background": "light"
     },
     "output_type": "display_data"
    }
   ],
   "source": [
    "import matplotlib.pyplot as plt\n",
    "import matplotlib\n",
    "\n",
    "# dessiner la matrice\n",
    "plt.pcolor(kmatrix100, cmap=matplotlib.cm.PuRd) \n",
    "\n",
    "# rajouter la légende\n",
    "plt.colorbar()\n",
    "\n",
    "# retourner l'axe des ordonnées\n",
    "plt.gca().invert_yaxis()\n",
    "plt.gca().xaxis.tick_top()\n",
    "\n",
    "# afficher l'image\n",
    "plt.show()"
   ]
  },
  {
   "cell_type": "markdown",
   "metadata": {},
   "source": [
    "Nous avons ici des valeurs de noyau comprises entre 0.40 et 1.0, avec une diagonale plus forte mais qui n'écrase pas la matrice.\n",
    "\n",
    "Avec une valeur de gamma plus grande, par exemple, gamma=50, on obtient la matrice de Gram suivante :"
   ]
  },
  {
   "cell_type": "code",
   "execution_count": 16,
   "metadata": {},
   "outputs": [
    {
     "data": {
      "image/png": "[encoded data removed]",
      "text/plain": [
       "<Figure size 432x432 with 1 Axes>"
      ]
     },
     "metadata": {
      "needs_background": "light"
     },
     "output_type": "display_data"
    }
   ],
   "source": [
    "# Créer une SVM avec un noyau gaussien de paramètre gamma=50\n",
    "from sklearn import svm\n",
    "classifier = svm.SVC(kernel='rbf', gamma=50)\n",
    "\n",
    "# Entraîner la SVM sur le jeu d'entraînement\n",
    "classifier.fit(X_train_std, y_train)\n",
    "\n",
    "# prédire sur le jeu de test avec le modèle avec gamma=50\n",
    "y_test_pred_cv = classifier.decision_function(X_test_std)\n",
    "\n",
    "# construire la courbe ROC du modèle optimisé\n",
    "fpr_cv, tpr_cv, thr_cv = metrics.roc_curve(y_test, y_test_pred_cv)\n",
    "\n",
    "# calculer l'aire sous la courbe ROC du modèle optimisé\n",
    "auc_cv = metrics.auc(fpr_cv, tpr_cv)\n",
    "\n",
    "# créer une figure\n",
    "fig = plt.figure(figsize=(6, 6))\n",
    "\n",
    "# afficher la courbe ROC précédente\n",
    "plt.plot(fpr, tpr, '-', lw=2, label='gamma=0.01, AUC=%.2f' % auc)\n",
    "\n",
    "# afficher la courbe ROC du modèle optimisé\n",
    "plt.plot(fpr_cv, tpr_cv, '-', lw=2, label='gamma=%.1e, AUC=%.2f' % \\\n",
    "         (50, auc_cv))\n",
    "         \n",
    "\n",
    "# donner un titre aux axes et au graphique\n",
    "plt.xlabel('False Positive Rate', fontsize=16)\n",
    "plt.ylabel('True Positive Rate', fontsize=16)\n",
    "plt.title('SVM ROC Curve', fontsize=16)\n",
    "\n",
    "# afficher la légende\n",
    "plt.legend(loc=\"lower right\", fontsize=14)\n",
    "\n",
    "# afficher l'image\n",
    "plt.show()"
   ]
  },
  {
   "cell_type": "code",
   "execution_count": 18,
   "metadata": {},
   "outputs": [
    {
     "data": {
      "image/png": "[encoded data removed]",
      "text/plain": [
       "<Figure size 432x288 with 2 Axes>"
      ]
     },
     "metadata": {
      "needs_background": "light"
     },
     "output_type": "display_data"
    }
   ],
   "source": [
    "kmatrix = metrics.pairwise.rbf_kernel(X_train_std, gamma=50)\n",
    "kmatrix100 = kmatrix[:100, :100]\n",
    "# dessiner la matrice\n",
    "plt.pcolor(kmatrix100, cmap=matplotlib.cm.PuRd) \n",
    "\n",
    "# rajouter la légende\n",
    "plt.colorbar()\n",
    "\n",
    "# retourner l'axe des ordonnées\n",
    "plt.gca().invert_yaxis()\n",
    "plt.gca().xaxis.tick_top()\n",
    "\n",
    "# afficher l'image\n",
    "plt.show()"
   ]
  },
  {
   "cell_type": "markdown",
   "metadata": {},
   "source": [
    "Que faire si la matrice de Gram est dominée par sa diagonale ? Deux choix sont possibles :\n",
    "\n",
    "* jouer avec les paramètres du noyau pour réduire la différence entre les valeurs diagonales et les valeurs hors diagonale\n",
    "* remplacer la matrice de Gram K par la matrice M telle que $M_{il} = \\frac{K_{il}}{\\sqrt{K_{ii} K_{ll}}}$. Les valeurs diagonales de cette matrice seront de 1.\n",
    "\n",
    "Il est aussi possible que les paramètres du noyau soient tels que toutes les valeurs de la matrice de Gram sont proches les unes des autres. Dans ce cas, la SVM ne peut pas bien apprendre non plus : c'est comme si on lui avait dit que tous les points sont quasi-identiques..."
   ]
  },
  {
   "cell_type": "markdown",
   "metadata": {},
   "source": [
    "## Répétition autonome\n",
    "\n",
    "Classification d'électrocardiogramme sains vs non."
   ]
  },
  {
   "cell_type": "code",
   "execution_count": 27,
   "metadata": {},
   "outputs": [],
   "source": [
    "import numpy as np\n",
    "# charger les données\n",
    "import pandas as pd\n",
    "data = pd.read_csv('ecg.csv', header=None)#, sep=';')\n",
    "#display(data)\n",
    "\n",
    "# créer la matrice de données\n",
    "X = data[data.columns[:-1]].values\n",
    "\n",
    "# créer le vecteur d'étiquettes\n",
    "y_class = data[data.columns[-1]].values"
   ]
  },
  {
   "cell_type": "markdown",
   "metadata": {},
   "source": [
    "Séparation et normalisation"
   ]
  },
  {
   "cell_type": "code",
   "execution_count": 29,
   "metadata": {},
   "outputs": [],
   "source": [
    "X_train, X_test, y_train, y_test = model_selection.train_test_split(X, y_class, test_size=0.3)\n",
    "std_scale = preprocessing.StandardScaler().fit(X_train)\n",
    "X_train_std = std_scale.transform(X_train)\n",
    "X_test_std = std_scale.transform(X_test)"
   ]
  },
  {
   "cell_type": "markdown",
   "metadata": {},
   "source": [
    "Prédiction avec les paramètres par défaut"
   ]
  },
  {
   "cell_type": "code",
   "execution_count": 30,
   "metadata": {},
   "outputs": [
    {
     "data": {
      "image/png": "[encoded data removed]",
      "text/plain": [
       "<Figure size 432x432 with 1 Axes>"
      ]
     },
     "metadata": {
      "needs_background": "light"
     },
     "output_type": "display_data"
    }
   ],
   "source": [
    "# Créer une SVM avec un noyau gaussien de paramètre gamma=0.01\n",
    "from sklearn import svm\n",
    "classifier = svm.SVC(kernel='rbf', gamma=0.01)\n",
    "\n",
    "# Entraîner la SVM sur le jeu d'entraînement\n",
    "classifier.fit(X_train_std, y_train)\n",
    "# prédire sur le jeu de test\n",
    "y_test_pred = classifier.decision_function(X_test_std)\n",
    "\n",
    "# construire la courbe ROC\n",
    "from sklearn import metrics\n",
    "fpr, tpr, thr = metrics.roc_curve(y_test, y_test_pred)\n",
    "\n",
    "# calculer l'aire sous la courbe ROC\n",
    "auc = metrics.auc(fpr, tpr)\n",
    "\n",
    "# créer une figure\n",
    "from matplotlib import pyplot as plt\n",
    "fig = plt.figure(figsize=(6, 6))\n",
    "\n",
    "# afficher la courbe ROC\n",
    "plt.plot(fpr, tpr, '-', lw=2, label='gamma=0.01, AUC=%.2f' % auc)\n",
    "\n",
    "# donner un titre aux axes et au graphique\n",
    "plt.xlabel('False Positive Rate', fontsize=16)\n",
    "plt.ylabel('True Positive Rate', fontsize=16)\n",
    "plt.title('SVM ROC Curve', fontsize=16)\n",
    "\n",
    "# afficher la légende\n",
    "plt.legend(loc=\"lower right\", fontsize=14)\n",
    "\n",
    "# afficher l'image\n",
    "plt.show()"
   ]
  },
  {
   "cell_type": "markdown",
   "metadata": {},
   "source": [
    "Recherche des paramètres optimaux"
   ]
  },
  {
   "cell_type": "code",
   "execution_count": 31,
   "metadata": {},
   "outputs": [
    {
     "name": "stdout",
     "output_type": "stream",
     "text": [
      "The optimal parameters are {'C': 10.0, 'gamma': 0.01} with a score of 1.00\n"
     ]
    }
   ],
   "source": [
    "# choisir 6 valeurs pour C, entre 1e-2 et 1e3\n",
    "C_range = np.logspace(-2, 3, 6)\n",
    "\n",
    "# choisir 4 valeurs pour gamma, entre 1e-2 et 10\n",
    "gamma_range = np.logspace(-2, 1, 4)\n",
    "\n",
    "# grille de paramètres\n",
    "param_grid = {'C': C_range, 'gamma': gamma_range}\n",
    "\n",
    "# critère de sélection du meilleur modèle\n",
    "score = 'roc_auc'\n",
    "\n",
    "# initialiser une recherche sur grille\n",
    "grid = model_selection.GridSearchCV(svm.SVC(kernel='rbf'), \n",
    "                                    param_grid, \n",
    "                                    cv=5, # 5 folds de validation croisée  \n",
    "                                    scoring=score)\n",
    "\n",
    "# faire tourner la recherche sur grille\n",
    "grid.fit(X_train_std, y_train)\n",
    "\n",
    "# afficher les paramètres optimaux\n",
    "print(\"The optimal parameters are {} with a score of {:.2f}\".format(grid.best_params_, grid.best_score_))"
   ]
  },
  {
   "cell_type": "code",
   "execution_count": 32,
   "metadata": {},
   "outputs": [
    {
     "data": {
      "image/png": "[encoded data removed]",
      "text/plain": [
       "<Figure size 432x432 with 1 Axes>"
      ]
     },
     "metadata": {
      "needs_background": "light"
     },
     "output_type": "display_data"
    }
   ],
   "source": [
    "# prédire sur le jeu de test avec le modèle optimisé\n",
    "y_test_pred_cv = grid.decision_function(X_test_std)\n",
    "\n",
    "# construire la courbe ROC du modèle optimisé\n",
    "fpr_cv, tpr_cv, thr_cv = metrics.roc_curve(y_test, y_test_pred_cv)\n",
    "\n",
    "# calculer l'aire sous la courbe ROC du modèle optimisé\n",
    "auc_cv = metrics.auc(fpr_cv, tpr_cv)\n",
    "\n",
    "# créer une figure\n",
    "fig = plt.figure(figsize=(6, 6))\n",
    "\n",
    "# afficher la courbe ROC précédente\n",
    "plt.plot(fpr, tpr, '-', lw=2, label='gamma=0.01, AUC=%.2f' % auc)\n",
    "\n",
    "# afficher la courbe ROC du modèle optimisé\n",
    "plt.plot(fpr_cv, tpr_cv, '-', lw=2, label='gamma=%.1e, AUC=%.2f' % \\\n",
    "         (grid.best_params_['gamma'], auc_cv))\n",
    "         \n",
    "\n",
    "# donner un titre aux axes et au graphique\n",
    "plt.xlabel('False Positive Rate', fontsize=16)\n",
    "plt.ylabel('True Positive Rate', fontsize=16)\n",
    "plt.title('SVM ROC Curve', fontsize=16)\n",
    "\n",
    "# afficher la légende\n",
    "plt.legend(loc=\"lower right\", fontsize=14)\n",
    "\n",
    "# afficher l'image\n",
    "plt.show()"
   ]
  },
  {
   "cell_type": "code",
   "execution_count": 33,
   "metadata": {},
   "outputs": [
    {
     "data": {
      "image/png": "[encoded data removed]",
      "text/plain": [
       "<Figure size 432x288 with 2 Axes>"
      ]
     },
     "metadata": {
      "needs_background": "light"
     },
     "output_type": "display_data"
    }
   ],
   "source": [
    "kmatrix = metrics.pairwise.rbf_kernel(X_train_std, gamma=50)\n",
    "kmatrix100 = kmatrix[:100, :100]\n",
    "# dessiner la matrice\n",
    "plt.pcolor(kmatrix100, cmap=matplotlib.cm.PuRd) \n",
    "\n",
    "# rajouter la légende\n",
    "plt.colorbar()\n",
    "\n",
    "# retourner l'axe des ordonnées\n",
    "plt.gca().invert_yaxis()\n",
    "plt.gca().xaxis.tick_top()\n",
    "\n",
    "# afficher l'image\n",
    "plt.show()"
   ]
  },
  {
   "cell_type": "markdown",
   "metadata": {},
   "source": [
    "# 1.3 Apprenez des étiquettes réelles avec une régression ridge à noyau\n",
    "\n",
    "## Résumé de la vidéo\n",
    "\n",
    "<mark>Compléter</mark>\n",
    "\n",
    "## 'Résumé' de cours (le cours est un résumé)\n",
    "\n",
    "L'astuce du noyau se généralise à de nombreux algorithmes linéaires, par exemple à la régression de crête (ridge).\n",
    "\n",
    "Soient :\n",
    "* $n$ points $x$ de dimension $p$ décrits par la matrice $X$ de taille $n \\times p$,\n",
    "* leurs étiquettes $y$ (de taille $n$).\n",
    "\n",
    "Pour une observation $x$, la prédiction ridge est :\n",
    "\n",
    "$$\n",
    "f(x) = x \\beta\n",
    "$$\n",
    "\n",
    "où $\\beta$ est un vecteur colonne de taille $p$, donné par :\n",
    "\n",
    "$$\n",
    "\\beta = (\\lambda I_p + X^\\top X)^{-1} X^\\top y\n",
    "$$\n",
    "\n",
    "où $I_p$ est la matrice identité de taille $p \\times p$.\n",
    "\n",
    "(Rappel, pour l'OLS, l'équation normale est $\\theta=(X^\\top X)^{-1} X^\\top y$)\n",
    "\n",
    "On a donc :\n",
    "\n",
    "$$\n",
    "f(x) = x (\\lambda I_p + X^\\top X)^{-1} X^\\top y\n",
    "$$\n",
    "\n",
    "Qui peut se réécrire sous la forme :\n",
    "\n",
    "$$\n",
    "f(x) = x X^\\top (\\lambda I_n + X X^\\top)^{-1}  y\n",
    "$$\n",
    "\n",
    "En effet, en multipliant $\\beta$ à gauche par $(\\lambda I_p + X^\\top X)$, il vient :\n",
    "\n",
    "$$\n",
    "(\\lambda I_p + X^\\top X) \\beta = X^\\top y = \\lambda \\beta + X^\\top X \\beta\n",
    "$$\n",
    "\n",
    "Et par suite :\n",
    "\n",
    "$$\n",
    "\\beta = \\frac{1}{\\lambda} (X^\\top y - X^\\top X \\beta) = \\frac{1}{\\lambda} X^\\top (y - X \\beta)\n",
    "$$\n",
    "\n",
    "Soit $\\beta = X^\\top \\alpha$, avec :\n",
    "\n",
    "$$\n",
    "\\alpha = \\frac{1}{\\lambda} (y - X \\beta) = \\frac{1}{\\lambda} (y - X X^\\top \\alpha)\n",
    "\\Leftrightarrow \\alpha = (\\lambda I_n + X X^\\top)^{-1} y\n",
    "$$\n",
    "\n",
    "On conclut la réécriture par :\n",
    "\n",
    "$$\n",
    "f(x) = x \\beta = x X^\\top \\alpha = x X^\\top (\\lambda I_n + X X^\\top)^{-1} y\n",
    "$$\n",
    "\n",
    "\n",
    "Etant donné une application $\\varphi$ vers un espace de redescription $\\mathcal{H}$,\n",
    "\n",
    "Etant donné la matrice $\\Phi$ de taille $n \\times d$, où $d$ est la dimension de $\\mathcal{H}$ dont la $i$-ième ligne est l'image dans $\\mathcal{H}$ du $i$-ième point du jeu de données, i.e. $\\varphi(x^{(i)})$.\n",
    "\n",
    "Alors :\n",
    "\n",
    "$$\n",
    "f_\\varphi(x) = \\varphi(x) \\Phi^\\top ( \\lambda I_n + \\Phi \\Phi^\\top)^{-1} y\n",
    "$$\n",
    "\n",
    "A $\\varphi$ correspond un noyau défini par $k(x, x') = \\langle \\varphi(x), \\varphi(x') \\rangle$.\n",
    "\n",
    "Posons $\\kappa = \\varphi(x) \\Phi^\\top = ( k(x, x^{(1)}), k(x, x^{(2)}), \\dots, k(x, x^{(n)}))$,\n",
    "\n",
    "et $K = \\Phi \\Phi^\\top$, la matrice de Gram, de taille $n \\times n$ de coefficients $K_{ij} = k(x^{(i)}, x^{(j)})$.\n",
    "\n",
    "Alors $f_\\varphi(x)$ se réécrit sous la forme :\n",
    "\n",
    "$$\n",
    "f_\\varphi(x) = \\kappa (\\lambda I_n + K)^{-1} y\n",
    "$$\n",
    "\n",
    "Il est alors possible d'entraîner et utiliser une régression de crête dans l'espace de redescription sans devoir pour autant connaître explicitement $\\varphi$ ni devoir calculer l'image des points $x$ dans cet espace.\n",
    "\n",
    "Il s'agit de la **régression de crête à noyau** (**kRR** - *kernel ridge regression*).\n",
    "\n",
    "Cette méthode est également applicable à la régression logistique régularisée ridge.\n",
    "\n",
    "**NB** - $\\beta$ n'est plus un terme explicite à déterminer. Heureusement puisque l'espace de redescription (espace de Hilbert) et peut être de dimension infinie, par exemple avec le noyau gaussien.\n",
    "\n",
    "**NB** Contrairement à la version linéaire, la version à noyau ne produit pas une forme explicite de la fonction de décision (fonction des variables). On parle alors d'approche **non paramétrique**, cf. SVM à noyau. Il existe d'autres approches non paramétriques, par exemple les [plus proches voisins](https://openclassrooms.com/fr/courses/4011851-initiez-vous-au-machine-learning/4022441-entrainez-votre-premier-k-nn) ou les [arbres de décision et forêts aléatoires](https://openclassrooms.com/fr/courses/4470521-modelisez-vos-donnees-avec-les-methodes-ensemblistes/4664688-reduisez-la-correlation-entre-les-apprenants-faibles-a-l-aide-des-forets-aleatoires).\n",
    "\n",
    "**NB** La matrice de Gram $K$ est de taille $n \\times n$ et entraîne que la complexité d'une approche non-paramétrique dépend du nombre d'observations (dépendance polynomiale) tandis que dans les approches paramétriques, elle dépend du nombre de variables.\n",
    "\n",
    "**NB** Comparaison SVR / kRR\n",
    "* Modèles de même formes\n",
    "* Coefficients différents car fonctions de perte différentes.\n",
    "    * Ridge : minimisation de l'erreur quadratique\n",
    "    * SVR : perte insensible à $\\varepsilon$, i.e. différence absolue entre prédiction et réalité, sauf quand celle-ci s'approche de 0 et est alors négligée.\n",
    "* L'entraînement de la kRR est plus efficace car la solution analytique est exacte.\n",
    "* Mais la prédiction sera plus efficace avec une SVR."
   ]
  },
  {
   "cell_type": "markdown",
   "metadata": {},
   "source": [
    "## Mise en pratique avec sklearn\n",
    "\n",
    "Retour sur les vins."
   ]
  },
  {
   "cell_type": "markdown",
   "metadata": {},
   "source": [
    "### Chargement, séparation, normalisation"
   ]
  },
  {
   "cell_type": "code",
   "execution_count": 34,
   "metadata": {},
   "outputs": [],
   "source": [
    "# charger les données\n",
    "import pandas as pd\n",
    "data = pd.read_csv('winequality-white.csv', sep=';')\n",
    "\n",
    "# créer la matrice de données\n",
    "X = data[data.columns[:-1]].values\n",
    "\n",
    "# créer le vecteur d'étiquettes\n",
    "y = data['quality'].values\n",
    "\n",
    "# créer un jeu d'entrainement et un jeu de test (30% des données)\n",
    "from sklearn import model_selection\n",
    "X_train, X_test, y_train, y_test = model_selection.train_test_split(X, y, test_size=0.3)\n",
    "                                \n",
    "# standardiser les données\n",
    "from sklearn import preprocessing\n",
    "std_scale = preprocessing.StandardScaler().fit(X_train)\n",
    "X_train_std = std_scale.transform(X_train)\n",
    "X_test_std = std_scale.transform(X_test)                               "
   ]
  },
  {
   "cell_type": "markdown",
   "metadata": {},
   "source": [
    "### Entraînement sur kRR"
   ]
  },
  {
   "cell_type": "code",
   "execution_count": 35,
   "metadata": {},
   "outputs": [
    {
     "name": "stdout",
     "output_type": "stream",
     "text": [
      "RMSE: 0.72\n"
     ]
    }
   ],
   "source": [
    "from sklearn import kernel_ridge\n",
    "predicteur = kernel_ridge.KernelRidge(\n",
    "    alpha=1.0, # valeur par défaut \n",
    "    kernel='rbf', # noyau Gaussien\n",
    "    gamma=0.01)   # valeur de 1/(2 * sigma**2)\n",
    "                                     \n",
    "# entraîner le classifieur sur le jeu d'entrainement\n",
    "predicteur.fit(X_train_std, y_train)\n",
    "\n",
    "# prédire sur le jeu de test\n",
    "y_test_pred = predicteur.predict(X_test_std)\n",
    "\n",
    "# calculer la RMSE sur le jeu de test\n",
    "from sklearn import metrics\n",
    "rmse = np.sqrt(metrics.mean_squared_error(y_test, y_test_pred))\n",
    "print(\"RMSE: {:.2f}\".format(rmse))\n"
   ]
  },
  {
   "cell_type": "markdown",
   "metadata": {},
   "source": [
    "### Visualisation des prédictions\n",
    "\n",
    "Actualisation de l'approche avec points de taille liée à l'effectif cf. [Cours éval perfs | Comparez votre algorithme à des approches de régression naïves](https://openclassrooms.com/fr/courses/4297211-evaluez-les-performances-dun-modele-de-machine-learning/4308281-comparez-votre-algorithme-a-des-approches-de-regression-naives)"
   ]
  },
  {
   "cell_type": "code",
   "execution_count": 36,
   "metadata": {},
   "outputs": [
    {
     "data": {
      "text/plain": [
       "<matplotlib.legend.Legend at 0x1be6428c310>"
      ]
     },
     "execution_count": 36,
     "metadata": {},
     "output_type": "execute_result"
    },
    {
     "data": {
      "image/png": "[encoded data removed]",
      "text/plain": [
       "<Figure size 432x432 with 1 Axes>"
      ]
     },
     "metadata": {
      "needs_background": "light"
     },
     "output_type": "display_data"
    }
   ],
   "source": [
    "# créer une figure\n",
    "fig = plt.figure(figsize=(6, 6))\n",
    "\n",
    "# Compter, pour chaque paire de valeurs (y, y') où y est un vrai score et y' le score prédit,\n",
    "# le nombre de ces paires.\n",
    "# Ce nombre sera utilisé pour modifier la taille des marqueurs correspondants \n",
    "# dans un nuage de points\n",
    "sizes = {}\n",
    "for (yt, yp) in zip(list(y_test), list(y_test_pred)):\n",
    "    if (yt, yp) in sizes.keys():\n",
    "        sizes[(yt, yp)] += 1\n",
    "    else:\n",
    "        sizes[(yt, yp)] = 1        \n",
    "keys = sizes.keys()\n",
    "\n",
    "# afficher les prédictions\n",
    "plt.scatter([k[0] for k in keys], \n",
    "            [k[1] for k in keys], \n",
    "             s=[sizes[k] for k in keys], \n",
    "            label=\"gamma = 0.01: RMSE = {:.2f}\".format(rmse))\n",
    "\n",
    "# étiqueter les axes et le graphique\n",
    "plt.xlabel('Vrai score', fontsize=16)\n",
    "plt.ylabel(u'Score prédit', fontsize=16)\n",
    "plt.title('kernel Ridge Regression', fontsize=16)\n",
    "\n",
    "# limites des axes\n",
    "plt.xlim([2.9, 9.1])\n",
    "plt.ylim([2.9, 9.1])\n",
    "\n",
    "# afficher la légende\n",
    "plt.legend(loc=\"lower right\", fontsize=12)"
   ]
  },
  {
   "cell_type": "markdown",
   "metadata": {},
   "source": [
    "Cf. SVM à noyau, le paramètre gamma du noyau RBF gaussien est essentiel. Trop élevé, il entraîne que la matrice de Gram est dominée par sa diagonale et la kRR ne peut alors plus apprendre.\n",
    "\n",
    "<mark>Exercice : reproduire le graphique juxtaposé du cours, après avoir mis les bouts de code en fonctions.</mark>"
   ]
  },
  {
   "cell_type": "markdown",
   "metadata": {},
   "source": [
    "### Recherche en grille des mailleurs paramètres"
   ]
  },
  {
   "cell_type": "code",
   "execution_count": 38,
   "metadata": {},
   "outputs": [],
   "source": [
    "# valeurs du paramètre C\n",
    "alpha_range = np.logspace(-2, 2, 5)\n",
    "\n",
    "# valeurs du paramètre gamma\n",
    "gamma_range = np.logspace(-2, 1, 4)\n",
    "\n",
    "# grille de paramètres\n",
    "param_grid = {'alpha': alpha_range, 'gamma': gamma_range}\n",
    "\n",
    "# score pour sélectionner le modèle optimal\n",
    "score = 'neg_mean_squared_error'\n",
    "\n",
    "# initialiser la validation croisée\n",
    "grid_pred = model_selection.GridSearchCV(\n",
    "        kernel_ridge.KernelRidge(kernel='rbf'),\n",
    "        param_grid,\n",
    "        cv=5,\n",
    "        scoring=score)\n",
    "                                    \n",
    "# exécuter la validation croisée sur le jeu d'entraînement\n",
    "grid_pred.fit(X_train_std, y_train)\n",
    "\n",
    "# prédire sur le jeu de test avec le modèle sélectionné \n",
    "y_test_pred_cv = grid_pred.predict(X_test_std)\n",
    "\n",
    "# calculer la RMSE correspondante\n",
    "rmse_cv = np.sqrt(metrics.mean_squared_error(y_test, y_test_pred_cv))\n"
   ]
  },
  {
   "cell_type": "markdown",
   "metadata": {},
   "source": [
    "<mark>Idem.</mark>"
   ]
  },
  {
   "cell_type": "markdown",
   "metadata": {},
   "source": [
    "# 2.1 Entraînez un réseau de neurones simple\n",
    "\n",
    "## Résumé de la vidéo\n",
    "\n",
    "<mark>Compléter</mark>\n",
    "\n",
    "## 'Résumé' de cours (le cours est un résumé)\n",
    "\n",
    "Domaine du ML à la mode : reconnaissance, AlhaGo : deep learning.\n",
    "\n",
    "Volonté de formalisation du fonctionnement biologique du cerveau, dès les années 50 : Franck Rosenblatt, etc\n",
    "\n",
    "Algorithmes **paramétriques** i.e. dont la fonction de prédiction est expicite.\n",
    "\n",
    "Permettent d'adresser des problèmes complexes et non linéaires.\n",
    "\n",
    "### Perceptron\n",
    "\n",
    "Réseau de neurones monocouche conçu par Rosenblatt :\n",
    "* $p$ neurones d'entrée, chacun associé à une variable $x_i, i=1, \\cdots, p$, associés à des poids de connexion $w_i$.\n",
    "* un neurone d'entrée dit de *biais* associé à l'unité ($x_0 = 1$) toujours activée, qui retourne toujours 1 ($w_0 = 1$).\n",
    "* un neurone de sortie\n",
    "\n",
    "Chaque neurone reçoit une valeur d'entrée et produit une valeur de sortie :\n",
    "* chacun des neurones d'entrée produit une réponse $w_i x_i, i=0, \\cdots, p$. Les $w_i$ sont les poids de connexion.\n",
    "* le neurone de sortie reçoit la somme pondérée $w_0 + \\sum_{j=1}^p w_j x_j$ à laquelle il applique une **fonction d'activation** $a$ pour produire sa sortie.\n",
    "\n",
    "La fonction de prédiction du perceptron est alors :\n",
    "\n",
    "$$\n",
    "f(x) = a\\left( \\sum_{j=1}^p w_j x_j + w_0 \\right)\n",
    "$$\n",
    "\n",
    "On choisit la fonction d'activation $a$ suivant la nature du problème à résoudre :\n",
    "* régression ⇒ identité.\n",
    "* classification binaire ⇒ fonction $s$ de seuil :\n",
    "\n",
    "![](view-source:https://user.oc-static.com/upload/2017/10/25/150891579861_Capture%20d%E2%80%99e%CC%81cran%202017-10-25%20a%CC%80%2009.15.38.png)\n",
    "\n",
    "Cf. la régression logistique, on peut aussi utiliser une fonction sigmoïde $\\sigma$ qui retourne une probabilité :\n",
    "\n",
    "$$\n",
    "\\sigma (w_0 + \\sum_{j=1}^p w_j x_j) = \\frac{1}{1 + \\exp^{-(w_0 + \\sum_{j=1}^p w_j x_j)}}\n",
    "$$\n",
    "\n",
    "### Classification multi-classe\n",
    "\n",
    "Pour une sortie qui disrimine entre $K$ classes, on modifie l'architecture de telle sorte que la sortie soit constituée de $K$ neurones, chacun connecté aux $p + 1$ entrées. Le paramétrage du modèle dépend alors de $K \\times (p + 1)$ poids.\n",
    "\n",
    "Pour définir les sorties, on utilise la fonction **softmax** $\\sigma(u) = \\frac{e^u}{1 + e^u}$ qui est une généralisation de la sigmoïde : $\\sigma_k(u_k) = \\frac{e^{u_k}}{\\sum_{l=1}^K e^{u_l}}$.\n",
    "\n",
    "Deux propriétés utiles pour la suite :\n",
    "* la classe dominante $k$ aura un $\\sigma_k(u_k)$ proche de 1, tandisque les autres classes auront un $\\sigma_l(u_l)$ proche de 0.\n",
    "* cette fonction est une version différentiable du *maximum*.\n",
    "\n",
    "### Apprentissage\n",
    "\n",
    "Pour entraîner le perceptron, il faut ajuster les poids de connexion de sorte à minimiser l'erreur de prédiction.\n",
    "\n",
    "Mais contrairement aux méthodes vues précédemment, on considère qu'un réseau de neurone s'adapte constamment à son entrée, et qu'il effectue ses observations séquentiellement. On parle alors d'algorithme **incrémental** ou **en ligne** (*online learning*) par opposition aux algorithmes précédents dits **hors ligne** (*batch learning).\n",
    "\n",
    "Une solution mixte : séquence de paquets d'observations (*mini-batch learning*).\n",
    "\n",
    "L'apprentissage est donc itératif : chaque nouvelle observation (ou paquet d'observation) conduit à ajuster les poids de connexion pour réduire l'erreur de prédiction cf. l'état actuel.\n",
    "\n",
    "Utilisation de l'[algorithme du gradient](https://fr.wikipedia.org/wiki/Algorithme_du_gradient).\n",
    "\n",
    "Le gradient donne la direction de la plus grande variation de la fonction d'erreur : il s'agit donc de se déplacer dans la direction opposée pour se rapprocher du minimum local.\n",
    "\n",
    "Initialisation : choix aléatoire de $w_0^{(0)}, w_1^{(0)}, \\dots, w_p^{(0)}$\n",
    "\n",
    "Puis, pour chaque observation $(x^{(i)}, y^{(i)})$, on effectue la maj. :\n",
    "\n",
    "$$\n",
    "w_j^{(t+1)} \\leftarrow w_j^{(t)} - \\eta \\frac{\\partial \\text{Erreur}(f(x^{(i)}), y^{(i)})}{\\partial w_j}\n",
    "$$\n",
    "\n",
    "On réitère sur l'ensemble du jeu d'observations jusqu'à obtenir un gradient suffisamment proche de 0 (convergence), ou suivant un nombre fixé d'itérations.\n",
    "\n",
    "L'hyperparamètre $\\eta$ est appelé **vitesse d'apprentissage** :\n",
    "* Trop grand, en un pas, on risque de dépasser le point optimal, et donc de ne jamais converger.\n",
    "* Trop petit, la convergence est trop lente\n",
    "* ⇒ certaines variations de l'algorithme modulent cette vitesse pour qu'elle soit grande loin du point optimal, et faible à son approche.\n",
    "\n",
    "On définit une fonction d'erreur adaptée à chaque cas : belle propriété, elles conduisent à la même expression par application du gradient :\n",
    "\n",
    "Pour la **régression**, erreur quadratique : $\\text{Erreur}(f(x^{(i)}), y^{(i)}) = \\frac{1}{2} (y^{(i)} - f(x^{(i)}))^2 = \\frac{1}{2} (y^{(i)} - \\sum_{j=1}^p w_j x^{(i)}_p)^2$\n",
    "\n",
    "Et donc : $w_j^{(t+1)} \\leftarrow w_j^{(t)} - \\eta \\left( y^{(i)} - f(x^{(i)}) \\right) x_j^{(i)}$\n",
    "\n",
    "Pour la **classification**, erreur entropique croisée : $\\text{Erreur}(f(x^{(i)}), y^{(i)}) = - y^{(i)} \\log f(x^{(i)}) - (1 - y^{(i)}) \\log(1 - f(x^{(i)}))$\n",
    "\n",
    "![](https://user.oc-static.com/upload/2017/10/21/15085715539881_P2C1-5.png)\n",
    "\n",
    "Et donc : $w_j^{(t+1)} \\leftarrow w_j^{(t)} - \\eta \\left( y^{(i)} - f(x^{(i)}) \\right) x_j^{(i)}$\n",
    "\n",
    "Version multi-classe : $\\text{Erreur}(f(x^{(i)}), y^{(i)}) = - \\sum_{k=1}^K y_k^{(i)} \\log f_k(x^{(i)})$\n",
    "\n",
    "Et donc : $w_j^{k (t+1)} \\leftarrow w_j^{k (t)} - \\eta ( y^{(i)} - f_k(x^{(i)})) x_j^{(i)}$\n",
    "\n",
    "\n",
    "Suite du cours : passer du modèle linéaire du perceptron, au modèle non linéaire de l'empilement de perceptrons.\n"
   ]
  },
  {
   "cell_type": "markdown",
   "metadata": {},
   "source": [
    "# 2.2 Empilez les perceptrons\n",
    "\n",
    "## Résumé de la vidéo\n",
    "\n",
    "<mark>Compléter</mark>\n",
    "\n",
    "Perceptron à capacité limitée. Mais leur empilement permet de construire des modèles plus complexes.\n",
    "\n",
    "Connus depuis les années 80, mais devenu acessibles à la computation ces dernières années.\n",
    "\n",
    "Le principe est simple : composition de couches => évidemment non linéaire (si l'activation n'est pas l'identité)\n",
    "\n",
    "Apprentissage : toujours avec la descente de gradient.\n",
    "\n",
    "Descente décomposable par étapes : astuce de la rétropropagation dE / dw_hj = dE/df x df / dz_h x dz_h / dw_hj\n",
    "\n",
    "Mais pbs :\n",
    "* si un terme proche de 0 : le poids ne sont plus mise à jour\n",
    "* si un terme est dominant : les poids diverges\n",
    "* pb s de conditionnements\n",
    "* minimums locaux\n",
    "\n",
    "## 'Résumé' de cours (le cours est un résumé)\n",
    "\n",
    "### Histoire\n",
    "\n",
    "Années 70, ouvrage de Seymour Papert et Marvin Minsky : capacités de modélisation limitées du perceptron => désenchantement de la première fièvre de l'IA.\n",
    "\n",
    "### Architecture du perceptron mulicouhe (**MPL** - *multilayer perceptron*)\n",
    "\n",
    "Architecture multicouches, avec **couches intermédiaires** ou **couches cachées** (*hidden layers*).\n",
    "\n",
    "Chaque neurones d'une couche $k$ est connecté à chacun des neurones de la couche $k + 1$.\n",
    "\n",
    "Avec un MPL à une seule couche intermédiaire, soit $z_h$ la $h$-ième sortie de la couche intermédiaire :\n",
    "\n",
    "$$\n",
    "z_h = a_h\\left( \\sum_{j=1}^p w_{hj} x_j\\right)\n",
    "$$\n",
    "\n",
    "Et la sortie du MLP est alors :\n",
    "\n",
    "$$\n",
    "f(x) = a\\left(\\sum_{h=1}^H v_{h} z_h\\right) = a \\left( \\sum_{h=1}^H v_{h} a_h \\left( \\sum_{j=1}^p w_{hj} x_j\\right)\\right)\n",
    "$$\n",
    "\n",
    "Si par exemple la fonction d'activation est pour tout neurone la fonction logistique $a = a_h = \\sigma: u \\mapsto \\frac{1}{1 + e^{-u}}$\n",
    "\n",
    "Alors : $f(x) = \\frac{1}{1 + \\exp ( - \\sum_{h=1}^H v_{h} \\frac{1}{1 + \\exp (- \\sum_{j=1}^p w_{hj} x_j )} )}$ qui n'est évidemment pas linéaire mais qui est bien paramétrique (la fonction de décision s'exprime en fonction des variables d'entrée).\n",
    "\n",
    "Ce modèle paramétrique a d'autant plus de paramètres (les poids de connexion) qu'il comporte de couches intermédiaires. Et plus les paramètres sont nombreux, plus il faut d'observations pour éviter le sur-apprentissage. En particulier, les réseaux de neurones profonds sont des ogres de données.\n",
    "\n",
    "Plutôt que la fonction logistique, pour des raisons d'optimisation (mais encore ?), on utilise souvent la [tangente hyperbolique](https://fr.wikipedia.org/wiki/Tangente_hyperbolique) qui mappe sur [-1, 1] plutôt que [0, 1] :\n",
    "\n",
    "$$\n",
    "{\\displaystyle {\\begin{matrix}\\tanh :&\\mathbb {C} \\setminus {\\rm {i}}\\pi \\left(\\mathbb {Z} +{\\dfrac {1}{2}}\\right)&\\longrightarrow &\\mathbb {C} \\\\&z&\\longmapsto &{\\dfrac {\\sinh(z)}{\\cosh(z)}}\\end{matrix}}}\n",
    "$$\n",
    "\n",
    "$$\n",
    "\\tanh(z)={\\frac {{{\\rm {e}}}^{z}-{{\\rm {e}}}^{{-z}}}{{{\\rm {e}}}^{z}+{{\\rm {e}}}^{{-z}}}}={\\frac {{{\\rm {e}}}^{{2z}}-1}{{{\\rm {e}}}^{{2z}}+1}}={\\frac {1-{{\\rm {e}}}^{{-2z}}}{1+{{\\rm {e}}}^{{-2z}}}}\n",
    "$$.\n",
    "\n",
    "L'architecture peut comporter des connexion arrières (feedbacks). Quand ce n'est pas le cas, on parle d'architecture **feed-forward**.\n",
    "\n",
    "### Théorème d'approximation universelle\n",
    "\n",
    "Cybenko 89 et Hornik 91 : *toute fonction $f$ continue définie sur $\\mathcal{R}^p$ peut être approximée, avec une précision arbitraire, par un réseau de neurones formé d'une seule couche intermédiaire (à condition d'utiliser un nombre suffisant de neurones dans cette couche).*\n",
    "\n",
    "En pratique : le nombre de neurones nécessaire dans cette couche intermédiaire est, dans beaucoup de cas, colossal, ce qui rend les réseaux de neurones à une seule couche cachée peu efficaces.\n",
    "\n",
    "La solution : empiler les couches cachées = réseau de neurones profond => deep learning.\n",
    "\n",
    "Interprétation du MLP : la sortie de chaque couche intermédiaire est une nouvelle représentation des données.\n",
    "\n",
    "La puissance des réseaux de neurones multi-couche vient donc de leur capacité à apprendre une « bonne » représentation, autrement dit une représentation telle que le modèle linéaire (perceptron) entre la dernière couche intermédiaire et la sortie puisse être performant.\n",
    "\n",
    "### Rétropropagation\n",
    "\n",
    "Décomposition et traitement à rebours de la correction des erreurs grâce au [théorème de dérivation des fonctions composées](https://www.wikiwand.com/fr/Th%C3%A9or%C3%A8me_de_d%C3%A9rivation_des_fonctions_compos%C3%A9es).\n",
    "\n",
    "$$\n",
    "\\frac{\\partial E}{\\partial w_{hj}} = \\frac{\\partial E}{\\partial f(x)} \\frac{\\partial f(x)}{\\partial z_{h}} \\frac{\\partial z_h} {\\partial w_{hj}}\n",
    "$$\n",
    "\n",
    "La dérivée de la fonction logistique est : $\\sigma'(u) = \\sigma(u)(1 - \\sigma(u))u'$ et donc :\n",
    "\n",
    "$$\n",
    "\\frac{\\partial f(x)}{\\partial z_{h}} = f(x) (1-f(x)) v_h\n",
    "$$\n",
    "\n",
    "$$\n",
    "\\frac{\\partial z_h} {\\partial w_{hj}} = z_h (1-z_h) x_j\n",
    "$$\n",
    "\n",
    "L'algorithme de rétropropagation fonctionne en deux temps :\n",
    "1. phase montante (**forward**) où les sorties des couches intermédiaires sont calculées.\n",
    "2. phase descendante (**backward**) où le gradient de l'erreur sur les poids d'une couche est calculé en fonction est calculé à partir à ceux d'une couche supérieure.\n",
    "\n",
    "### Les difficultés\n",
    "\n",
    "Réhabilitation des réseaux de neurones vers 2006 (Hinton) + puissance de calcul.\n",
    "\n",
    "Domaine de recherche très actif.\n",
    "\n",
    "#### Problèmes de conditionnement et minimum locaux\n",
    "\n",
    "Les MLP sont souvent mal conditionnés :\n",
    "* une petite variation des conditions initiales de l'algorithme entraîne de grandes variations de résultat.\n",
    "* Le gradient peut rester piégé dans un minimum local sans déterminer le minimum global\n",
    "\n",
    "Solutions :\n",
    "* méthodes spécifiques d'initialisation des poids de connexion\n",
    "* standardisation des variables\n",
    "* choix de la vitesse d'apprentissage\n",
    "* choix de la fonction d'activation\n",
    "* utilisation du mini-batch\n",
    "* utilisation d'une vitesse d'apprentissage adaptative\n",
    "\n",
    "#### Instabilité du gradient\n",
    "\n",
    "Lors de la descente des couches hautes vers les couches basses, le gradient peut avoir tendance à diminuer et entraîner un faible apprentissage des couches bases (**disparition du gradient** - *vanishing gradient*), ou inversement à augmenter (**explosion du gradient** - *exploding gradient*).\n",
    "\n",
    "Dans les deux cas, le gradient est instable.\n",
    "\n",
    "#### Saturation\n",
    "\n",
    "Le phénomène apparaît lorsque la plupart des neurones à activation logistique ou tangente hyperboliques renvoient leur bornes (0, 1 ou -1, 1 suivant le cas), i.e. la somme poindérée en VA est trop importante, i.e. les poids de connexion sont trop importants. Dans ce cas, une variation mineure de l'entrée n'affecte plus la sortie et le réseau ne peut plus apprendre. Un réseau saturé est généralement le signe d'un surapprentissage.\n",
    "\n",
    "La parade : l'introduction d'une pénalisation $\\ell_2$ comme pour la régression ridge de manière à contraindre les poids de connexion. Cette méthode s'appelle la **dégradation des pondérations** (*weight decay*).\n",
    "\n",
    "L'erreur se reformule en : $\\text{Erreur}(y, f(x)) + \\frac{\\lambda}{2} \\sum_j w_j^2$\n"
   ]
  },
  {
   "cell_type": "markdown",
   "metadata": {},
   "source": [
    "## TP d'application avec Keras et TensorFlow"
   ]
  }
 ],
 "metadata": {
  "kernelspec": {
   "display_name": "Python 3.9.12 ('base')",
   "language": "python",
   "name": "python3"
  },
  "language_info": {
   "codemirror_mode": {
    "name": "ipython",
    "version": 3
   },
   "file_extension": ".py",
   "mimetype": "text/x-python",
   "name": "python",
   "nbconvert_exporter": "python",
   "pygments_lexer": "ipython3",
   "version": "3.9.12"
  },
  "orig_nbformat": 4,
  "vscode": {
   "interpreter": {
    "hash": "e03b612d84ba21ce95ed447e81b3062e1eb99b56c6d885cdab4aaa12f1b8e240"
   }
  }
 },
 "nbformat": 4,
 "nbformat_minor": 2
}

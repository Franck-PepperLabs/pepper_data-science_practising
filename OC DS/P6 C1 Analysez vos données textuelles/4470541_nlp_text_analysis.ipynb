{
 "cells": [
  {
   "attachments": {},
   "cell_type": "markdown",
   "metadata": {},
   "source": [
    "# [**Analysez vos données textuelles**](https://openclassrooms.com/fr/courses/4470541-analysez-vos-donnees-textuelles)\n",
    "\n",
    "* **ID** : 4470541\n",
    "* **Grade** : OC DS P6\n",
    "* **Durée** : 8 heures\n",
    "* **Difficulté** : Moyenne\n",
    "* **Séquence** : 3 + 4 + 4"
   ]
  },
  {
   "attachments": {},
   "cell_type": "markdown",
   "metadata": {},
   "source": [
    "# Introduction"
   ]
  },
  {
   "attachments": {},
   "cell_type": "markdown",
   "metadata": {},
   "source": [
    "Bienvenue dans ce cours de traitement du langage naturel. L’objectif de ce cours est de comprendre les méthodes qui permettent de **transformer le texte** en caractéristiques exploitables par des algorithmes de machine learning, et les architectures et modèles qui correspondent le mieux à ce type de données. En l’occurence un ensemble de documents texte **non-structurés**.\n",
    "\n",
    "Ce cours est divisé en 3 parties : une première qui traite de l'exploration, du **nettoyage et de la normalisation du texte**. Une seconde partie dédiée aux **différents types de transformations** qui vont vous permettre de mieux comprendre vos données textuelles et de **créer des caractéristiques** que vous pourrez utiliser dans vos algorithmes de machine learning. La dernière partie sera consacrée à la **classification du texte** à l'aide de l'apprentissage automatique sous forme de **réseau de neurones**."
   ]
  },
  {
   "attachments": {},
   "cell_type": "markdown",
   "metadata": {},
   "source": [
    "## Objectifs pédagogiques\n",
    "\n",
    "* Effectuer un pré-traitement de corpus de texte\n",
    "* Maîtriser les techniques de bag-of-words et de plongements de mots (word embeddings)\n",
    "* Modéliser des sujets de manière non-supervisée (LDA, etc.)\n",
    "* Classer des corpus de texte avec des méthodes supervisées (réseaux de neurones)"
   ]
  },
  {
   "attachments": {},
   "cell_type": "markdown",
   "metadata": {},
   "source": [
    "## Prérequis\n",
    "\n",
    "Ce cours se situe au croisement des mathématiques et de l'informatique. Pour en profiter pleinement, n'hésitez pas à vous rafraîchir la mémoire, avant ou pendant le cours, sur :\n",
    "\n",
    "* [**Python pour le calcul numérique (numpy) et la création de graphiques (pyplot)**](https://openclassrooms.com/fr/courses/7771531-decouvrez-les-librairies-python-pour-la-data-science?archived-source=4452741), que nous utiliserons dans les parties TP du cours,\n",
    "* Quelques notions d'**algèbre linéaire** : manipulation de vecteurs, multiplications de matrices, normes, et valeurs/vecteurs propres,\n",
    "* Quelques notions de **probabilités** et de **statistiques**, telles que distribution de loi de probabilité et variance,\n",
    "* Les [**modèles non-supervisées**](https://openclassrooms.com/fr/courses/4379436-explorez-vos-donnees-avec-des-algorithmes-non-supervises) permettront de modéliser des caractéristiques automatiquement à partir du texte\n",
    "* Les [**modèles supervisées non-linéaires**](https://openclassrooms.com/fr/courses/4470406-utilisez-des-modeles-supervises-non-lineaires) sont indispensables au traitement du texte, notamment les réseaux de neurones séquentiels"
   ]
  },
  {
   "attachments": {},
   "cell_type": "markdown",
   "metadata": {},
   "source": [
    "#  Récupérez et explorez le corpus de textes"
   ]
  },
  {
   "attachments": {},
   "cell_type": "markdown",
   "metadata": {},
   "source": [
    "La première étape du traitement des données est de récupérer le corpus de textes, de faire une analyse exploratoire afin de bien comprendre les spécificités du jeu de données, et de nettoyer les données afin de pouvoir les utiliser ultérieurement dans vos algorithmes.\n",
    "\n",
    "Mais avant de nous plonger dans le vif du sujet, introduisons quelques notions."
   ]
  },
  {
   "attachments": {},
   "cell_type": "markdown",
   "metadata": {},
   "source": [
    "Il est important de bien identifier 4 termes incontournables : \n",
    "\n",
    "* le **corpus** : un ensemble de documents (des textes dans notre cas), regroupés dans une optique ou dans une thématique précise. \n",
    "* un **document** : la notion de document fait référence à un texte appartenant au corpus, mais indépendant des autres textes. Il peut être constitué d'une ou plusieurs phrases, un ou plusieurs paragraphes.\n",
    "* un **jeton (token)** : le terme token désigne généralement un mot et/ou un élément de ponctuation. La phrase \"Hello World!\" comprend donc 3 tokens. \n",
    "* le **vocabulaire** : il s'agit de l'ensemble des tokens distincts présents dans l'ensemble du corpus."
   ]
  },
  {
   "attachments": {},
   "cell_type": "markdown",
   "metadata": {},
   "source": [
    "Si la notion de token ou de vocabulaire est relativement invariante en fonction des jeux de données, le corpus et les documents peuvent avoir des formes très variées :\n",
    "\n",
    "un fichier excel ou csv avec une liste de produits. Ici, la colonne 'description' est notre corpus, chaque cellule  de la colonne 'description' constitue un document:\n",
    "\n",
    "<figure id=\"r-7906592\" data-claire-element-id=\"33104169\"><img id=\"r-7906590\" data-claire-element-id=\"33104167\" src=\"https://user.oc-static.com/upload/2022/06/27/16563236580116_example_csv.jpg\" alt=\"chaque ligne de la colonne description est un document\" /><figcaption>un fichier csv</figcaption></figure>\n",
    "\n",
    "un dossier avec différents fichiers. Chaque fichier est un document et l'ensemble des fichiers constitue le corpus : \n",
    "\n",
    "<figure id=\"r-7906596\" data-claire-element-id=\"33104174\"><img id=\"r-7906594\" data-claire-element-id=\"33104172\" src=\"https://user.oc-static.com/upload/2022/06/27/16563235098743_contrats.jpg\" alt=\"chaque fichier est un document\" /><figcaption>une liste de fichiers dans un dossier</figcaption></figure>\n",
    "\n",
    "plusieurs pages web, au format html. Il faudra d'abord télécharger depuis le web les fichiers html, à la main ou de façon automatisée (on parle alors de 'scraping') :\n",
    "\n",
    "<figure id=\"r-7906601\" data-claire-element-id=\"33104179\"><img id=\"r-7906599\" data-claire-element-id=\"33104177\" src=\"https://user.oc-static.com/upload/2022/06/27/16563245092815_wiki.jpg\" alt=\"on utilisera les données du fichier html\" /><figcaption>exemple de page wikipedia</figcaption></figure>\n",
    "\n",
    "Dans le cadre d'un fichier html, il faudra transformer le document afin d'extraire l'information textuelle. Nous verrons cela un plus tard dans le cours."
   ]
  },
  {
   "cell_type": "markdown",
   "metadata": {},
   "source": []
  },
  {
   "cell_type": "markdown",
   "metadata": {},
   "source": []
  }
 ],
 "metadata": {
  "kernelspec": {
   "display_name": "base",
   "language": "python",
   "name": "python3"
  },
  "language_info": {
   "name": "python",
   "version": "3.9.12 (main, Apr  4 2022, 05:22:27) [MSC v.1916 64 bit (AMD64)]"
  },
  "orig_nbformat": 4,
  "vscode": {
   "interpreter": {
    "hash": "e03b612d84ba21ce95ed447e81b3062e1eb99b56c6d885cdab4aaa12f1b8e240"
   }
  }
 },
 "nbformat": 4,
 "nbformat_minor": 2
}

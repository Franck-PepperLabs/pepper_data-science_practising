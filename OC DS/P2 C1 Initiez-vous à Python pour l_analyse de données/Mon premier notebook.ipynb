{
 "cells": [
  {
   "cell_type": "code",
   "execution_count": 1,
   "id": "2acfcfc1",
   "metadata": {},
   "outputs": [
    {
     "name": "stdout",
     "output_type": "stream",
     "text": [
      "Hello world !\n"
     ]
    }
   ],
   "source": [
    "print('Hello world !')"
   ]
  },
  {
   "cell_type": "markdown",
   "id": "10658fab",
   "metadata": {},
   "source": [
    "$$e^x=\\sum_{i=0}^\\infty \\frac{1}{i!}x^i$$"
   ]
  },
  {
   "cell_type": "code",
   "execution_count": 8,
   "id": "384d4312",
   "metadata": {},
   "outputs": [
    {
     "data": {
      "text/plain": [
       "590"
      ]
     },
     "execution_count": 8,
     "metadata": {},
     "output_type": "execute_result"
    }
   ],
   "source": [
    "compteCourant = 500\n",
    "compteEpargne = 1000\n",
    "\n",
    "# ajouter 100 à notre épargne (Yeah!)\n",
    "compteEpargne = compteEpargne + 100\n",
    "\n",
    "# enlever 50 de notre compte courant (Snif)\n",
    "compteCourant = compteCourant - 50\n",
    "\n",
    "# calculer le nombre de jours à économiser pour atteindre 5000€\n",
    "nombreJoursEconomiser = (5000 - compteCourant) / 500\n",
    "\n",
    "# mettre à jour notre compte courant (encore) après les gains/pertes journaliers\n",
    "compteCourant = compteCourant + (30 - 10) * 7\n",
    "compteCourant"
   ]
  },
  {
   "cell_type": "code",
   "execution_count": 7,
   "id": "8427835b",
   "metadata": {},
   "outputs": [
    {
     "data": {
      "text/plain": [
       "2.5"
      ]
     },
     "execution_count": 7,
     "metadata": {},
     "output_type": "execute_result"
    }
   ],
   "source": [
    "a = 7.5\n",
    "b = 3\n",
    "c = a/b\n",
    "c\n",
    "# cela va afficher 2.5, ce qui est bien un float"
   ]
  },
  {
   "cell_type": "code",
   "execution_count": 9,
   "id": "282f11e6",
   "metadata": {},
   "outputs": [
    {
     "name": "stdout",
     "output_type": "stream",
     "text": [
      "J'ai déjà été à Sydney 5 fois\n"
     ]
    }
   ],
   "source": [
    "ville = \"Sydney\"\n",
    "nombreVoyages = 5\n",
    "histoire = \"J'ai déjà été à \" + ville + \" \" + str(nombreVoyages) + \" fois\"\n",
    "print(histoire) # => \"J'ai déjà été à Syndey 5 fois\""
   ]
  },
  {
   "cell_type": "code",
   "execution_count": 10,
   "id": "5ce0dbc8",
   "metadata": {},
   "outputs": [
    {
     "data": {
      "text/plain": [
       "120"
      ]
     },
     "execution_count": 10,
     "metadata": {},
     "output_type": "execute_result"
    }
   ],
   "source": [
    "def factorial(n):\n",
    "    if n == 0: return 1\n",
    "    else: return n * factorial(n - 1)\n",
    "\n",
    "factorial(5)"
   ]
  },
  {
   "cell_type": "code",
   "execution_count": 11,
   "id": "1d206d1b",
   "metadata": {},
   "outputs": [
    {
     "name": "stdout",
     "output_type": "stream",
     "text": [
      "Help on built-in function print in module builtins:\n",
      "\n",
      "print(...)\n",
      "    print(value, ..., sep=' ', end='\\n', file=sys.stdout, flush=False)\n",
      "    \n",
      "    Prints the values to a stream, or to sys.stdout by default.\n",
      "    Optional keyword arguments:\n",
      "    file:  a file-like object (stream); defaults to the current sys.stdout.\n",
      "    sep:   string inserted between values, default a space.\n",
      "    end:   string appended after the last value, default a newline.\n",
      "    flush: whether to forcibly flush the stream.\n",
      "\n"
     ]
    }
   ],
   "source": [
    "help(print)"
   ]
  },
  {
   "cell_type": "code",
   "execution_count": 16,
   "id": "492fa578",
   "metadata": {},
   "outputs": [
    {
     "data": {
      "text/plain": [
       "'Hello monde'"
      ]
     },
     "execution_count": 16,
     "metadata": {},
     "output_type": "execute_result"
    }
   ],
   "source": [
    "a = 'Hello world'\n",
    "a.lower()\n",
    "(a + ' ' + a).upper()\n",
    "a.capitalize()\n",
    "a.replace('world', 'monde')"
   ]
  },
  {
   "cell_type": "code",
   "execution_count": 20,
   "id": "047c9bf6",
   "metadata": {},
   "outputs": [
    {
     "name": "stdout",
     "output_type": "stream",
     "text": [
      "['truc', 1, 3.14, 2, 'machin']\n"
     ]
    }
   ],
   "source": [
    "tab = ['truc', 1, 3.14, 2, 'machin']\n",
    "print(tab)"
   ]
  },
  {
   "cell_type": "code",
   "execution_count": 21,
   "id": "7358f3a3",
   "metadata": {},
   "outputs": [
    {
     "data": {
      "text/plain": [
       "1"
      ]
     },
     "execution_count": 21,
     "metadata": {},
     "output_type": "execute_result"
    }
   ],
   "source": [
    "tab[1]"
   ]
  },
  {
   "cell_type": "code",
   "execution_count": 22,
   "id": "91207a8e",
   "metadata": {},
   "outputs": [
    {
     "data": {
      "text/plain": [
       "2"
      ]
     },
     "execution_count": 22,
     "metadata": {},
     "output_type": "execute_result"
    }
   ],
   "source": [
    "tab[-2]"
   ]
  },
  {
   "cell_type": "code",
   "execution_count": 23,
   "id": "289c8f29",
   "metadata": {},
   "outputs": [
    {
     "data": {
      "text/plain": [
       "[3.14, 2]"
      ]
     },
     "execution_count": 23,
     "metadata": {},
     "output_type": "execute_result"
    }
   ],
   "source": [
    "tab[2:-1]"
   ]
  },
  {
   "cell_type": "code",
   "execution_count": 24,
   "id": "6335f132",
   "metadata": {},
   "outputs": [
    {
     "data": {
      "text/plain": [
       "[3.14, 2, 'machin']"
      ]
     },
     "execution_count": 24,
     "metadata": {},
     "output_type": "execute_result"
    }
   ],
   "source": [
    "tab[2:]"
   ]
  },
  {
   "cell_type": "code",
   "execution_count": 25,
   "id": "ef9f8f36",
   "metadata": {},
   "outputs": [
    {
     "name": "stdout",
     "output_type": "stream",
     "text": [
      "T qui ?Franck\n"
     ]
    }
   ],
   "source": [
    "nom = input('T qui ?')"
   ]
  },
  {
   "cell_type": "code",
   "execution_count": 26,
   "id": "f3d9263f",
   "metadata": {},
   "outputs": [
    {
     "name": "stdout",
     "output_type": "stream",
     "text": [
      "Franck\n"
     ]
    }
   ],
   "source": [
    "print(nom)"
   ]
  },
  {
   "cell_type": "code",
   "execution_count": 27,
   "id": "7bf81ca0",
   "metadata": {},
   "outputs": [],
   "source": [
    "a = []"
   ]
  },
  {
   "cell_type": "code",
   "execution_count": 28,
   "id": "c4f46d3b",
   "metadata": {},
   "outputs": [
    {
     "ename": "IndexError",
     "evalue": "list assignment index out of range",
     "output_type": "error",
     "traceback": [
      "\u001b[1;31m---------------------------------------------------------------------------\u001b[0m",
      "\u001b[1;31mIndexError\u001b[0m                                Traceback (most recent call last)",
      "Input \u001b[1;32mIn [28]\u001b[0m, in \u001b[0;36m<cell line: 1>\u001b[1;34m()\u001b[0m\n\u001b[1;32m----> 1\u001b[0m a[\u001b[38;5;241m0\u001b[39m] \u001b[38;5;241m=\u001b[39m \u001b[38;5;241m2\u001b[39m\n",
      "\u001b[1;31mIndexError\u001b[0m: list assignment index out of range"
     ]
    }
   ],
   "source": [
    "a[0] = 2"
   ]
  },
  {
   "cell_type": "code",
   "execution_count": 29,
   "id": "9338c629",
   "metadata": {},
   "outputs": [
    {
     "data": {
      "text/plain": [
       "True"
      ]
     },
     "execution_count": 29,
     "metadata": {},
     "output_type": "execute_result"
    }
   ],
   "source": [
    "'b' in {'a' : 1, 'b':2}"
   ]
  },
  {
   "cell_type": "code",
   "execution_count": 30,
   "id": "309d94b4",
   "metadata": {},
   "outputs": [
    {
     "ename": "ModuleNotFoundError",
     "evalue": "No module named 'geometry'",
     "output_type": "error",
     "traceback": [
      "\u001b[1;31m---------------------------------------------------------------------------\u001b[0m",
      "\u001b[1;31mModuleNotFoundError\u001b[0m                       Traceback (most recent call last)",
      "Input \u001b[1;32mIn [30]\u001b[0m, in \u001b[0;36m<cell line: 1>\u001b[1;34m()\u001b[0m\n\u001b[1;32m----> 1\u001b[0m \u001b[38;5;28;01mimport\u001b[39;00m \u001b[38;5;21;01mgeometry\u001b[39;00m \u001b[38;5;28;01mas\u001b[39;00m \u001b[38;5;21;01mg\u001b[39;00m\n",
      "\u001b[1;31mModuleNotFoundError\u001b[0m: No module named 'geometry'"
     ]
    }
   ],
   "source": [
    "import geometry as g"
   ]
  },
  {
   "cell_type": "code",
   "execution_count": 31,
   "id": "aebc84cb",
   "metadata": {},
   "outputs": [
    {
     "name": "stdout",
     "output_type": "stream",
     "text": [
      "0.45681101950510894\n",
      "0.3279983924842419\n",
      "0.3899976530490461\n"
     ]
    }
   ],
   "source": [
    "import random as r\n",
    "for i in range(3) : print(r.random())"
   ]
  },
  {
   "cell_type": "code",
   "execution_count": 32,
   "id": "e0dd80a8",
   "metadata": {},
   "outputs": [
    {
     "name": "stdout",
     "output_type": "stream",
     "text": [
      "4.140887555710173\n",
      "3.566558954830584\n",
      "3.342084601703452\n"
     ]
    }
   ],
   "source": [
    "for i in range(3) : print(r.uniform(3.14, 5.12))"
   ]
  },
  {
   "cell_type": "code",
   "execution_count": 33,
   "id": "dd5dbf1b",
   "metadata": {},
   "outputs": [
    {
     "name": "stdout",
     "output_type": "stream",
     "text": [
      "14\n",
      "12\n",
      "12\n"
     ]
    }
   ],
   "source": [
    "for i in range(3) : print(r.randint(11,17))"
   ]
  },
  {
   "cell_type": "code",
   "execution_count": 36,
   "id": "6be99948",
   "metadata": {},
   "outputs": [
    {
     "name": "stdout",
     "output_type": "stream",
     "text": [
      "120.15381484912136\n",
      "208.55820568237985\n",
      "139.3946077352454\n"
     ]
    }
   ],
   "source": [
    "for i in range(3) : print(r.gauss(50,100))"
   ]
  },
  {
   "cell_type": "code",
   "execution_count": 45,
   "id": "aee8fce0",
   "metadata": {},
   "outputs": [
    {
     "name": "stdout",
     "output_type": "stream",
     "text": [
      "[3, 4, 5]\n"
     ]
    }
   ],
   "source": [
    "l = [1, 2, 3, 4, 5]\n",
    "print(r.sample(l, 3))"
   ]
  },
  {
   "cell_type": "code",
   "execution_count": 47,
   "id": "a21a1e9e",
   "metadata": {},
   "outputs": [
    {
     "name": "stdout",
     "output_type": "stream",
     "text": [
      "1.309131056496703\n",
      "1.25464898207168\n",
      "1.6993646767874289\n"
     ]
    }
   ],
   "source": [
    "for i in range(3) : print(r.uniform(1, 2))"
   ]
  },
  {
   "cell_type": "code",
   "execution_count": 78,
   "id": "6d632ff5",
   "metadata": {},
   "outputs": [
    {
     "name": "stdout",
     "output_type": "stream",
     "text": [
      "capital :  6748 €\n"
     ]
    }
   ],
   "source": [
    "def play(capital, proba) :\n",
    "    if r.random() < proba : return 'P', capital + 1\n",
    "    else : return 'F', capital - 1\n",
    "\n",
    "# Jeu A\n",
    "\"\"\"\n",
    "capital = 1000\n",
    "for i in range(10000) :\n",
    "    face, capital = play(capital, 0.49)\n",
    "    print(i, '\\t', face, '\\t', capital, '€')\n",
    "\"\"\"\n",
    "    \n",
    "# Jeu B\n",
    "\"\"\"\n",
    "capital = 1000\n",
    "for i in range(10000) :\n",
    "    if capital % 3 == 0 : face, capital = play(capital, 0.09)\n",
    "    else : face, capital = play(capital, 0.74)\n",
    "    print(i, '\\t', face, '\\t', capital, '€')\n",
    "\"\"\"\n",
    "capital = 1000\n",
    "for i in range(1000000) :\n",
    "    if r.randint(0, 1) == 0 :\n",
    "        face, capital = play(capital, 0.49)\n",
    "        #print(i, '\\tA\\t', face, '\\t', capital, '€')\n",
    "    else :\n",
    "        if capital % 3 == 0 : face, capital = play(capital, 0.09)\n",
    "        else : face, capital = play(capital, 0.74)\n",
    "        #print(i, '\\tB\\t', face, '\\t', capital, '€')\n",
    "print('capital : ', capital, '€')\n"
   ]
  },
  {
   "cell_type": "code",
   "execution_count": null,
   "id": "039efa8f",
   "metadata": {},
   "outputs": [],
   "source": []
  },
  {
   "cell_type": "code",
   "execution_count": null,
   "id": "283e5735",
   "metadata": {},
   "outputs": [],
   "source": []
  }
 ],
 "metadata": {
  "kernelspec": {
   "display_name": "Python 3 (ipykernel)",
   "language": "python",
   "name": "python3"
  },
  "language_info": {
   "codemirror_mode": {
    "name": "ipython",
    "version": 3
   },
   "file_extension": ".py",
   "mimetype": "text/x-python",
   "name": "python",
   "nbconvert_exporter": "python",
   "pygments_lexer": "ipython3",
   "version": "3.9.12"
  }
 },
 "nbformat": 4,
 "nbformat_minor": 5
}

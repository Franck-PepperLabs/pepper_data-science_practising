{
 "cells": [
  {
   "cell_type": "markdown",
   "metadata": {},
   "source": [
    "# Objet\n",
    "\n",
    "Répétition du cours N° 13 - [PYTHON NUMPY BROADCASTING (13/30)](https://www.youtube.com/watch?v=lIESSFHGalA&list=PLO_fdPEVlfKqMDNmCFzQISI2H_nJcEDJq&index=14)"
   ]
  },
  {
   "cell_type": "code",
   "execution_count": null,
   "metadata": {},
   "outputs": [
    {
     "name": "stdout",
     "output_type": "stream",
     "text": [
      "[project_dir]\\data\\ exists\n",
      "[project_dir]\\data\\csv\\ exists\n"
     ]
    }
   ],
   "source": [
    "import os\n",
    "from ml_jpy_commons import *"
   ]
  },
  {
   "cell_type": "markdown",
   "metadata": {
    "id": "HgcgEwvCoJpc"
   },
   "source": [
    "## Suite ici, mais le début fait en pur Python avec PyCharm"
   ]
  },
  {
   "cell_type": "markdown",
   "metadata": {
    "id": "6k--YI1josoa"
   },
   "source": [
    "[PYTHON NUMPY BROADCASTING (13/30)](https://www.youtube.com/watch?v=lIESSFHGalA&list=PLO_fdPEVlfKqMDNmCFzQISI2H_nJcEDJq&index=14)\n",
    "\n",
    "Broadcasting : extension implicite des dimensions."
   ]
  },
  {
   "cell_type": "code",
   "execution_count": null,
   "metadata": {
    "id": "6a8u_g4voNtA"
   },
   "outputs": [],
   "source": [
    "import numpy as np\n",
    "\n",
    "a = np.random.randint(0, 10, [2, 3])\n",
    "b = np.ones((2, 3))"
   ]
  },
  {
   "cell_type": "code",
   "execution_count": null,
   "metadata": {
    "colab": {
     "base_uri": "https://localhost:8080/"
    },
    "id": "t8HyBjaypQHx",
    "outputId": "7a977d23-49f1-42f2-a76f-abe91168c8dc"
   },
   "outputs": [
    {
     "data": {
      "text/plain": [
       "array([[1, 5, 0],\n",
       "       [7, 5, 5]])"
      ]
     },
     "metadata": {},
     "output_type": "display_data"
    }
   ],
   "source": [
    "a"
   ]
  },
  {
   "cell_type": "code",
   "execution_count": null,
   "metadata": {
    "colab": {
     "base_uri": "https://localhost:8080/"
    },
    "id": "g7-XEvvopQ4i",
    "outputId": "c7a374de-8e8f-4b61-8700-eac75b2ddb0b"
   },
   "outputs": [
    {
     "data": {
      "text/plain": [
       "array([[1., 1., 1.],\n",
       "       [1., 1., 1.]])"
      ]
     },
     "metadata": {},
     "output_type": "display_data"
    }
   ],
   "source": [
    "b"
   ]
  },
  {
   "cell_type": "code",
   "execution_count": null,
   "metadata": {
    "colab": {
     "base_uri": "https://localhost:8080/"
    },
    "id": "I2P9rvK_pRiz",
    "outputId": "eaf0892b-2c8a-487f-b142-675b75b1a5a9"
   },
   "outputs": [
    {
     "data": {
      "text/plain": [
       "array([[2., 6., 1.],\n",
       "       [8., 6., 6.]])"
      ]
     },
     "metadata": {},
     "output_type": "display_data"
    }
   ],
   "source": [
    "a + b"
   ]
  },
  {
   "cell_type": "code",
   "execution_count": null,
   "metadata": {
    "id": "VVx166ipq02g"
   },
   "outputs": [],
   "source": [
    "c = b = np.ones((1, 3))"
   ]
  },
  {
   "cell_type": "code",
   "execution_count": null,
   "metadata": {
    "colab": {
     "base_uri": "https://localhost:8080/"
    },
    "id": "2wEWX4aEq6Aj",
    "outputId": "3c1d20e4-635c-4786-93ab-48e2870153fb"
   },
   "outputs": [
    {
     "data": {
      "text/plain": [
       "array([[2., 6., 1.],\n",
       "       [8., 6., 6.]])"
      ]
     },
     "metadata": {},
     "output_type": "display_data"
    }
   ],
   "source": [
    "a + c"
   ]
  },
  {
   "cell_type": "code",
   "execution_count": null,
   "metadata": {
    "colab": {
     "base_uri": "https://localhost:8080/"
    },
    "id": "JNX_R2worfiw",
    "outputId": "d4f03265-d31f-47c2-8700-9048f87a1d52"
   },
   "outputs": [
    {
     "name": "stdout",
     "output_type": "stream",
     "text": [
      "[[1]\n",
      " [2]\n",
      " [3]\n",
      " [4]]\n",
      "[5 6 7]\n"
     ]
    },
    {
     "data": {
      "text/plain": [
       "array([[ 6,  7,  8],\n",
       "       [ 7,  8,  9],\n",
       "       [ 8,  9, 10],\n",
       "       [ 9, 10, 11]])"
      ]
     },
     "metadata": {},
     "output_type": "display_data"
    }
   ],
   "source": [
    "d = np.array([1, 2, 3, 4])\n",
    "d = np.transpose([d])\n",
    "print(d)\n",
    "e = np.array([5, 6, 7])\n",
    "print(e)\n",
    "d + e"
   ]
  }
 ],
 "metadata": {
  "kernelspec": {
   "display_name": "Python 3.9.12 ('base')",
   "language": "python",
   "name": "python3"
  },
  "language_info": {
   "name": "python",
   "version": "3.9.12 (main, Apr  4 2022, 05:22:27) [MSC v.1916 64 bit (AMD64)]"
  },
  "orig_nbformat": 4,
  "vscode": {
   "interpreter": {
    "hash": "e03b612d84ba21ce95ed447e81b3062e1eb99b56c6d885cdab4aaa12f1b8e240"
   }
  }
 },
 "nbformat": 4,
 "nbformat_minor": 2
}

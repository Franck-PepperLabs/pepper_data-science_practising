{
 "cells": [
  {
   "cell_type": "markdown",
   "metadata": {},
   "source": [
    "# Récupérer la liste des vidéos d'une chaîne Youtube\n",
    "\n",
    "https://webdevdesigner.com/q/youtube-api-to-fetch-all-videos-on-a-channel-43820/\n",
    "\n",
    "https://stackoverflow.com/questions/18953499/youtube-api-to-fetch-all-videos-on-a-channel\n",
    "\n",
    "https://www.youtube.com/@3blue1brown\n",
    "\n",
    "ChannelId : UCYO_jab_esuFRV4b17AJtAw (cf. https://commentpicker.com/youtube-channel-id.php)"
   ]
  },
  {
   "cell_type": "code",
   "execution_count": null,
   "metadata": {},
   "outputs": [
    {
     "name": "stderr",
     "output_type": "stream",
     "text": [
      "ERROR: 'UCYO_jab_esuFRV4b17AJtAw' is not a valid URL. Set --default-search \"ytsearch\" (or run  youtube-dl \"ytsearch:UCYO_jab_esuFRV4b17AJtAw\" ) to search YouTube\n"
     ]
    },
    {
     "ename": "TypeError",
     "evalue": "'NoneType' object is not subscriptable",
     "output_type": "error",
     "traceback": [
      "\u001b[1;31m---------------------------------------------------------------------------\u001b[0m\n",
      "\u001b[1;31mTypeError\u001b[0m                                 Traceback (most recent call last)\n",
      "Cell \u001b[1;32mIn[32], line 13\u001b[0m\n",
      "\u001b[0;32m     10\u001b[0m \u001b[39mwith\u001b[39;00m \u001b[39mopen\u001b[39m(\u001b[39m'\u001b[39m\u001b[39mplaylist.pickle\u001b[39m\u001b[39m'\u001b[39m, \u001b[39m'\u001b[39m\u001b[39mwb\u001b[39m\u001b[39m'\u001b[39m) \u001b[39mas\u001b[39;00m f:\n",
      "\u001b[0;32m     11\u001b[0m     pickle\u001b[39m.\u001b[39mdump(playd, f, pickle\u001b[39m.\u001b[39mHIGHEST_PROTOCOL)\n",
      "\u001b[1;32m---> 13\u001b[0m vids \u001b[39m=\u001b[39m [vid \u001b[39mfor\u001b[39;00m vid \u001b[39min\u001b[39;00m playd[\u001b[39m'\u001b[39;49m\u001b[39mentries\u001b[39;49m\u001b[39m'\u001b[39;49m] \u001b[39mif\u001b[39;00m \u001b[39m'\u001b[39m\u001b[39mA Closer Look\u001b[39m\u001b[39m'\u001b[39m \u001b[39min\u001b[39;00m vid[\u001b[39m'\u001b[39m\u001b[39mtitle\u001b[39m\u001b[39m'\u001b[39m]]\n",
      "\u001b[0;32m     14\u001b[0m \u001b[39mprint\u001b[39m(\u001b[39msum\u001b[39m(\u001b[39m'\u001b[39m\u001b[39mTrump\u001b[39m\u001b[39m'\u001b[39m \u001b[39min\u001b[39;00m vid[\u001b[39m'\u001b[39m\u001b[39mtitle\u001b[39m\u001b[39m'\u001b[39m] \u001b[39mfor\u001b[39;00m vid \u001b[39min\u001b[39;00m vids), \u001b[39m'\u001b[39m\u001b[39m/\u001b[39m\u001b[39m'\u001b[39m, \u001b[39mlen\u001b[39m(vids))\n",
      "\n",
      "\u001b[1;31mTypeError\u001b[0m: 'NoneType' object is not subscriptable"
     ]
    }
   ],
   "source": [
    "import youtube_dl, pickle\n",
    "\n",
    "             # UCVTyTA7-g9nopHeHbeuvpRA is the channel id (1517+ videos)\n",
    "PLAYLIST_ID = 'UCYO_jab_esuFRV4b17AJtAw'  # Late Night with Seth Meyers\n",
    "\n",
    "with youtube_dl.YoutubeDL({'ignoreerrors': True}) as ydl:\n",
    "\n",
    "    playd = ydl.extract_info(PLAYLIST_ID, download=False)\n",
    "\n",
    "    with open('playlist.pickle', 'wb') as f:\n",
    "        pickle.dump(playd, f, pickle.HIGHEST_PROTOCOL)\n",
    "\n",
    "    vids = [vid for vid in playd['entries'] if 'A Closer Look' in vid['title']]\n",
    "    print(sum('Trump' in vid['title'] for vid in vids), '/', len(vids))"
   ]
  },
  {
   "cell_type": "code",
   "execution_count": null,
   "metadata": {},
   "outputs": [
    {
     "data": {
      "text/plain": [
       "\"for video in videos:\\n    print(video['videoId'])\\n    print(type(video['title'])\\n    # display(video)\""
      ]
     },
     "metadata": {},
     "output_type": "display_data"
    }
   ],
   "source": [
    "import scrapetube\n",
    "videos_gen = scrapetube.get_channel(\"UCYO_jab_esuFRV4b17AJtAw\") #\"UC9-y-6csu5WGm29I7JiwpnA\") # \"@3blue1brown\") #\n",
    "videos = list(videos_gen)"
   ]
  },
  {
   "cell_type": "code",
   "execution_count": null,
   "metadata": {},
   "outputs": [
    {
     "name": "stdout",
     "output_type": "stream",
     "text": [
      "KuXjwB4LzSA\n"
     ]
    },
    {
     "data": {
      "text/plain": [
       "'But what is a convolution?'"
      ]
     },
     "metadata": {},
     "output_type": "display_data"
    },
    {
     "name": "stdout",
     "output_type": "stream",
     "text": [
      "851U557j6HE\n"
     ]
    },
    {
     "data": {
      "text/plain": [
       "'Researchers thought this was a bug (Borwein integrals)'"
      ]
     },
     "metadata": {},
     "output_type": "display_data"
    },
    {
     "name": "stdout",
     "output_type": "stream",
     "text": [
      "cDofhN-RJqg\n"
     ]
    },
    {
     "data": {
      "text/plain": [
       "'We ran a contest for math explainers, here are the results (SoME2)'"
      ]
     },
     "metadata": {},
     "output_type": "display_data"
    },
    {
     "name": "stdout",
     "output_type": "stream",
     "text": [
      "VYQVlVoWoPY\n"
     ]
    },
    {
     "data": {
      "text/plain": [
       "'How to lie using visual proofs'"
      ]
     },
     "metadata": {},
     "output_type": "display_data"
    },
    {
     "name": "stdout",
     "output_type": "stream",
     "text": [
      "hZuYICAEN9Y\n"
     ]
    },
    {
     "data": {
      "text/plain": [
       "'Summer of Math Exposition 2 Invitation'"
      ]
     },
     "metadata": {},
     "output_type": "display_data"
    },
    {
     "name": "stdout",
     "output_type": "stream",
     "text": [
      "bOXCLR3Wric\n"
     ]
    },
    {
     "data": {
      "text/plain": [
       "'Olympiad level counting: How many subsets of {1,…,2000} have a sum divisible by 5?'"
      ]
     },
     "metadata": {},
     "output_type": "display_data"
    },
    {
     "name": "stdout",
     "output_type": "stream",
     "text": [
      "fRed0Xmc2Wg\n"
     ]
    },
    {
     "data": {
      "text/plain": [
       "'Oh, wait, actually the best Wordle opener is not “crane”…'"
      ]
     },
     "metadata": {},
     "output_type": "display_data"
    },
    {
     "name": "stdout",
     "output_type": "stream",
     "text": [
      "v68zYyaEmEA\n"
     ]
    },
    {
     "data": {
      "text/plain": [
       "'Solving Wordle using information theory'"
      ]
     },
     "metadata": {},
     "output_type": "display_data"
    },
    {
     "name": "stdout",
     "output_type": "stream",
     "text": [
      "ltLUadnCyi0\n"
     ]
    },
    {
     "data": {
      "text/plain": [
       "\"Alice, Bob, and the average area of a cube's shadow\""
      ]
     },
     "metadata": {},
     "output_type": "display_data"
    },
    {
     "name": "stdout",
     "output_type": "stream",
     "text": [
      "F3Qixy-r_rQ\n"
     ]
    },
    {
     "data": {
      "text/plain": [
       "'2021 Summer of Math Exposition results'"
      ]
     },
     "metadata": {},
     "output_type": "display_data"
    },
    {
     "name": "stdout",
     "output_type": "stream",
     "text": [
      "LqbZpur38nw\n"
     ]
    },
    {
     "data": {
      "text/plain": [
       "'Beyond the Mandelbrot set, an intro to holomorphic dynamics'"
      ]
     },
     "metadata": {},
     "output_type": "display_data"
    },
    {
     "name": "stdout",
     "output_type": "stream",
     "text": [
      "-RdOwhmqP5s\n"
     ]
    },
    {
     "data": {
      "text/plain": [
       "'From Newton’s method to Newton’s fractal (which Newton knew nothing about)'"
      ]
     },
     "metadata": {},
     "output_type": "display_data"
    },
    {
     "name": "stdout",
     "output_type": "stream",
     "text": [
      "ojjzXyQCzso\n"
     ]
    },
    {
     "data": {
      "text/plain": [
       "'The Summer of Math Exposition'"
      ]
     },
     "metadata": {},
     "output_type": "display_data"
    },
    {
     "name": "stdout",
     "output_type": "stream",
     "text": [
      "e50Bj7jn9IQ\n"
     ]
    },
    {
     "data": {
      "text/plain": [
       "'A quick trick for computing eigenvalues | Chapter 15, Essence of linear algebra'"
      ]
     },
     "metadata": {},
     "output_type": "display_data"
    },
    {
     "name": "stdout",
     "output_type": "stream",
     "text": [
      "O85OWBJ2ayo\n"
     ]
    },
    {
     "data": {
      "text/plain": [
       "'How (and why) to raise e to the power of a matrix | DE6'"
      ]
     },
     "metadata": {},
     "output_type": "display_data"
    },
    {
     "name": "stdout",
     "output_type": "stream",
     "text": [
      "lG4VkPoG3ko\n"
     ]
    },
    {
     "data": {
      "text/plain": [
       "\"The medical test paradox, and redesigning Bayes' rule\""
      ]
     },
     "metadata": {},
     "output_type": "display_data"
    },
    {
     "name": "stdout",
     "output_type": "stream",
     "text": [
      "b3NxrZOu_CE\n"
     ]
    },
    {
     "data": {
      "text/plain": [
       "'Hamming codes part 2, the elegance of it all'"
      ]
     },
     "metadata": {},
     "output_type": "display_data"
    },
    {
     "name": "stdout",
     "output_type": "stream",
     "text": [
      "X8jsijhllIA\n"
     ]
    },
    {
     "data": {
      "text/plain": [
       "'How to send a self-correcting message (Hamming codes)'"
      ]
     },
     "metadata": {},
     "output_type": "display_data"
    },
    {
     "name": "stdout",
     "output_type": "stream",
     "text": [
      "mH0oCDa74tE\n"
     ]
    },
    {
     "data": {
      "text/plain": [
       "'Group theory, abstraction, and the 196,883-dimensional monster'"
      ]
     },
     "metadata": {},
     "output_type": "display_data"
    },
    {
     "name": "stdout",
     "output_type": "stream",
     "text": [
      "wTJI_WuZSwE\n"
     ]
    },
    {
     "data": {
      "text/plain": [
       "'The impossible chessboard puzzle'"
      ]
     },
     "metadata": {},
     "output_type": "display_data"
    },
    {
     "name": "stdout",
     "output_type": "stream",
     "text": [
      "D__UaR5MQao\n"
     ]
    },
    {
     "data": {
      "text/plain": [
       "'Suivi des Contacts et Protection de la Vie privée (via Nicky Case)'"
      ]
     },
     "metadata": {},
     "output_type": "display_data"
    },
    {
     "name": "stdout",
     "output_type": "stream",
     "text": [
      "ppWPuXsnf1Q\n"
     ]
    },
    {
     "data": {
      "text/plain": [
       "'Annonce - Maths en confinement'"
      ]
     },
     "metadata": {},
     "output_type": "display_data"
    },
    {
     "name": "stdout",
     "output_type": "stream",
     "text": [
      "ZA4JkHKZM50\n"
     ]
    },
    {
     "data": {
      "text/plain": [
       "'Why “probability of 0” does not mean “impossible” | Probabilities of probabilities, part 2'"
      ]
     },
     "metadata": {},
     "output_type": "display_data"
    },
    {
     "name": "stdout",
     "output_type": "stream",
     "text": [
      "gxAaO2rsdIs\n"
     ]
    },
    {
     "data": {
      "text/plain": [
       "'Simuler une épidémie'"
      ]
     },
     "metadata": {},
     "output_type": "display_data"
    },
    {
     "name": "stdout",
     "output_type": "stream",
     "text": [
      "8idr1WZ1A7Q\n"
     ]
    },
    {
     "data": {
      "text/plain": [
       "'Binomial distributions | Probabilities of probabilities, part 1'"
      ]
     },
     "metadata": {},
     "output_type": "display_data"
    },
    {
     "name": "stdout",
     "output_type": "stream",
     "text": [
      "Kas0tIxDvrg\n"
     ]
    },
    {
     "data": {
      "text/plain": [
       "'Exponential growth and epidemics'"
      ]
     },
     "metadata": {},
     "output_type": "display_data"
    },
    {
     "name": "stdout",
     "output_type": "stream",
     "text": [
      "U_85TaXbeIo\n"
     ]
    },
    {
     "data": {
      "text/plain": [
       "\"The quick proof of Bayes' theorem\""
      ]
     },
     "metadata": {},
     "output_type": "display_data"
    },
    {
     "name": "stdout",
     "output_type": "stream",
     "text": [
      "HZGCoVF3YvM\n"
     ]
    },
    {
     "data": {
      "text/plain": [
       "'Bayes theorem, the geometry of changing beliefs'"
      ]
     },
     "metadata": {},
     "output_type": "display_data"
    },
    {
     "name": "stdout",
     "output_type": "stream",
     "text": [
      "Agbh95KyWxY\n"
     ]
    },
    {
     "data": {
      "text/plain": [
       "'Q&A with Grant (3blue1brown), windy walk edition'"
      ]
     },
     "metadata": {},
     "output_type": "display_data"
    },
    {
     "name": "stdout",
     "output_type": "stream",
     "text": [
      "EK32jo7i5LQ\n"
     ]
    },
    {
     "data": {
      "text/plain": [
       "'Why do prime numbers make these spirals? | Dirichlet’s theorem, pi approximations, and more'"
      ]
     },
     "metadata": {},
     "output_type": "display_data"
    },
    {
     "name": "stdout",
     "output_type": "stream",
     "text": [
      "M64HUIJFTZM\n"
     ]
    },
    {
     "data": {
      "text/plain": [
       "'The unexpectedly hard windmill question (2011 IMO, Q2)'"
      ]
     },
     "metadata": {},
     "output_type": "display_data"
    },
    {
     "name": "stdout",
     "output_type": "stream",
     "text": [
      "v0YEaeIClKY\n"
     ]
    },
    {
     "data": {
      "text/plain": [
       "'e^(iπ) in 3.14 minutes, using dynamics | DE5'"
      ]
     },
     "metadata": {},
     "output_type": "display_data"
    },
    {
     "name": "stdout",
     "output_type": "stream",
     "text": [
      "-qgreAUpPwM\n"
     ]
    },
    {
     "data": {
      "text/plain": [
       "'Pure Fourier series animation montage'"
      ]
     },
     "metadata": {},
     "output_type": "display_data"
    },
    {
     "name": "stdout",
     "output_type": "stream",
     "text": [
      "r6sGWTCMz2k\n"
     ]
    },
    {
     "data": {
      "text/plain": [
       "\"Mais qu'est-ce qu'une série de Fourier? Du transfert thermique à des dessins avec des cercles | DE4\""
      ]
     },
     "metadata": {},
     "output_type": "display_data"
    },
    {
     "name": "stdout",
     "output_type": "stream",
     "text": [
      "ToIXSwZ1pJU\n"
     ]
    },
    {
     "data": {
      "text/plain": [
       "'Solving the heat equation | DE3'"
      ]
     },
     "metadata": {},
     "output_type": "display_data"
    },
    {
     "name": "stdout",
     "output_type": "stream",
     "text": [
      "ly4S0oi3Yz8\n"
     ]
    },
    {
     "data": {
      "text/plain": [
       "'But what is a partial differential equation?  | DE2'"
      ]
     },
     "metadata": {},
     "output_type": "display_data"
    },
    {
     "name": "stdout",
     "output_type": "stream",
     "text": [
      "p_di4Zn4wz4\n"
     ]
    },
    {
     "data": {
      "text/plain": [
       "\"Differential equations, a tourist's guide | DE1\""
      ]
     },
     "metadata": {},
     "output_type": "display_data"
    },
    {
     "name": "stdout",
     "output_type": "stream",
     "text": [
      "jBsC34PxzoM\n"
     ]
    },
    {
     "data": {
      "text/plain": [
       "\"Cramer's rule, explained geometrically | Chapter 12, Essence of linear algebra\""
      ]
     },
     "metadata": {},
     "output_type": "display_data"
    },
    {
     "name": "stdout",
     "output_type": "stream",
     "text": [
      "brU5yLm9DZM\n"
     ]
    },
    {
     "data": {
      "text/plain": [
       "'How colliding blocks act like a beam of light...to compute pi.'"
      ]
     },
     "metadata": {},
     "output_type": "display_data"
    },
    {
     "name": "stdout",
     "output_type": "stream",
     "text": [
      "jsYwFizhncE\n"
     ]
    },
    {
     "data": {
      "text/plain": [
       "'Why do colliding blocks compute pi?'"
      ]
     },
     "metadata": {},
     "output_type": "display_data"
    },
    {
     "name": "stdout",
     "output_type": "stream",
     "text": [
      "HEfHFsfGXjs\n"
     ]
    },
    {
     "data": {
      "text/plain": [
       "'La réponse la plus inattendue à un problème de comptage'"
      ]
     },
     "metadata": {},
     "output_type": "display_data"
    },
    {
     "name": "stdout",
     "output_type": "stream",
     "text": [
      "GNcFjFmqEc8\n"
     ]
    },
    {
     "data": {
      "text/plain": [
       "\"But why is a sphere's surface area four times its shadow?\""
      ]
     },
     "metadata": {},
     "output_type": "display_data"
    },
    {
     "name": "stdout",
     "output_type": "stream",
     "text": [
      "yuVqxCSsE7c\n"
     ]
    },
    {
     "data": {
      "text/plain": [
       "'Using topology to solve a counting riddle | The Borsuk-Ulam theorem and stolen necklaces'"
      ]
     },
     "metadata": {},
     "output_type": "display_data"
    },
    {
     "name": "stdout",
     "output_type": "stream",
     "text": [
      "_UoTTq651dE\n"
     ]
    },
    {
     "data": {
      "text/plain": [
       "'Why 5/3 is a fundamental constant for turbulence'"
      ]
     },
     "metadata": {},
     "output_type": "display_data"
    },
    {
     "name": "stdout",
     "output_type": "stream",
     "text": [
      "zjMuIxRvygQ\n"
     ]
    },
    {
     "data": {
      "text/plain": [
       "'Quaternions and 3d rotation, explained interactively'"
      ]
     },
     "metadata": {},
     "output_type": "display_data"
    },
    {
     "name": "stdout",
     "output_type": "stream",
     "text": [
      "d4EgbgTm0Bg\n"
     ]
    },
    {
     "data": {
      "text/plain": [
       "'Que sont les quaternions, et comment les visualiser ? Une histoire en quatre dimensions.'"
      ]
     },
     "metadata": {},
     "output_type": "display_data"
    },
    {
     "name": "stdout",
     "output_type": "stream",
     "text": [
      "Qe6o9j4IjTo\n"
     ]
    },
    {
     "data": {
      "text/plain": [
       "'Q&A with Grant Sanderson (3blue1brown)'"
      ]
     },
     "metadata": {},
     "output_type": "display_data"
    },
    {
     "name": "stdout",
     "output_type": "stream",
     "text": [
      "pQa_tWZmlGs\n"
     ]
    },
    {
     "data": {
      "text/plain": [
       "\"A quoi ressemble le génie en mathématique? D'où vient-il? (Spères de Dandelin)\""
      ]
     },
     "metadata": {},
     "output_type": "display_data"
    },
    {
     "name": "stdout",
     "output_type": "stream",
     "text": [
      "VcgJro0sTiM\n"
     ]
    },
    {
     "data": {
      "text/plain": [
       "\"Other math channels you'd enjoy\""
      ]
     },
     "metadata": {},
     "output_type": "display_data"
    },
    {
     "name": "stdout",
     "output_type": "stream",
     "text": [
      "rB83DpBJQsE\n"
     ]
    },
    {
     "data": {
      "text/plain": [
       "\"Divergence and curl:  The language of Maxwell's equations, fluid flow, and more\""
      ]
     },
     "metadata": {},
     "output_type": "display_data"
    },
    {
     "name": "stdout",
     "output_type": "stream",
     "text": [
      "CfW845LNObM\n"
     ]
    },
    {
     "data": {
      "text/plain": [
       "'The other way to visualize derivatives | Chapter 12, Essence of calculus'"
      ]
     },
     "metadata": {},
     "output_type": "display_data"
    },
    {
     "name": "stdout",
     "output_type": "stream",
     "text": [
      "8GPy_UMV-08\n"
     ]
    },
    {
     "data": {
      "text/plain": [
       "'Pourquoi ce produit est-il égal à π / 2? Une nouvelle preuve de la formule de Wallis pour π.'"
      ]
     },
     "metadata": {},
     "output_type": "display_data"
    },
    {
     "name": "stdout",
     "output_type": "stream",
     "text": [
      "b7FxPsqfkOY\n"
     ]
    },
    {
     "data": {
      "text/plain": [
       "'Comment résoudre les équations à deux dimensions en utilisant des couleurs'"
      ]
     },
     "metadata": {},
     "output_type": "display_data"
    },
    {
     "name": "stdout",
     "output_type": "stream",
     "text": [
      "bcPTiiiYDs8\n"
     ]
    },
    {
     "data": {
      "text/plain": [
       "'How pi was almost 6.283185...'"
      ]
     },
     "metadata": {},
     "output_type": "display_data"
    },
    {
     "name": "stdout",
     "output_type": "stream",
     "text": [
      "d-o3eB9sfls\n"
     ]
    },
    {
     "data": {
      "text/plain": [
       "'Why is pi here?  And why is it squared?  A geometric answer to the Basel problem'"
      ]
     },
     "metadata": {},
     "output_type": "display_data"
    },
    {
     "name": "stdout",
     "output_type": "stream",
     "text": [
      "MBnnXbOM5S4\n"
     ]
    },
    {
     "data": {
      "text/plain": [
       "'The more general uncertainty principle, regarding Fourier transforms'"
      ]
     },
     "metadata": {},
     "output_type": "display_data"
    },
    {
     "name": "stdout",
     "output_type": "stream",
     "text": [
      "spUNpyF58BY\n"
     ]
    },
    {
     "data": {
      "text/plain": [
       "\"Mais qu'est-ce que la Transformée de Fourier? Une introduction visuelle.\""
      ]
     },
     "metadata": {},
     "output_type": "display_data"
    },
    {
     "name": "stdout",
     "output_type": "stream",
     "text": [
      "VvCytJvd4H0\n"
     ]
    },
    {
     "data": {
      "text/plain": [
       "'Why this puzzle is impossible'"
      ]
     },
     "metadata": {},
     "output_type": "display_data"
    },
    {
     "name": "stdout",
     "output_type": "stream",
     "text": [
      "liL66CApESk\n"
     ]
    },
    {
     "data": {
      "text/plain": [
       "'Q&A #2 + Net Neutrality Nuance'"
      ]
     },
     "metadata": {},
     "output_type": "display_data"
    },
    {
     "name": "stdout",
     "output_type": "stream",
     "text": [
      "OkmNXy7er84\n"
     ]
    },
    {
     "data": {
      "text/plain": [
       "'The hardest problem on the hardest test'"
      ]
     },
     "metadata": {},
     "output_type": "display_data"
    },
    {
     "name": "stdout",
     "output_type": "stream",
     "text": [
      "tIeHLnjs5U8\n"
     ]
    },
    {
     "data": {
      "text/plain": [
       "'Calcul de la rétropropagation | Apprentissage profond, chapitre 4'"
      ]
     },
     "metadata": {},
     "output_type": "display_data"
    },
    {
     "name": "stdout",
     "output_type": "stream",
     "text": [
      "Ilg3gGewQ5U\n"
     ]
    },
    {
     "data": {
      "text/plain": [
       "'What is backpropagation really doing? | Chapter 3, Deep learning'"
      ]
     },
     "metadata": {},
     "output_type": "display_data"
    },
    {
     "name": "stdout",
     "output_type": "stream",
     "text": [
      "IHZwWFHWa-w\n"
     ]
    },
    {
     "data": {
      "text/plain": [
       "'La descente de gradient, ou comment un réseau neuronal apprend | Chapitre 2'"
      ]
     },
     "metadata": {},
     "output_type": "display_data"
    },
    {
     "name": "stdout",
     "output_type": "stream",
     "text": [
      "aircAruvnKk\n"
     ]
    },
    {
     "data": {
      "text/plain": [
       "\"Mais *qu'est-ce* qu'un réseau de neurones ? | Apprentissage profond, chapitre 1\""
      ]
     },
     "metadata": {},
     "output_type": "display_data"
    },
    {
     "name": "stdout",
     "output_type": "stream",
     "text": [
      "MzRCDLre1b4\n"
     ]
    },
    {
     "data": {
      "text/plain": [
       "'Un peu de mécanique quantique sur la lumière (avec MinutePhysics)'"
      ]
     },
     "metadata": {},
     "output_type": "display_data"
    },
    {
     "name": "stdout",
     "output_type": "stream",
     "text": [
      "zwAD6dRSVyI\n"
     ]
    },
    {
     "data": {
      "text/plain": [
       "'Thinking outside the 10-dimensional box'"
      ]
     },
     "metadata": {},
     "output_type": "display_data"
    },
    {
     "name": "stdout",
     "output_type": "stream",
     "text": [
      "3s7h2MHQtxc\n"
     ]
    },
    {
     "data": {
      "text/plain": [
       "\"Hilbert's Curve: Is infinite math useful?\""
      ]
     },
     "metadata": {},
     "output_type": "display_data"
    },
    {
     "name": "stdout",
     "output_type": "stream",
     "text": [
      "S9JGmA5_unY\n"
     ]
    },
    {
     "data": {
      "text/plain": [
       "'A quel point le chiffrement 256 bits est-il sûr ?'"
      ]
     },
     "metadata": {},
     "output_type": "display_data"
    },
    {
     "name": "stdout",
     "output_type": "stream",
     "text": [
      "bBC-nXj3Ng4\n"
     ]
    },
    {
     "data": {
      "text/plain": [
       "'Vous êtes-vous déjà demandé comment les Bitcoins (et autres crypto-monnaies) marchaient en réalité ?'"
      ]
     },
     "metadata": {},
     "output_type": "display_data"
    },
    {
     "name": "stdout",
     "output_type": "stream",
     "text": [
      "QJYmyhnaaek\n"
     ]
    },
    {
     "data": {
      "text/plain": [
       "'All possible pythagorean triples, visualized'"
      ]
     },
     "metadata": {},
     "output_type": "display_data"
    },
    {
     "name": "stdout",
     "output_type": "stream",
     "text": [
      "NaL_Cb42WyY\n"
     ]
    },
    {
     "data": {
      "text/plain": [
       "'Quand pi se cache dans la répartition des nombres premiers'"
      ]
     },
     "metadata": {},
     "output_type": "display_data"
    },
    {
     "name": "stdout",
     "output_type": "stream",
     "text": [
      "3d6DsjIBzJ4\n"
     ]
    },
    {
     "data": {
      "text/plain": [
       "\"Séries de Taylor | Chapitre 10, Au cœur de l'analyse\""
      ]
     },
     "metadata": {},
     "output_type": "display_data"
    },
    {
     "name": "stdout",
     "output_type": "stream",
     "text": [
      "BLkz5LGWihw\n"
     ]
    },
    {
     "data": {
      "text/plain": [
       "\"Dérivées d'ordre supérieur | Note de bas de page, Au cœur de l'analyse\""
      ]
     },
     "metadata": {},
     "output_type": "display_data"
    },
    {
     "name": "stdout",
     "output_type": "stream",
     "text": [
      "FnJqaIESC2s\n"
     ]
    },
    {
     "data": {
      "text/plain": [
       "\"Quel est le rapport entre l'aire et la pente ? | Chapitre 9, Au coeur de l'analyse\""
      ]
     },
     "metadata": {},
     "output_type": "display_data"
    },
    {
     "name": "stdout",
     "output_type": "stream",
     "text": [
      "rfG8ce4nNh0\n"
     ]
    },
    {
     "data": {
      "text/plain": [
       "\"L'intégration et le théorème fondamental de l'analyse | Chapitre 8, Au cœur de l'analyse\""
      ]
     },
     "metadata": {},
     "output_type": "display_data"
    },
    {
     "name": "stdout",
     "output_type": "stream",
     "text": [
      "kfF40MiS7zA\n"
     ]
    },
    {
     "data": {
      "text/plain": [
       "\"limites | Chapitre 7, Au cœur de l'analyse\""
      ]
     },
     "metadata": {},
     "output_type": "display_data"
    },
    {
     "name": "stdout",
     "output_type": "stream",
     "text": [
      "qb40J4N1fa4\n"
     ]
    },
    {
     "data": {
      "text/plain": [
       "\"Différenciation implicite, qu'est ce qu'il se passe ici ? | Chapitre 6, Au cœur de l'analyse\""
      ]
     },
     "metadata": {},
     "output_type": "display_data"
    },
    {
     "name": "stdout",
     "output_type": "stream",
     "text": [
      "m2MIpDrF7Es\n"
     ]
    },
    {
     "data": {
      "text/plain": [
       "\"Dérivées des fonctions exponetielles | Chapitre 5, au coeur de l'analyse\""
      ]
     },
     "metadata": {},
     "output_type": "display_data"
    },
    {
     "name": "stdout",
     "output_type": "stream",
     "text": [
      "YG15m2VwSjA\n"
     ]
    },
    {
     "data": {
      "text/plain": [
       "'Visualiser la règle de la chaîne et la règle de produit | Chapitre 4, essence du calcul'"
      ]
     },
     "metadata": {},
     "output_type": "display_data"
    },
    {
     "name": "stdout",
     "output_type": "stream",
     "text": [
      "S0_qX4VJhMQ\n"
     ]
    },
    {
     "data": {
      "text/plain": [
       "\"Formules pour la dérivée démontrées géométriquement | Chapitre 3, Au cœur de l'analyse\""
      ]
     },
     "metadata": {},
     "output_type": "display_data"
    },
    {
     "name": "stdout",
     "output_type": "stream",
     "text": [
      "9vKqVkMQHKk\n"
     ]
    },
    {
     "data": {
      "text/plain": [
       "\"Le paradoxe de la dérivée | Chapitre 2, Au coeur de l'analyse\""
      ]
     },
     "metadata": {},
     "output_type": "display_data"
    },
    {
     "name": "stdout",
     "output_type": "stream",
     "text": [
      "WUvTyaaNkzM\n"
     ]
    },
    {
     "data": {
      "text/plain": [
       "\"Au cœur de l'analyse, chapitre 1\""
      ]
     },
     "metadata": {},
     "output_type": "display_data"
    },
    {
     "name": "stdout",
     "output_type": "stream",
     "text": [
      "mvmuCPvRoWQ\n"
     ]
    },
    {
     "data": {
      "text/plain": [
       "\"Euler's formula with introductory group theory\""
      ]
     },
     "metadata": {},
     "output_type": "display_data"
    },
    {
     "name": "stdout",
     "output_type": "stream",
     "text": [
      "gB9n2gHsHN4\n"
     ]
    },
    {
     "data": {
      "text/plain": [
       "'Fractals are typically not self-similar'"
      ]
     },
     "metadata": {},
     "output_type": "display_data"
    },
    {
     "name": "stdout",
     "output_type": "stream",
     "text": [
      "IxNb1WG_Ido\n"
     ]
    },
    {
     "data": {
      "text/plain": [
       "'Tattoos on Math'"
      ]
     },
     "metadata": {},
     "output_type": "display_data"
    },
    {
     "name": "stdout",
     "output_type": "stream",
     "text": [
      "sD0NjbwqlYw\n"
     ]
    },
    {
     "data": {
      "text/plain": [
       "'Visualizing the Riemann zeta function and analytic continuation'"
      ]
     },
     "metadata": {},
     "output_type": "display_data"
    },
    {
     "name": "stdout",
     "output_type": "stream",
     "text": [
      "bdMfjfT0lKk\n"
     ]
    },
    {
     "data": {
      "text/plain": [
       "'Binary, Hanoi, and Sierpinski, part 2'"
      ]
     },
     "metadata": {},
     "output_type": "display_data"
    },
    {
     "name": "stdout",
     "output_type": "stream",
     "text": [
      "2SUvWfNJSsM\n"
     ]
    },
    {
     "data": {
      "text/plain": [
       "'Binaire, Hanoï et Sierpinski, partie 1'"
      ]
     },
     "metadata": {},
     "output_type": "display_data"
    },
    {
     "name": "stdout",
     "output_type": "stream",
     "text": [
      "R7p-nPg8t_g\n"
     ]
    },
    {
     "data": {
      "text/plain": [
       "'3blue1brown channel trailer'"
      ]
     },
     "metadata": {},
     "output_type": "display_data"
    },
    {
     "name": "stdout",
     "output_type": "stream",
     "text": [
      "AmgkSdhK4K8\n"
     ]
    },
    {
     "data": {
      "text/plain": [
       "'Qui se soucie de la topologie ? (Problème du rectangle inscrit)'"
      ]
     },
     "metadata": {},
     "output_type": "display_data"
    },
    {
     "name": "stdout",
     "output_type": "stream",
     "text": [
      "TgKwz5Ikpc8\n"
     ]
    },
    {
     "data": {
      "text/plain": [
       "\"Espaces vectoriels abstraits | Essence de l'algèbre linéaire, chapitre 11\""
      ]
     },
     "metadata": {},
     "output_type": "display_data"
    },
    {
     "name": "stdout",
     "output_type": "stream",
     "text": [
      "PFDu9oVAE-g\n"
     ]
    },
    {
     "data": {
      "text/plain": [
       "\"Les vecteurs propres et valeurs propres | Essence de l'algèbre linéaire, chapitre 10\""
      ]
     },
     "metadata": {},
     "output_type": "display_data"
    },
    {
     "name": "stdout",
     "output_type": "stream",
     "text": [
      "P2LTAUO1TdA\n"
     ]
    },
    {
     "data": {
      "text/plain": [
       "\"Changement de base | Essence de l'algèbre linéaire, chapitre 9\""
      ]
     },
     "metadata": {},
     "output_type": "display_data"
    },
    {
     "name": "stdout",
     "output_type": "stream",
     "text": [
      "BaM7OCEm3G0\n"
     ]
    },
    {
     "data": {
      "text/plain": [
       "\"Produit vectoriel et transformations linéaire | L'essentiel de l'algèbre linéaire, ch8 ep2\""
      ]
     },
     "metadata": {},
     "output_type": "display_data"
    },
    {
     "name": "stdout",
     "output_type": "stream",
     "text": [
      "eu6i7WJeinw\n"
     ]
    },
    {
     "data": {
      "text/plain": [
       "\"Produits vectoriels | Essence de l'algèbre linéaire, chapitre 8\""
      ]
     },
     "metadata": {},
     "output_type": "display_data"
    },
    {
     "name": "stdout",
     "output_type": "stream",
     "text": [
      "LyGKycYT2v0\n"
     ]
    },
    {
     "data": {
      "text/plain": [
       "\"Produit scalaire et dualité | Essence de l'algèbre linéaire, chapitre 7\""
      ]
     },
     "metadata": {},
     "output_type": "display_data"
    },
    {
     "name": "stdout",
     "output_type": "stream",
     "text": [
      "v8VSDg_WQlA\n"
     ]
    },
    {
     "data": {
      "text/plain": [
       "\"Matrices non carrés en tant que trans. entre dim. | Essence de l'algèbre linéaire, note\""
      ]
     },
     "metadata": {},
     "output_type": "display_data"
    },
    {
     "name": "stdout",
     "output_type": "stream",
     "text": [
      "uQhTuRlWMxw\n"
     ]
    },
    {
     "data": {
      "text/plain": [
       "\"Inversions de matrices, image et noyau | Essence de l'algèbre linéaire, chapitre 6\""
      ]
     },
     "metadata": {},
     "output_type": "display_data"
    },
    {
     "name": "stdout",
     "output_type": "stream",
     "text": [
      "Ip3X9LOh2dk\n"
     ]
    },
    {
     "data": {
      "text/plain": [
       "\"Le déterminant | Essence de l'algèbre linéaire, chapitre 5\""
      ]
     },
     "metadata": {},
     "output_type": "display_data"
    },
    {
     "name": "stdout",
     "output_type": "stream",
     "text": [
      "rHLEWRxRGiM\n"
     ]
    },
    {
     "data": {
      "text/plain": [
       "\"Les transformation linéaires tridimensionnelles| Essence de l'algèbre linéaire, Chapitre 5\""
      ]
     },
     "metadata": {},
     "output_type": "display_data"
    },
    {
     "name": "stdout",
     "output_type": "stream",
     "text": [
      "XkY2DOUCWMU\n"
     ]
    },
    {
     "data": {
      "text/plain": [
       "\"La multiplication de matrices en tant que composition | Essence de l'algèbre linéaire, chapitre 4\""
      ]
     },
     "metadata": {},
     "output_type": "display_data"
    },
    {
     "name": "stdout",
     "output_type": "stream",
     "text": [
      "kYB8IZa5AuE\n"
     ]
    },
    {
     "data": {
      "text/plain": [
       "\"Transformations linéaires et matrices | Essence de l'algèbre linéaire, chapitre 3\""
      ]
     },
     "metadata": {},
     "output_type": "display_data"
    },
    {
     "name": "stdout",
     "output_type": "stream",
     "text": [
      "k7RM-ot2NWY\n"
     ]
    },
    {
     "data": {
      "text/plain": [
       "\"Combinaisons linéaires, vectoriel et vecteurs de base | Essence de l'algèbre linéaire, chapitre 2\""
      ]
     },
     "metadata": {},
     "output_type": "display_data"
    },
    {
     "name": "stdout",
     "output_type": "stream",
     "text": [
      "fNk_zzaMoSs\n"
     ]
    },
    {
     "data": {
      "text/plain": [
       "\"Qu'est-ce qu'un vecteur ? | Essence de l'algèbre linéaire, chapitre 1\""
      ]
     },
     "metadata": {},
     "output_type": "display_data"
    },
    {
     "name": "stdout",
     "output_type": "stream",
     "text": [
      "kjBOesZCoqc\n"
     ]
    },
    {
     "data": {
      "text/plain": [
       "'Essence of linear algebra preview'"
      ]
     },
     "metadata": {},
     "output_type": "display_data"
    },
    {
     "name": "stdout",
     "output_type": "stream",
     "text": [
      "sULa9Lc4pck\n"
     ]
    },
    {
     "data": {
      "text/plain": [
       "'Triangle of Power'"
      ]
     },
     "metadata": {},
     "output_type": "display_data"
    },
    {
     "name": "stdout",
     "output_type": "stream",
     "text": [
      "Cld0p3a43fU\n"
     ]
    },
    {
     "data": {
      "text/plain": [
       "'The Brachistochrone, with Steven Strogatz'"
      ]
     },
     "metadata": {},
     "output_type": "display_data"
    },
    {
     "name": "stdout",
     "output_type": "stream",
     "text": [
      "Iq1a_KJTWJ8\n"
     ]
    },
    {
     "data": {
      "text/plain": [
       "'Preuve de la Loi de Snell-Descartes en utilisant des ressorts'"
      ]
     },
     "metadata": {},
     "output_type": "display_data"
    },
    {
     "name": "stdout",
     "output_type": "stream",
     "text": [
      "RU0wScIj36o\n"
     ]
    },
    {
     "data": {
      "text/plain": [
       "'Fractal charm: Space filling curves'"
      ]
     },
     "metadata": {},
     "output_type": "display_data"
    },
    {
     "name": "stdout",
     "output_type": "stream",
     "text": [
      "cyW5z-M2yzw\n"
     ]
    },
    {
     "data": {
      "text/plain": [
       "'Musique et Théorie de la Mesure'"
      ]
     },
     "metadata": {},
     "output_type": "display_data"
    },
    {
     "name": "stdout",
     "output_type": "stream",
     "text": [
      "1SMmc9gQmHQ\n"
     ]
    },
    {
     "data": {
      "text/plain": [
       "'How to count to 1000 on two hands'"
      ]
     },
     "metadata": {},
     "output_type": "display_data"
    },
    {
     "name": "stdout",
     "output_type": "stream",
     "text": [
      "XFDM1ip5HdU\n"
     ]
    },
    {
     "data": {
      "text/plain": [
       "'What does it feel like to invent math?'"
      ]
     },
     "metadata": {},
     "output_type": "display_data"
    },
    {
     "name": "stdout",
     "output_type": "stream",
     "text": [
      "-9OUyo8NFZg\n"
     ]
    },
    {
     "data": {
      "text/plain": [
       "\"Euler's Formula and Graph Duality\""
      ]
     },
     "metadata": {},
     "output_type": "display_data"
    },
    {
     "name": "stdout",
     "output_type": "stream",
     "text": [
      "K8P8uFahAgc\n"
     ]
    },
    {
     "data": {
      "text/plain": [
       "'Solution de la division du cercle'"
      ]
     },
     "metadata": {},
     "output_type": "display_data"
    },
    {
     "name": "stdout",
     "output_type": "stream",
     "text": [
      "84hEmGHw3J8\n"
     ]
    },
    {
     "data": {
      "text/plain": [
       "'Un Motif Effectivement Curieux'"
      ]
     },
     "metadata": {},
     "output_type": "display_data"
    },
    {
     "name": "stdout",
     "output_type": "stream",
     "text": [
      "zLzLxVeqdQg\n"
     ]
    },
    {
     "data": {
      "text/plain": [
       "\"Euler's Formula Poem\""
      ]
     },
     "metadata": {},
     "output_type": "display_data"
    },
    {
     "name": "stdout",
     "output_type": "stream",
     "text": [
      "F_0yfvm0UoU\n"
     ]
    },
    {
     "data": {
      "text/plain": [
       "'comprendre exp(i*pi)'"
      ]
     },
     "metadata": {},
     "output_type": "display_data"
    }
   ],
   "source": [
    "videos_dict = {video['videoId']: video for video in videos}\n",
    "for id, video in videos_dict.items():\n",
    "    #print(video['videoId'])\n",
    "    #print(type(video))\n",
    "    print(id)\n",
    "    #print(type(video['title']))\n",
    "    display(video['title']['runs'][0]['text'])"
   ]
  }
 ],
 "metadata": {
  "language_info": {
   "name": "python"
  },
  "orig_nbformat": 4
 },
 "nbformat": 4,
 "nbformat_minor": 2
}

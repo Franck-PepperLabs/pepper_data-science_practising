{
 "cells": [
  {
   "cell_type": "markdown",
   "metadata": {},
   "source": [
    "# Books\n",
    "\n",
    "[H2009] T. Hastie, R. Tibshirani et J. Friedman, [“**Elements of Statistical Learning Ed. 2**](https://hastie.su.domains/Papers/ESLII.pdf)[”](https://drive.google.com/file/d/1wbK7Ii8bQliX7D3rKyGoR0-gxqJZ11iN/view?usp=share_link), Springer, 2009.\n",
    "\n",
    "[M2019] C. Molnar, [“**Interpretable Machine Learning**”](https://christophm.github.io/interpretable-ml-book/), 2019."
   ]
  },
  {
   "cell_type": "markdown",
   "metadata": {},
   "source": [
    "# Papers\n",
    "\n",
    "[Friedman2001] (1,2,3,4) Friedman, J.H. [“**Greedy function approximation: A gradient boosting machine**](https://projecteuclid.org/journals/annals-of-statistics/volume-29/issue-5/Greedy-function-approximation-A-gradient-boosting-machine/10.1214/aos/1013203451.full)[”](https://drive.google.com/file/d/1voZldAUTto1QS8z459_ZAEKalwo-uaE6/view?usp=share_link). Annals of Statistics, 29, 1189-1232, 2001.\n",
    "\n",
    "[Friedman2002] Friedman, J.H. [“**Stochastic gradient boosting.**](https://jerryfriedman.su.domains/ftp/stobst.pdf)[”](https://drive.google.com/file/d/1FXSz7-PvPPKxGMmr9aU0gRELhJzV0yyX/view?usp=share_link) Computational Statistics & Data Analysis, 38, 367-378, 2002\n",
    "\n",
    "[R2007] G. Ridgeway [“**Generalized Boosted Models: A guide to the gbm package**](https://cran.r-project.org/web/packages/gbm/vignettes/gbm.pdf)[”](https://drive.google.com/file/d/1ZqCUt3KbiZQkfyVHHIykj3KCGAeTY7j5/view?usp=share_link), 2006\n",
    "\n",
    "[G2015] A. Goldstein, A. Kapelner, J. Bleich, and E. Pitkin, [“**Peeking Inside the Black Box: Visualizing Statistical Learning With Plots of Individual Conditional Expectation**](https://arxiv.org/abs/1309.6392)[”](https://drive.google.com/file/d/1zGXt3Wk54sYV4fJaj4lhuotHDlQ9CLsN/view?usp=share_link). Journal of Computational and Graphical Statistics, 24(1): 44-65, 2015\n",
    "\n",
    "\n",
    "[B2001] L. Breiman, [“**Random Forests**](https://link.springer.com/content/pdf/10.1023/A:1010933404324.pdf)[”](https://drive.google.com/file/d/1Kb5Z81PDb2d_HGi0OBzJjWOzIq834G0y/view?usp=share_link), Machine Learning, 45(1), 5-32, 2001.\n",
    "\n",
    "\n",
    "\n",
    "\n",
    "## Ridge\n",
    "\n",
    "“**Notes on Regularized Least Squares**”, Rifkin & Lippert [(](https://drive.google.com/file/d/14EuBuRok9fMNfXPAExnb8-r2xBbkYU5K/view?usp=share_link)[*rapport technique*](http://cbcl.mit.edu/publications/ps/MIT-CSAIL-TR-2007-025.pdf), [*diapositives de cours*](https://www.mit.edu/~9.520/spring07/Classes/rlsslides.pdf)[)](https://drive.google.com/file/d/1EEnlzb0jI5yxebwN7atU9QnbVQwtYh0_/view?usp=share_link).\n",
    "\n",
    "## ...\n",
    "\n",
    "[FS1995] Y. Freund, and R. Schapire, [“**A Decision-Theoretic Generalization of On-Line Learning and an Application to Boosting**](https://reader.elsevier.com/reader/sd/pii/S002200009791504X?token=AD1674DDF28DD408B7DDD9B0CDADA79A121E6BB81335081764FF30C2992E13A694C3122F25D23A16EB9B688BE2D01526&originRegion=eu-west-1&originCreation=20221106045206)[”](https://drive.google.com/file/d/1hSyiKvcDxWcDzjiDvRBUEUsniwiaOdun/view?usp=share_link), 1997.\n",
    "\n",
    "[ZZRH2009] J Zhu, H. Zou, S. Rosset, T. Hastie, [“**Multi-class AdaBoost**](https://www.intlpress.com/site/pub/files/_fulltext/journals/sii/2009/0002/0003/SII-2009-0002-0003-a008.pdf)[”](https://drive.google.com/file/d/1xqvN5UIc9VebtSAwMJrUI-3LPRKSaQ4g/view?usp=share_link), Statistics and Its Interface, 2009.\n",
    "\n",
    "[D1997] Drucker. [“**Improving Regressors using Boosting Techniques**](https://www.researchgate.net/profile/Harris-Drucker/publication/2424244_Improving_Regressors_Using_Boosting_Techniques/links/0deec51ae736538cec000000/Improving-Regressors-Using-Boosting-Techniques.pdf)[”](https://drive.google.com/file/d/1LpxXmeVx5UR34hPrWnHmFBp_jiNzMar_/view?usp=share_link), 1997.\n",
    "\n",
    "\n",
    "## SVM\n",
    "\n",
    "[9] Platt [“**Probabilistic outputs for SVMs and comparisons to regularized likelihood methods**](https://home.cs.colorado.edu/~mozer/Teaching/syllabi/6622/papers/Platt1999.pdf)[”](https://drive.google.com/file/d/1cBfroxgInFyZmZ52e-iYi444d5w9AI2m/view?usp=share_link).\n",
    "\n",
    "[10] Wu, Lin and Weng, [“**Probability estimates for multi-class classification by pairwise coupling**](https://www.csie.ntu.edu.tw/~cjlin/papers/svmprob/svmprob.pdf)[”](https://drive.google.com/file/d/1DH6u13pnd9xxTAO1hs3OMY7MBFyQV13X/view?usp=share_link), JMLR 5:975-1005, 2004.\n",
    "\n",
    "[11] (1,2) Fan, Rong-En, et al., [“**LIBLINEAR: A library for large linear classification**](https://www.csie.ntu.edu.tw/~cjlin/papers/liblinear.pdf)[”](https://drive.google.com/file/d/1OgxjdAxo4_OnE0e-FGBBxF59YibgI1ns/view?usp=share_link), Journal of machine learning research 9.Aug (2008): 1871-1874.\n",
    "\n",
    "[12] (1,2) Chang and Lin, [“**LIBSVM: A Library for Support Vector Machines**](https://www.csie.ntu.edu.tw/~cjlin/papers/libsvm.pdf)[”](https://drive.google.com/file/d/18YORFpFwaXxh4-Ls4rApH5HfT0r8DKgO/view?usp=share_link).\n",
    "\n",
    "[13] Bishop, [“**Pattern recognition and machine learning**](https://www.microsoft.com/en-us/research/uploads/prod/2006/01/Bishop-Pattern-Recognition-and-Machine-Learning-2006.pdf)[”](https://drive.google.com/file/d/1TPZWto6Aj4qeaOmmD5xTwZ1TcI0_WVSr/view?usp=share_link), chapter 7 Sparse Kernel Machines\n",
    "\n",
    "[14] [**“A Tutorial on Support Vector Regression**](https://web.cs.dal.ca/~tt/CSCI650806/projects/papers/SmolaSchoelkopf.pdf)[”](https://drive.google.com/file/d/1eEwkHfY3OWXAc22_rvEHZrw4BQ8gk7ou/view?usp=share_link) Alex J. Smola, Bernhard Schölkopf - Statistics and Computing archive Volume 14 Issue 3, August 2004, p. 199-222.\n",
    "\n",
    "[15] Schölkopf et. al [**“New Support Vector Algorithms**](https://www.stat.purdue.edu/~yuzhu/stat598m3/Papers/NewSVM.pdf)[”](https://drive.google.com/file/d/1auxg6rehTRbBGzxmrxl_XLVphVxSIyAS/view?usp=share_link)\n",
    "\n",
    "[16] Crammer and Singer [**“On the Algorithmic Implementation ofMulticlass Kernel-based Vector Machines**](https://jmlr.csail.mit.edu/papers/volume2/crammer01a/crammer01a.pdf)[”](https://drive.google.com/file/d/1BOEbH6RpscH2dNi-RTgRZyG0-jCZgiua/view?usp=share_link), JMLR 2001.\n"
   ]
  }
 ],
 "metadata": {
  "kernelspec": {
   "display_name": "Python 3.9.12 ('base')",
   "language": "python",
   "name": "python3"
  },
  "language_info": {
   "name": "python",
   "version": "3.9.12"
  },
  "orig_nbformat": 4,
  "vscode": {
   "interpreter": {
    "hash": "e03b612d84ba21ce95ed447e81b3062e1eb99b56c6d885cdab4aaa12f1b8e240"
   }
  }
 },
 "nbformat": 4,
 "nbformat_minor": 2
}

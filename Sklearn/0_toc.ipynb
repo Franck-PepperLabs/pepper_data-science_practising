{
 "cells": [
  {
   "cell_type": "markdown",
   "metadata": {},
   "source": [
    "Objectif d'accès rapide.\n",
    "\n",
    "Et pour le temps du reste à étudier et traduire, pour point d'avancement / reste à faire.\n",
    "\n",
    "# Chapitres et sections"
   ]
  },
  {
   "cell_type": "markdown",
   "metadata": {},
   "source": [
    "# Exemples"
   ]
  },
  {
   "cell_type": "markdown",
   "metadata": {},
   "source": [
    "### Arrêt précoce de la descente de gradient stochastique\n",
    "\n",
    "User Guide | [Early stopping of Stochastic Gradient Descent](https://scikit-learn.org/stable/auto_examples/linear_model/plot_sgd_early_stopping.html?highlight=ignore_warnings#)\n",
    "\n",
    "Traduction | ... lien vers Github\n",
    "\n",
    "In :\n",
    "* [SGDClassifier](https://scikit-learn.org/stable/modules/generated/sklearn.linear_model.SGDClassifier.html)\n",
    "..."
   ]
  }
 ],
 "metadata": {
  "kernelspec": {
   "display_name": "Python 3.9.12 ('base')",
   "language": "python",
   "name": "python3"
  },
  "language_info": {
   "name": "python",
   "version": "3.9.12"
  },
  "orig_nbformat": 4,
  "vscode": {
   "interpreter": {
    "hash": "e03b612d84ba21ce95ed447e81b3062e1eb99b56c6d885cdab4aaa12f1b8e240"
   }
  }
 },
 "nbformat": 4,
 "nbformat_minor": 2
}

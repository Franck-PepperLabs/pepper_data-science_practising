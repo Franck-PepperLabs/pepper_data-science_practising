{
 "cells": [
  {
   "cell_type": "markdown",
   "metadata": {},
   "source": [
    "# [Introduction to GeoPandas](https://geopandas.org/en/stable/getting_started/introduction.html)\n",
    "\n"
   ]
  },
  {
   "cell_type": "markdown",
   "metadata": {},
   "source": [
    "## Instalation non triviale\n",
    "\n",
    "https://geopandas.org/en/stable/getting_started/install.html\n",
    "\n",
    "https://geopandas.org/en/stable/getting_started/install.html#dependencies"
   ]
  },
  {
   "cell_type": "markdown",
   "metadata": {},
   "source": [
    "### shapely (interface to GEOS; version 1.7 or later)\n",
    "\n",
    "* https://libgeos.org/\n",
    "* https://pypi.org/project/Shapely/\n",
    "* https://shapely.readthedocs.io/en/stable/\n",
    "* %pip install shapely"
   ]
  },
  {
   "cell_type": "code",
   "execution_count": 2,
   "metadata": {},
   "outputs": [
    {
     "data": {
      "text/plain": [
       "'POINT (0.0000000000000000 0.0000000000000000)'"
      ]
     },
     "execution_count": 2,
     "metadata": {},
     "output_type": "execute_result"
    }
   ],
   "source": [
    "from shapely.wkt import dumps, loads\n",
    "dumps(loads('POINT (0 0)'))"
   ]
  },
  {
   "cell_type": "markdown",
   "metadata": {},
   "source": [
    "### x fiona -> pyogrio (interface to GDAL; version 1.8 or later)\n",
    "\n",
    "* https://gdal.org/\n",
    "* https://www.osgeo.org/\n",
    "* https://fiona.readthedocs.io/en/latest/\n",
    "* https://pypi.org/project/Fiona/\n",
    "* https://pyogrio.readthedocs.io/en/latest/\n",
    "* %pip install pyogrio\n",
    "\n",
    "\n",
    "https://en.wikipedia.org/wiki/Open_Source_Geospatial_Foundation\n",
    "\n",
    "https://en.wikipedia.org/wiki/GDAL\n",
    "\n",
    "https://github.com/OSGeo/GDAL\n",
    "\n",
    "* fiona provides binary wheels with the dependencies included for Mac and Linux, but not for Windows. Alternatively, you can install pyogrio which does have wheels for Windows.\n",
    "* Depending on your platform, you might need to compile and install their C dependencies manually. We refer to the individual packages for more details on installing those. Using conda (see above) avoids the need to compile the dependencies yourself.\n",
    "\n",
    "\n",
    "ImportError: GDAL DLL could not be found.  It must be on the system PATH.\n",
    "\n",
    "Manifestement, la lib n'est pas comprise dans l'installation du package pyogrio.\n",
    "\n",
    "https://gdal.org/download.html#windows\n",
    "\n",
    "https://gdal.org/\n",
    "\n",
    "https://github.com/Microsoft/vcpkg\n",
    "\n",
    "https://github.com/microsoft/vcpkg/blob/master/README_fr.md\n",
    "\n",
    "https://anaconda.org/conda-forge/gdal\n",
    "\n",
    "https://trac.osgeo.org/osgeo4w/ : à tenter : 150 packages open source geospatial\n",
    "Tenté - maj de PATH, redémarrage.\n",
    "Nlle erreur : ImportError: DLL load failed while importing _ogr: Le module spécifié est introuvable.\n",
    "Ce à quoi je m'attendais se confirme : c'est juste chiant !\n",
    "\n",
    "Bon, je suis en échec sur cette install compliquée, rien ne fonctionne.\n",
    "\n",
    "Conda, ça ne fonctionne pas mieux que d'habitude.\n",
    "\n",
    "d'autres options, dont le build, mais je sais à quoi m'attendre : le truc qui colle aux doigts, long.\n",
    "\n",
    "stop pour aujourd'hui, j'y reviendrai + tard, mais c'est frustrant.\n"
   ]
  },
  {
   "cell_type": "code",
   "execution_count": 4,
   "metadata": {},
   "outputs": [
    {
     "name": "stdout",
     "output_type": "stream",
     "text": [
      "['c:\\\\Users\\\\franc\\\\Projects\\\\pepper_data-science_practising\\\\GeoPandas', 'c:\\\\Users\\\\franc\\\\anaconda3\\\\python39.zip', 'c:\\\\Users\\\\franc\\\\anaconda3\\\\DLLs', 'c:\\\\Users\\\\franc\\\\anaconda3\\\\lib', 'c:\\\\Users\\\\franc\\\\anaconda3', '', 'c:\\\\Users\\\\franc\\\\anaconda3\\\\lib\\\\site-packages', 'c:\\\\Users\\\\franc\\\\anaconda3\\\\lib\\\\site-packages\\\\win32', 'c:\\\\Users\\\\franc\\\\anaconda3\\\\lib\\\\site-packages\\\\win32\\\\lib', 'c:\\\\Users\\\\franc\\\\anaconda3\\\\lib\\\\site-packages\\\\Pythonwin']\n",
      "['c:\\\\Users\\\\franc\\\\Projects\\\\pepper_data-science_practising\\\\GeoPandas', 'c:\\\\Users\\\\franc\\\\anaconda3\\\\python39.zip', 'c:\\\\Users\\\\franc\\\\anaconda3\\\\DLLs', 'c:\\\\Users\\\\franc\\\\anaconda3\\\\lib', 'c:\\\\Users\\\\franc\\\\anaconda3', '', 'c:\\\\Users\\\\franc\\\\anaconda3\\\\lib\\\\site-packages', 'c:\\\\Users\\\\franc\\\\anaconda3\\\\lib\\\\site-packages\\\\win32', 'c:\\\\Users\\\\franc\\\\anaconda3\\\\lib\\\\site-packages\\\\win32\\\\lib', 'c:\\\\Users\\\\franc\\\\anaconda3\\\\lib\\\\site-packages\\\\Pythonwin', 'C:\\\\OSGeo4W\\\\bin']\n"
     ]
    }
   ],
   "source": [
    "import sys\n",
    "print(sys.path)\n",
    "sys.path += ['C:\\\\OSGeo4W\\\\bin']\n",
    "print(sys.path)"
   ]
  },
  {
   "cell_type": "code",
   "execution_count": 6,
   "metadata": {},
   "outputs": [
    {
     "data": {
      "text/plain": [
       "['c:\\\\Users\\\\franc\\\\anaconda3',\n",
       " 'C:\\\\Users\\\\franc\\\\anaconda3',\n",
       " 'C:\\\\Users\\\\franc\\\\anaconda3\\\\Library\\\\mingw-w64\\\\bin',\n",
       " 'C:\\\\Users\\\\franc\\\\anaconda3\\\\Library\\\\usr\\\\bin',\n",
       " 'C:\\\\Users\\\\franc\\\\anaconda3\\\\Library\\\\bin',\n",
       " 'C:\\\\Users\\\\franc\\\\anaconda3\\\\Scripts',\n",
       " 'C:\\\\Users\\\\franc\\\\anaconda3\\\\bin',\n",
       " 'C:\\\\Users\\\\franc\\\\anaconda3\\\\condabin',\n",
       " 'C:\\\\Windows\\\\system32',\n",
       " 'C:\\\\Windows',\n",
       " 'C:\\\\Windows\\\\System32\\\\Wbem',\n",
       " 'C:\\\\Windows\\\\System32\\\\WindowsPowerShell\\\\v1.0',\n",
       " 'C:\\\\Windows\\\\System32\\\\OpenSSH',\n",
       " 'C:\\\\Program Files (x86)\\\\NVIDIA Corporation\\\\PhysX\\\\Common',\n",
       " 'C:\\\\Program Files\\\\NVIDIA Corporation\\\\NVIDIA NvDLISR',\n",
       " 'C:\\\\Program Files\\\\IDM Computer Solutions\\\\UltraEdit',\n",
       " 'C:\\\\WINDOWS\\\\system32',\n",
       " 'C:\\\\WINDOWS',\n",
       " 'C:\\\\WINDOWS\\\\System32\\\\Wbem',\n",
       " 'C:\\\\WINDOWS\\\\System32\\\\WindowsPowerShell\\\\v1.0',\n",
       " 'C:\\\\WINDOWS\\\\System32\\\\OpenSSH',\n",
       " 'C:\\\\Program Files\\\\Git\\\\cmd',\n",
       " 'C:\\\\Program Files\\\\GTK3-Runtime Win64\\\\bin',\n",
       " 'C:\\\\OSGeo4W\\\\bin',\n",
       " 'C:\\\\Users\\\\franc\\\\AppData\\\\Local\\\\Microsoft\\\\WindowsApps',\n",
       " 'C:\\\\Users\\\\franc\\\\AppData\\\\Local\\\\Programs\\\\Microsoft VS Code\\\\bin',\n",
       " 'C:\\\\Program Files\\\\JetBrains\\\\PyCharm Community Edition 2022.1.3\\\\bin',\n",
       " '.',\n",
       " 'C:\\\\Users\\\\franc\\\\AppData\\\\Local\\\\GitHubDesktop\\\\bin']"
      ]
     },
     "metadata": {},
     "output_type": "display_data"
    }
   ],
   "source": [
    "import os\n",
    "display(os.getenv(\"PATH\", \"\").split(os.pathsep))\n"
   ]
  },
  {
   "cell_type": "code",
   "execution_count": 5,
   "metadata": {},
   "outputs": [
    {
     "ename": "ImportError",
     "evalue": "DLL load failed while importing _ogr: Le module spécifié est introuvable.",
     "output_type": "error",
     "traceback": [
      "\u001b[1;31m---------------------------------------------------------------------------\u001b[0m",
      "\u001b[1;31mImportError\u001b[0m                               Traceback (most recent call last)",
      "\u001b[1;32mc:\\Users\\franc\\Projects\\pepper_data-science_practising\\GeoPandas\\geopandas_user_guide.ipynb Cellule 7\u001b[0m in \u001b[0;36m<cell line: 1>\u001b[1;34m()\u001b[0m\n\u001b[1;32m----> <a href='vscode-notebook-cell:/c%3A/Users/franc/Projects/pepper_data-science_practising/GeoPandas/geopandas_user_guide.ipynb#W6sZmlsZQ%3D%3D?line=0'>1</a>\u001b[0m \u001b[39mfrom\u001b[39;00m \u001b[39mpyogrio\u001b[39;00m \u001b[39mimport\u001b[39;00m list_drivers\n\u001b[0;32m      <a href='vscode-notebook-cell:/c%3A/Users/franc/Projects/pepper_data-science_practising/GeoPandas/geopandas_user_guide.ipynb#W6sZmlsZQ%3D%3D?line=1'>2</a>\u001b[0m list_drivers()\n",
      "File \u001b[1;32mc:\\Users\\franc\\anaconda3\\lib\\site-packages\\pyogrio\\__init__.py:33\u001b[0m, in \u001b[0;36m<module>\u001b[1;34m\u001b[0m\n\u001b[0;32m     30\u001b[0m \u001b[39mdel\u001b[39;00m _delvewheel_init_patch_0_0_22\n\u001b[0;32m     31\u001b[0m \u001b[39m# end delvewheel patch\u001b[39;00m\n\u001b[1;32m---> 33\u001b[0m \u001b[39mfrom\u001b[39;00m \u001b[39mpyogrio\u001b[39;00m\u001b[39m.\u001b[39;00m\u001b[39mcore\u001b[39;00m \u001b[39mimport\u001b[39;00m (\n\u001b[0;32m     34\u001b[0m     list_drivers,\n\u001b[0;32m     35\u001b[0m     list_layers,\n\u001b[0;32m     36\u001b[0m     read_bounds,\n\u001b[0;32m     37\u001b[0m     read_info,\n\u001b[0;32m     38\u001b[0m     set_gdal_config_options,\n\u001b[0;32m     39\u001b[0m     get_gdal_config_option,\n\u001b[0;32m     40\u001b[0m     __gdal_version__,\n\u001b[0;32m     41\u001b[0m     __gdal_version_string__,\n\u001b[0;32m     42\u001b[0m     __gdal_geos_version__,\n\u001b[0;32m     43\u001b[0m )\n\u001b[0;32m     44\u001b[0m \u001b[39mfrom\u001b[39;00m \u001b[39mpyogrio\u001b[39;00m\u001b[39m.\u001b[39;00m\u001b[39mgeopandas\u001b[39;00m \u001b[39mimport\u001b[39;00m read_dataframe, write_dataframe\n\u001b[0;32m     45\u001b[0m \u001b[39mfrom\u001b[39;00m \u001b[39mpyogrio\u001b[39;00m\u001b[39m.\u001b[39;00m\u001b[39m_version\u001b[39;00m \u001b[39mimport\u001b[39;00m get_versions\n",
      "File \u001b[1;32mc:\\Users\\franc\\anaconda3\\lib\\site-packages\\pyogrio\\core.py:2\u001b[0m, in \u001b[0;36m<module>\u001b[1;34m\u001b[0m\n\u001b[0;32m      1\u001b[0m \u001b[39mfrom\u001b[39;00m \u001b[39mpyogrio\u001b[39;00m\u001b[39m.\u001b[39;00m\u001b[39m_env\u001b[39;00m \u001b[39mimport\u001b[39;00m GDALEnv\n\u001b[1;32m----> 2\u001b[0m \u001b[39mfrom\u001b[39;00m \u001b[39mpyogrio\u001b[39;00m\u001b[39m.\u001b[39;00m\u001b[39mutil\u001b[39;00m \u001b[39mimport\u001b[39;00m get_vsi_path\n\u001b[0;32m      5\u001b[0m \u001b[39mwith\u001b[39;00m GDALEnv():\n\u001b[0;32m      6\u001b[0m     \u001b[39mfrom\u001b[39;00m \u001b[39mpyogrio\u001b[39;00m\u001b[39m.\u001b[39;00m\u001b[39m_ogr\u001b[39;00m \u001b[39mimport\u001b[39;00m (\n\u001b[0;32m      7\u001b[0m         get_gdal_version,\n\u001b[0;32m      8\u001b[0m         get_gdal_version_string,\n\u001b[1;32m   (...)\u001b[0m\n\u001b[0;32m     15\u001b[0m         remove_virtual_file,\n\u001b[0;32m     16\u001b[0m     )\n",
      "File \u001b[1;32mc:\\Users\\franc\\anaconda3\\lib\\site-packages\\pyogrio\\util.py:8\u001b[0m, in \u001b[0;36m<module>\u001b[1;34m\u001b[0m\n\u001b[0;32m      5\u001b[0m \u001b[39mfrom\u001b[39;00m \u001b[39mpyogrio\u001b[39;00m\u001b[39m.\u001b[39;00m\u001b[39m_env\u001b[39;00m \u001b[39mimport\u001b[39;00m GDALEnv\n\u001b[0;32m      7\u001b[0m \u001b[39mwith\u001b[39;00m GDALEnv():\n\u001b[1;32m----> 8\u001b[0m     \u001b[39mfrom\u001b[39;00m \u001b[39mpyogrio\u001b[39;00m\u001b[39m.\u001b[39;00m\u001b[39m_ogr\u001b[39;00m \u001b[39mimport\u001b[39;00m buffer_to_virtual_file\n\u001b[0;32m     11\u001b[0m \u001b[39mdef\u001b[39;00m \u001b[39mget_vsi_path\u001b[39m(path_or_buffer):\n\u001b[0;32m     13\u001b[0m     \u001b[39mif\u001b[39;00m \u001b[39mhasattr\u001b[39m(path_or_buffer, \u001b[39m\"\u001b[39m\u001b[39mread\u001b[39m\u001b[39m\"\u001b[39m):\n",
      "\u001b[1;31mImportError\u001b[0m: DLL load failed while importing _ogr: Le module spécifié est introuvable."
     ]
    }
   ],
   "source": [
    "from pyogrio import list_drivers\n",
    "list_drivers()"
   ]
  },
  {
   "cell_type": "markdown",
   "metadata": {},
   "source": [
    "## Reading files"
   ]
  },
  {
   "cell_type": "code",
   "execution_count": 1,
   "metadata": {},
   "outputs": [
    {
     "ename": "ModuleNotFoundError",
     "evalue": "No module named 'geopandas'",
     "output_type": "error",
     "traceback": [
      "\u001b[1;31m---------------------------------------------------------------------------\u001b[0m",
      "\u001b[1;31mModuleNotFoundError\u001b[0m                       Traceback (most recent call last)",
      "\u001b[1;32mc:\\Users\\franc\\Projects\\pepper_data-science_practising\\GeoPandas\\geopandas_user_guide.ipynb Cellule 3\u001b[0m in \u001b[0;36m<cell line: 1>\u001b[1;34m()\u001b[0m\n\u001b[1;32m----> <a href='vscode-notebook-cell:/c%3A/Users/franc/Projects/pepper_data-science_practising/GeoPandas/geopandas_user_guide.ipynb#W3sZmlsZQ%3D%3D?line=0'>1</a>\u001b[0m \u001b[39mimport\u001b[39;00m \u001b[39mgeopandas\u001b[39;00m\n\u001b[0;32m      <a href='vscode-notebook-cell:/c%3A/Users/franc/Projects/pepper_data-science_practising/GeoPandas/geopandas_user_guide.ipynb#W3sZmlsZQ%3D%3D?line=2'>3</a>\u001b[0m path_to_data \u001b[39m=\u001b[39m geopandas\u001b[39m.\u001b[39mdatasets\u001b[39m.\u001b[39mget_path(\u001b[39m\"\u001b[39m\u001b[39mnybb\u001b[39m\u001b[39m\"\u001b[39m)\n\u001b[0;32m      <a href='vscode-notebook-cell:/c%3A/Users/franc/Projects/pepper_data-science_practising/GeoPandas/geopandas_user_guide.ipynb#W3sZmlsZQ%3D%3D?line=3'>4</a>\u001b[0m gdf \u001b[39m=\u001b[39m geopandas\u001b[39m.\u001b[39mread_file(path_to_data)\n",
      "\u001b[1;31mModuleNotFoundError\u001b[0m: No module named 'geopandas'"
     ]
    }
   ],
   "source": [
    "import geopandas\n",
    "\n",
    "path_to_data = geopandas.datasets.get_path(\"nybb\")\n",
    "gdf = geopandas.read_file(path_to_data)\n",
    "\n",
    "gdf\n",
    "\n"
   ]
  }
 ],
 "metadata": {
  "kernelspec": {
   "display_name": "Python 3.9.12 ('base')",
   "language": "python",
   "name": "python3"
  },
  "language_info": {
   "codemirror_mode": {
    "name": "ipython",
    "version": 3
   },
   "file_extension": ".py",
   "mimetype": "text/x-python",
   "name": "python",
   "nbconvert_exporter": "python",
   "pygments_lexer": "ipython3",
   "version": "3.9.12"
  },
  "orig_nbformat": 4,
  "vscode": {
   "interpreter": {
    "hash": "e03b612d84ba21ce95ed447e81b3062e1eb99b56c6d885cdab4aaa12f1b8e240"
   }
  }
 },
 "nbformat": 4,
 "nbformat_minor": 2
}

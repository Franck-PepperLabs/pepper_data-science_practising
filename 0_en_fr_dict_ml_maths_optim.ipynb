{
 "cells": [
  {
   "cell_type": "markdown",
   "metadata": {},
   "source": [
    "# **Maths for Machine learning : optimization**"
   ]
  },
  {
   "cell_type": "markdown",
   "metadata": {},
   "source": [
    "## _Dernières entrées\n",
    "\n",
    "#### ⦿ [**Lagrange multiplier**](https://en.wikipedia.org/wiki/Lagrange_multiplier) ([*Multiplicateur de Lagrange*](https://fr.wikipedia.org/wiki/Multiplicateur_de_Lagrange))\n",
    "\n"
   ]
  },
  {
   "cell_type": "markdown",
   "metadata": {},
   "source": [
    "## ⚓ [**Mathematical optimization**](https://en.wikipedia.org/wiki/Mathematical_optimization) ([*Optimisation mathématique*](https://fr.wikipedia.org/wiki/Optimisation_(mathématiques)))\n",
    "\n",
    "**Category**: [**Mathematical optimization**](https://en.wikipedia.org/wiki/Category:Mathematical_optimization)\n"
   ]
  },
  {
   "cell_type": "markdown",
   "metadata": {},
   "source": [
    "#### [**Convex optimization**](https://en.wikipedia.org/wiki/Convex_optimization) ([*Optimisation convexe*](https://fr.wikipedia.org/wiki/Optimisation_convexe))\n",
    "\n",
    "**Books**:\n",
    "* L. Vandenberghe & S. Boyd, [“**Convex Optimization**](https://web.stanford.edu/~boyd/cvxbook/bv_cvxbook.pdf)[”](https://drive.google.com/file/d/18iShMpUaxpTK_5WAWi_o2nI_4WZV1OsJ/view?usp=share_link), Cambridge, 2004 \n",
    "\n",
    "\n",
    "**Categories**: Convex analysis · Convex optimization · <u>Mathematical optimization</u>"
   ]
  },
  {
   "cell_type": "markdown",
   "metadata": {},
   "source": [
    "#### ⦿ [**Karush-Kuhn-Tucker conditions**](https://en.wikipedia.org/wiki/Karush-Kuhn-Tucker_conditions) ([*Conditions de Karush-Kuhn-Tucker*](https://fr.wikipedia.org/wiki/Conditions_de_Karush-Kuhn-Tucker))\n",
    "\n",
    "**Categories**: <u>Mathematical optimization</u> · Mathematical economics"
   ]
  }
 ],
 "metadata": {
  "kernelspec": {
   "display_name": "Python 3.9.12 ('base')",
   "language": "python",
   "name": "python3"
  },
  "language_info": {
   "name": "python",
   "version": "3.9.12 (main, Apr  4 2022, 05:22:27) [MSC v.1916 64 bit (AMD64)]"
  },
  "orig_nbformat": 4,
  "vscode": {
   "interpreter": {
    "hash": "e03b612d84ba21ce95ed447e81b3062e1eb99b56c6d885cdab4aaa12f1b8e240"
   }
  }
 },
 "nbformat": 4,
 "nbformat_minor": 2
}

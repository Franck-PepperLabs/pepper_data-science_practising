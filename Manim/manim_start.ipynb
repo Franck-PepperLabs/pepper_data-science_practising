{
 "cells": [
  {
   "attachments": {},
   "cell_type": "markdown",
   "metadata": {},
   "source": [
    "# **Manim start**\n",
    "\n",
    "https://www.manim.community/\n",
    "\n",
    "https://docs.manim.community/en/stable/installation/windows.html\n",
    "\n",
    "https://docs.manim.community/en/stable/reference/manim.utils.ipython_magic.ManimMagic.html#manim.utils.ipython_magic.ManimMagic.manim\n",
    "\n",
    "https://docs.manim.community/en/stable/installation/jupyter.html\n",
    "\n",
    "https://hub-binder.mybinder.ovh/user/manimcommunity-jupyter_examples-twu2u7ry/notebooks/First%20Steps%20with%20Manim.ipynb\n",
    "\n",
    "\n",
    "https://github.com/ManimCommunity/jupyter_examples/blob/main/First%20Steps%20with%20Manim.ipynb\n",
    "\n",
    "Blocage : conflit de version avec anaconda. Vu que cet environnement ne m'a pas convaincu, je désinstalle.\n",
    "\n",
    "30/01 maintenant ffmpeg ok maintenant LaTeX : https://miktex.org/download"
   ]
  },
  {
   "cell_type": "code",
   "execution_count": 3,
   "metadata": {},
   "outputs": [
    {
     "name": "stdout",
     "output_type": "stream",
     "text": [
      "Requirement already satisfied: pillow in c:\\users\\franc\\appdata\\local\\packages\\pythonsoftwarefoundation.python.3.10_qbz5n2kfra8p0\\localcache\\local-packages\\python310\\site-packages (9.2.0)\n",
      "Collecting pillow\n",
      "  Downloading Pillow-9.4.0-cp310-cp310-win_amd64.whl (2.5 MB)\n",
      "     ---------------------------------------- 2.5/2.5 MB 7.9 MB/s eta 0:00:00\n",
      "Installing collected packages: pillow\n",
      "  Attempting uninstall: pillow\n",
      "    Found existing installation: Pillow 9.2.0\n",
      "    Uninstalling Pillow-9.2.0:\n",
      "      Successfully uninstalled Pillow-9.2.0\n",
      "Successfully installed pillow-9.4.0\n"
     ]
    }
   ],
   "source": [
    "!pip install --upgrade pillow"
   ]
  },
  {
   "cell_type": "code",
   "execution_count": 3,
   "metadata": {},
   "outputs": [
    {
     "name": "stdout",
     "output_type": "stream",
     "text": [
      "Requirement already satisfied: manim in c:\\users\\franc\\appdata\\local\\packages\\pythonsoftwarefoundation.python.3.10_qbz5n2kfra8p0\\localcache\\local-packages\\python310\\site-packages (0.17.2)\n",
      "Requirement already satisfied: mapbox-earcut<2.0.0,>=1.0.0 in c:\\users\\franc\\appdata\\local\\packages\\pythonsoftwarefoundation.python.3.10_qbz5n2kfra8p0\\localcache\\local-packages\\python310\\site-packages (from manim) (1.0.1)\n",
      "Requirement already satisfied: cloup<0.14.0,>=0.13.0 in c:\\users\\franc\\appdata\\local\\packages\\pythonsoftwarefoundation.python.3.10_qbz5n2kfra8p0\\localcache\\local-packages\\python310\\site-packages (from manim) (0.13.1)\n",
      "Requirement already satisfied: decorator<6.0.0,>=5.0.7 in c:\\users\\franc\\appdata\\local\\packages\\pythonsoftwarefoundation.python.3.10_qbz5n2kfra8p0\\localcache\\local-packages\\python310\\site-packages (from manim) (5.1.1)\n",
      "Requirement already satisfied: moderngl-window<3.0.0,>=2.3.0 in c:\\users\\franc\\appdata\\local\\packages\\pythonsoftwarefoundation.python.3.10_qbz5n2kfra8p0\\localcache\\local-packages\\python310\\site-packages (from manim) (2.4.2)\n",
      "Requirement already satisfied: pycairo<2.0,>=1.21 in c:\\users\\franc\\appdata\\local\\packages\\pythonsoftwarefoundation.python.3.10_qbz5n2kfra8p0\\localcache\\local-packages\\python310\\site-packages (from manim) (1.23.0)\n",
      "Requirement already satisfied: numpy<2.0,>=1.19 in c:\\users\\franc\\appdata\\local\\packages\\pythonsoftwarefoundation.python.3.10_qbz5n2kfra8p0\\localcache\\local-packages\\python310\\site-packages (from manim) (1.23.2)\n",
      "Requirement already satisfied: manimpango<0.5.0,>=0.4.0.post0 in c:\\users\\franc\\appdata\\local\\packages\\pythonsoftwarefoundation.python.3.10_qbz5n2kfra8p0\\localcache\\local-packages\\python310\\site-packages (from manim) (0.4.3)\n",
      "Requirement already satisfied: colour<0.2.0,>=0.1.5 in c:\\users\\franc\\appdata\\local\\packages\\pythonsoftwarefoundation.python.3.10_qbz5n2kfra8p0\\localcache\\local-packages\\python310\\site-packages (from manim) (0.1.5)\n",
      "Requirement already satisfied: isosurfaces==0.1.0 in c:\\users\\franc\\appdata\\local\\packages\\pythonsoftwarefoundation.python.3.10_qbz5n2kfra8p0\\localcache\\local-packages\\python310\\site-packages (from manim) (0.1.0)\n",
      "Requirement already satisfied: click<=9.0,>=7.2 in c:\\users\\franc\\appdata\\local\\packages\\pythonsoftwarefoundation.python.3.10_qbz5n2kfra8p0\\localcache\\local-packages\\python310\\site-packages (from manim) (8.1.3)\n",
      "Requirement already satisfied: scipy<2.0.0,>=1.7.3 in c:\\users\\franc\\appdata\\local\\packages\\pythonsoftwarefoundation.python.3.10_qbz5n2kfra8p0\\localcache\\local-packages\\python310\\site-packages (from manim) (1.9.0)\n",
      "Requirement already satisfied: click-default-group<2.0.0,>=1.2.2 in c:\\users\\franc\\appdata\\local\\packages\\pythonsoftwarefoundation.python.3.10_qbz5n2kfra8p0\\localcache\\local-packages\\python310\\site-packages (from manim) (1.2.2)\n",
      "Requirement already satisfied: pydub<0.26.0,>=0.25.1 in c:\\users\\franc\\appdata\\local\\packages\\pythonsoftwarefoundation.python.3.10_qbz5n2kfra8p0\\localcache\\local-packages\\python310\\site-packages (from manim) (0.25.1)\n",
      "Requirement already satisfied: moderngl<6.0.0,>=5.6.3 in c:\\users\\franc\\appdata\\local\\packages\\pythonsoftwarefoundation.python.3.10_qbz5n2kfra8p0\\localcache\\local-packages\\python310\\site-packages (from manim) (5.7.4)\n",
      "Requirement already satisfied: Pygments<3.0.0,>=2.10.0 in c:\\users\\franc\\appdata\\local\\packages\\pythonsoftwarefoundation.python.3.10_qbz5n2kfra8p0\\localcache\\local-packages\\python310\\site-packages (from manim) (2.14.0)\n",
      "Requirement already satisfied: svgelements<2.0.0,>=1.8.0 in c:\\users\\franc\\appdata\\local\\packages\\pythonsoftwarefoundation.python.3.10_qbz5n2kfra8p0\\localcache\\local-packages\\python310\\site-packages (from manim) (1.9.0)\n",
      "Requirement already satisfied: networkx<3.0,>=2.5 in c:\\users\\franc\\appdata\\local\\packages\\pythonsoftwarefoundation.python.3.10_qbz5n2kfra8p0\\localcache\\local-packages\\python310\\site-packages (from manim) (2.8.8)\n",
      "Requirement already satisfied: rich!=12.0.0,>=6.0 in c:\\users\\franc\\appdata\\local\\packages\\pythonsoftwarefoundation.python.3.10_qbz5n2kfra8p0\\localcache\\local-packages\\python310\\site-packages (from manim) (13.3.1)\n",
      "Requirement already satisfied: tqdm<5.0.0,>=4.62.3 in c:\\users\\franc\\appdata\\local\\packages\\pythonsoftwarefoundation.python.3.10_qbz5n2kfra8p0\\localcache\\local-packages\\python310\\site-packages (from manim) (4.64.1)\n",
      "Requirement already satisfied: requests<3.0.0,>=2.26.0 in c:\\users\\franc\\appdata\\local\\packages\\pythonsoftwarefoundation.python.3.10_qbz5n2kfra8p0\\localcache\\local-packages\\python310\\site-packages (from manim) (2.28.1)\n",
      "Requirement already satisfied: watchdog<3.0.0,>=2.1.6 in c:\\users\\franc\\appdata\\local\\packages\\pythonsoftwarefoundation.python.3.10_qbz5n2kfra8p0\\localcache\\local-packages\\python310\\site-packages (from manim) (2.2.1)\n",
      "Requirement already satisfied: Pillow<10.0,>=9.1 in c:\\users\\franc\\appdata\\local\\packages\\pythonsoftwarefoundation.python.3.10_qbz5n2kfra8p0\\localcache\\local-packages\\python310\\site-packages (from manim) (9.4.0)\n",
      "Requirement already satisfied: screeninfo<0.9,>=0.8 in c:\\users\\franc\\appdata\\local\\packages\\pythonsoftwarefoundation.python.3.10_qbz5n2kfra8p0\\localcache\\local-packages\\python310\\site-packages (from manim) (0.8.1)\n",
      "Requirement already satisfied: skia-pathops<0.8.0,>=0.7.0 in c:\\users\\franc\\appdata\\local\\packages\\pythonsoftwarefoundation.python.3.10_qbz5n2kfra8p0\\localcache\\local-packages\\python310\\site-packages (from manim) (0.7.4)\n",
      "Requirement already satisfied: srt<4.0.0,>=3.5.0 in c:\\users\\franc\\appdata\\local\\packages\\pythonsoftwarefoundation.python.3.10_qbz5n2kfra8p0\\localcache\\local-packages\\python310\\site-packages (from manim) (3.5.2)\n",
      "Requirement already satisfied: colorama in c:\\users\\franc\\appdata\\local\\packages\\pythonsoftwarefoundation.python.3.10_qbz5n2kfra8p0\\localcache\\local-packages\\python310\\site-packages (from click<=9.0,>=7.2->manim) (0.4.6)\n",
      "Requirement already satisfied: glcontext<3,>=2.3.6 in c:\\users\\franc\\appdata\\local\\packages\\pythonsoftwarefoundation.python.3.10_qbz5n2kfra8p0\\localcache\\local-packages\\python310\\site-packages (from moderngl<6.0.0,>=5.6.3->manim) (2.3.7)\n",
      "Requirement already satisfied: pyglet>=2.0dev23 in c:\\users\\franc\\appdata\\local\\packages\\pythonsoftwarefoundation.python.3.10_qbz5n2kfra8p0\\localcache\\local-packages\\python310\\site-packages (from moderngl-window<3.0.0,>=2.3.0->manim) (2.0.3)\n",
      "Requirement already satisfied: pyrr<1,>=0.10.3 in c:\\users\\franc\\appdata\\local\\packages\\pythonsoftwarefoundation.python.3.10_qbz5n2kfra8p0\\localcache\\local-packages\\python310\\site-packages (from moderngl-window<3.0.0,>=2.3.0->manim) (0.10.3)\n",
      "Requirement already satisfied: certifi>=2017.4.17 in c:\\users\\franc\\appdata\\local\\packages\\pythonsoftwarefoundation.python.3.10_qbz5n2kfra8p0\\localcache\\local-packages\\python310\\site-packages (from requests<3.0.0,>=2.26.0->manim) (2022.6.15)\n",
      "Requirement already satisfied: urllib3<1.27,>=1.21.1 in c:\\users\\franc\\appdata\\local\\packages\\pythonsoftwarefoundation.python.3.10_qbz5n2kfra8p0\\localcache\\local-packages\\python310\\site-packages (from requests<3.0.0,>=2.26.0->manim) (1.26.11)\n",
      "Requirement already satisfied: charset-normalizer<3,>=2 in c:\\users\\franc\\appdata\\local\\packages\\pythonsoftwarefoundation.python.3.10_qbz5n2kfra8p0\\localcache\\local-packages\\python310\\site-packages (from requests<3.0.0,>=2.26.0->manim) (2.1.0)\n",
      "Requirement already satisfied: idna<4,>=2.5 in c:\\users\\franc\\appdata\\local\\packages\\pythonsoftwarefoundation.python.3.10_qbz5n2kfra8p0\\localcache\\local-packages\\python310\\site-packages (from requests<3.0.0,>=2.26.0->manim) (3.3)\n",
      "Requirement already satisfied: markdown-it-py<3.0.0,>=2.1.0 in c:\\users\\franc\\appdata\\local\\packages\\pythonsoftwarefoundation.python.3.10_qbz5n2kfra8p0\\localcache\\local-packages\\python310\\site-packages (from rich!=12.0.0,>=6.0->manim) (2.1.0)\n",
      "Requirement already satisfied: mdurl~=0.1 in c:\\users\\franc\\appdata\\local\\packages\\pythonsoftwarefoundation.python.3.10_qbz5n2kfra8p0\\localcache\\local-packages\\python310\\site-packages (from markdown-it-py<3.0.0,>=2.1.0->rich!=12.0.0,>=6.0->manim) (0.1.2)\n",
      "Requirement already satisfied: multipledispatch in c:\\users\\franc\\appdata\\local\\packages\\pythonsoftwarefoundation.python.3.10_qbz5n2kfra8p0\\localcache\\local-packages\\python310\\site-packages (from pyrr<1,>=0.10.3->moderngl-window<3.0.0,>=2.3.0->manim) (0.6.0)\n",
      "Requirement already satisfied: six in c:\\users\\franc\\appdata\\local\\packages\\pythonsoftwarefoundation.python.3.10_qbz5n2kfra8p0\\localcache\\local-packages\\python310\\site-packages (from multipledispatch->pyrr<1,>=0.10.3->moderngl-window<3.0.0,>=2.3.0->manim) (1.16.0)\n"
     ]
    }
   ],
   "source": [
    "!pip install manim"
   ]
  },
  {
   "cell_type": "code",
   "execution_count": 7,
   "metadata": {},
   "outputs": [
    {
     "name": "stdout",
     "output_type": "stream",
     "text": [
      "9.2.0\n"
     ]
    }
   ],
   "source": [
    "import PIL as pillow\n",
    "print(pillow.__version__)"
   ]
  },
  {
   "cell_type": "code",
   "execution_count": 12,
   "metadata": {},
   "outputs": [
    {
     "name": "stdout",
     "output_type": "stream",
     "text": [
      "Requirement already satisfied: pygments in c:\\users\\franc\\appdata\\local\\packages\\pythonsoftwarefoundation.python.3.10_qbz5n2kfra8p0\\localcache\\local-packages\\python310\\site-packages (2.14.0)\n"
     ]
    }
   ],
   "source": [
    "!pip install pygments --upgrade"
   ]
  },
  {
   "cell_type": "code",
   "execution_count": 3,
   "metadata": {},
   "outputs": [
    {
     "name": "stdout",
     "output_type": "stream",
     "text": [
      "2.14.0\n"
     ]
    }
   ],
   "source": [
    "#Pygments \n",
    "import pygments as pyg\n",
    "print(pyg.__version__)"
   ]
  },
  {
   "cell_type": "code",
   "execution_count": 1,
   "metadata": {},
   "outputs": [
    {
     "name": "stderr",
     "output_type": "stream",
     "text": [
      "C:\\Users\\franc\\AppData\\Local\\Packages\\PythonSoftwareFoundation.Python.3.10_qbz5n2kfra8p0\\LocalCache\\local-packages\\Python310\\site-packages\\pydub\\utils.py:170: RuntimeWarning: Couldn't find ffmpeg or avconv - defaulting to ffmpeg, but may not work\n",
      "  warn(\"Couldn't find ffmpeg or avconv - defaulting to ffmpeg, but may not work\", RuntimeWarning)\n"
     ]
    },
    {
     "data": {
      "text/html": [
       "<pre style=\"white-space:pre;overflow-x:auto;line-height:normal;font-family:Menlo,'DejaVu Sans Mono',consolas,'Courier New',monospace\">Manim Community <span style=\"color: #008000; text-decoration-color: #008000\">v0.17.2</span>\n",
       "\n",
       "</pre>\n"
      ],
      "text/plain": [
       "Manim Community \u001b[32mv0.\u001b[0m\u001b[32m17.2\u001b[0m\n",
       "\n"
      ]
     },
     "metadata": {},
     "output_type": "display_data"
    }
   ],
   "source": [
    "from manim import *\n",
    "\n",
    "class CreateCircle(Scene):\n",
    "    def construct(self):\n",
    "        circle = Circle()  # create a circle\n",
    "        circle.set_fill(PINK, opacity=0.5)  # set the color and transparency\n",
    "        self.play(Create(circle))  # show the circle on screen"
   ]
  },
  {
   "cell_type": "code",
   "execution_count": 1,
   "metadata": {},
   "outputs": [
    {
     "name": "stderr",
     "output_type": "stream",
     "text": [
      "C:\\Users\\franc\\AppData\\Local\\Packages\\PythonSoftwareFoundation.Python.3.10_qbz5n2kfra8p0\\LocalCache\\local-packages\\Python310\\site-packages\\pydub\\utils.py:170: RuntimeWarning: Couldn't find ffmpeg or avconv - defaulting to ffmpeg, but may not work\n",
      "  warn(\"Couldn't find ffmpeg or avconv - defaulting to ffmpeg, but may not work\", RuntimeWarning)\n"
     ]
    },
    {
     "data": {
      "text/html": [
       "<pre style=\"white-space:pre;overflow-x:auto;line-height:normal;font-family:Menlo,'DejaVu Sans Mono',consolas,'Courier New',monospace\">Manim Community <span style=\"color: #008000; text-decoration-color: #008000\">v0.17.2</span>\n",
       "\n",
       "</pre>\n"
      ],
      "text/plain": [
       "Manim Community \u001b[32mv0.\u001b[0m\u001b[32m17.2\u001b[0m\n",
       "\n"
      ]
     },
     "metadata": {},
     "output_type": "display_data"
    }
   ],
   "source": [
    "from manim import *\n",
    "\n",
    "config.media_width = \"75%\"\n",
    "config.verbosity = \"WARNING\""
   ]
  },
  {
   "cell_type": "code",
   "execution_count": 8,
   "metadata": {},
   "outputs": [
    {
     "name": "stdout",
     "output_type": "stream",
     "text": [
      "<module 'ntpath' from 'C:\\\\Program Files\\\\WindowsApps\\\\PythonSoftwareFoundation.Python.3.10_3.10.2544.0_x64__qbz5n2kfra8p0\\\\lib\\\\ntpath.py'>\n"
     ]
    }
   ],
   "source": [
    "import os\n",
    "print(os.path)"
   ]
  },
  {
   "cell_type": "code",
   "execution_count": 4,
   "metadata": {},
   "outputs": [],
   "source": [
    "import os\n",
    "\n",
    "new_path = \"C:/Users/franc/AppData/Local/Programs/ffmpeg-5.1.2-essentials_build/bin\"\n",
    "os.environ[\"PATH\"] += os.pathsep + new_path\n",
    "\n",
    "new_path = \"C:/Users/franc/AppData/Local/Programs/MiKTeX/miktex/bin/x64/\"\n",
    "os.environ[\"PATH\"] += os.pathsep + new_path"
   ]
  },
  {
   "cell_type": "code",
   "execution_count": 5,
   "metadata": {},
   "outputs": [],
   "source": [
    "%%manim -v WARNING --disable_caching -qm BannerExample\n",
    "\n",
    "config.media_width = \"75%\"\n",
    "config.media_embed = True\n",
    "\n",
    "class BannerExample(Scene):\n",
    "    def construct(self):\n",
    "        self.camera.background_color = \"#ece6e2\"\n",
    "        banner_large = ManimBanner(dark_theme=False).scale(0.7)\n",
    "        self.play(banner_large.create())\n",
    "        self.play(banner_large.expand())\n",
    "\n"
   ]
  }
 ],
 "metadata": {
  "kernelspec": {
   "display_name": "Python 3",
   "language": "python",
   "name": "python3"
  },
  "language_info": {
   "codemirror_mode": {
    "name": "ipython",
    "version": 3
   },
   "file_extension": ".py",
   "mimetype": "text/x-python",
   "name": "python",
   "nbconvert_exporter": "python",
   "pygments_lexer": "ipython3",
   "version": "3.10.9"
  },
  "orig_nbformat": 4,
  "vscode": {
   "interpreter": {
    "hash": "9aff9e50adfaa9e30c910fb3872ffdc72747acb5f50803ca0504f00e980f7c25"
   }
  }
 },
 "nbformat": 4,
 "nbformat_minor": 2
}
